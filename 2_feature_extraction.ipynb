{
 "cells": [
  {
   "cell_type": "code",
   "execution_count": null,
   "metadata": {},
   "outputs": [],
   "source": [
    "# %pip install -r requirements.txt"
   ]
  },
  {
   "cell_type": "markdown",
   "metadata": {},
   "source": [
    "## Feature Extraction\n",
    "The feature extraction pipelines are defined in this notebook. The pipeline in this notebook is used to extract the features described in the paper."
   ]
  },
  {
   "cell_type": "code",
   "execution_count": null,
   "metadata": {},
   "outputs": [],
   "source": [
    "import numpy as np\n",
    "import neurokit2 as nk"
   ]
  },
  {
   "cell_type": "code",
   "execution_count": null,
   "metadata": {},
   "outputs": [],
   "source": [
    "from collections import Counter"
   ]
  },
  {
   "cell_type": "code",
   "execution_count": null,
   "metadata": {},
   "outputs": [],
   "source": [
    "from sia import Segmenter\n",
    "from sia.io import read_csv, write_csv\n",
    "from sia.segmenters import SlidingWindow"
   ]
  },
  {
   "cell_type": "code",
   "execution_count": null,
   "metadata": {},
   "outputs": [],
   "source": [
    "from sia.features import extract_peaks, delineate, Waves\n",
    "from sia.features.time_domain import hr, hrv, time_domain, Statistic, Feature as TimeFeature\n",
    "from sia.features.frequency_domain import frequency_domain, Feature as FrequencyFeature\n",
    "from sia.features.nonlinear_domain import nonlinear_domain, Feature as NonlinearFeature\n",
    "from sia.features.morphology_domain import morphology_domain, Feature as MorphologyFeature"
   ]
  },
  {
   "cell_type": "code",
   "execution_count": null,
   "metadata": {},
   "outputs": [],
   "source": [
    "SAMPLING_RATE = 1000 # Hz\n",
    "WINDOW_SIZE = 60 * SAMPLING_RATE # seconds\n",
    "STEP_SIZE = 0.25 * SAMPLING_RATE # seconds"
   ]
  },
  {
   "cell_type": "markdown",
   "metadata": {},
   "source": [
    "### Feature Extraction Pipeline\n",
    "The pipeline defined below segments using a Sliding Window technique and calculates the features of the data. "
   ]
  },
  {
   "cell_type": "code",
   "execution_count": null,
   "metadata": {},
   "outputs": [],
   "source": [
    "Segmenter() \\\n",
    "    .data(read_csv('./data/cleaned/*.csv', columns=['ECG_Clean', 'ECG_R_Peaks', 'category'])) \\\n",
    "    .segment(SlidingWindow(WINDOW_SIZE, int(STEP_SIZE))) \\\n",
    "        .skip(lambda category: len(Counter(category)) > 1) \\\n",
    "        .extract('category', lambda category: Counter(category).most_common(1)[0][0]) \\\n",
    "        .use('rpeaks', lambda ECG_R_Peaks: extract_peaks(ECG_R_Peaks)) \\\n",
    "        .extract(hr([Statistic.MIN, Statistic.MAX, Statistic.MEAN, Statistic.STD])) \\\n",
    "        .extract(hrv([Statistic.MIN, Statistic.MAX, Statistic.MEAN, Statistic.STD, Statistic.RMS])) \\\n",
    "        .extract(time_domain([TimeFeature.CVNN, TimeFeature.CVSD, TimeFeature.NN20, TimeFeature.PNN20, TimeFeature.NN50, TimeFeature.PNN50])) \\\n",
    "        .extract(frequency_domain([FrequencyFeature.MIN, FrequencyFeature.MAX, FrequencyFeature.MEAN, FrequencyFeature.STD, FrequencyFeature.POWER, FrequencyFeature.COVARIANCE, FrequencyFeature.ENERGY, FrequencyFeature.ENTROPY])) \\\n",
    "        .extract(nonlinear_domain([NonlinearFeature.ENTROPY, NonlinearFeature.POINCARE, NonlinearFeature.RQA, NonlinearFeature.FRAGMENTATION])) \\\n",
    "        .use('tpeaks', lambda ECG_Clean: extract_peaks(delineate(Waves.T_Peak)(ECG_Clean))) \\\n",
    "        .extract(morphology_domain([MorphologyFeature.TWA])) \\\n",
    "    .to(write_csv('./data/features/[0-9]{5}.csv'))"
   ]
  }
 ],
 "metadata": {
  "kernelspec": {
   "display_name": "Python 3",
   "language": "python",
   "name": "python3"
  },
  "language_info": {
   "codemirror_mode": {
    "name": "ipython",
    "version": 3
   },
   "file_extension": ".py",
   "mimetype": "text/x-python",
   "name": "python",
   "nbconvert_exporter": "python",
   "pygments_lexer": "ipython3",
   "version": "3.9.6"
  }
 },
 "nbformat": 4,
 "nbformat_minor": 2
}
