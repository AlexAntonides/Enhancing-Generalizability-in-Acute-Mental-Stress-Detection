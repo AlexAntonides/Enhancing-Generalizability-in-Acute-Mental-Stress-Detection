{
 "cells": [
  {
   "cell_type": "code",
   "execution_count": 1,
   "metadata": {},
   "outputs": [
    {
     "name": "stderr",
     "output_type": "stream",
     "text": [
      "c:\\Users\\Admin\\AppData\\Local\\Programs\\Python\\Python311\\Lib\\site-packages\\tqdm\\auto.py:21: TqdmWarning: IProgress not found. Please update jupyter and ipywidgets. See https://ipywidgets.readthedocs.io/en/stable/user_install.html\n",
      "  from .autonotebook import tqdm as notebook_tqdm\n"
     ]
    }
   ],
   "source": [
    "import datasets\n",
    "from datasets import load_dataset\n",
    "from sklearn.model_selection import train_test_split"
   ]
  },
  {
   "cell_type": "code",
   "execution_count": 2,
   "metadata": {},
   "outputs": [],
   "source": [
    "import pandas as pd"
   ]
  },
  {
   "cell_type": "code",
   "execution_count": 3,
   "metadata": {},
   "outputs": [],
   "source": [
    "from pathlib import Path\n",
    "from glob import glob"
   ]
  },
  {
   "cell_type": "code",
   "execution_count": 4,
   "metadata": {},
   "outputs": [],
   "source": [
    "participants = [Path(path).stem for path in glob('./data/wesad_features_20s/*.csv')]\n",
    "train_participants, test_participants = train_test_split(participants, test_size=0.2)"
   ]
  },
  {
   "cell_type": "code",
   "execution_count": 5,
   "metadata": {},
   "outputs": [],
   "source": [
    "X_labels = ['mean_hr', 'std_hr', 'HRV_TINN', 'hrv_index', 'nn50', 'HRV_pNN50', 'mean_hrv', 'std_hrv', 'rms_hrv', 'mean_fourier_frequencies', 'std_fourier_frequencies', 'sum_psd']\n",
    "y_label = 'label'"
   ]
  },
  {
   "cell_type": "code",
   "execution_count": 6,
   "metadata": {},
   "outputs": [],
   "source": [
    "for participant in train_participants:\n",
    "    df = pd.read_csv(f'./data/wesad_features/{participant}.csv', index_col=0)\n",
    "    # \"I have chosen to discard weird data (HRV of 2s for example)\"\n",
    "    df = df[df['mean_hr'] > 2]\n",
    "    # \"I have also chosen to balance the data set to have 50% of stress data and 50% of non-stress data to improve learning\"\n",
    "    stress = df[df['label'] == 2]\n",
    "    n_stress_samples = len(stress)\n",
    "    n_per_non_stress = n_stress_samples // 3\n",
    "    meditation = df[df['label'] == 0].head(n_per_non_stress)\n",
    "    baseline = df[df['label'] == 1].head(n_per_non_stress)\n",
    "    amusement = df[df['label'] == 3].head(n_per_non_stress)\n",
    "    df = pd.concat([meditation, baseline, stress, amusement])\n",
    "\n",
    "    df['label'] = df['label'].map({0: 0, 1: 0, 2: 1, 3: 0})\n",
    "\n",
    "    df = df.fillna(0)\n",
    "    df = df[X_labels + [y_label]]\n",
    "\n",
    "    df.to_csv(f'./data/wesad_model_20s/{participant}.csv', index=False)\n",
    "    # print(f\"Train: {participant} len: {len(df)}, stress: {len(stress)} - non-stress: {len(meditation) + len(baseline) + len(amusement)} =  meditation: {len(meditation)}, baseline: {len(baseline)}, stress: {len(stress)}, amusement: {len(amusement)}\")"
   ]
  }
 ],
 "metadata": {
  "kernelspec": {
   "display_name": "Python 3",
   "language": "python",
   "name": "python3"
  },
  "language_info": {
   "codemirror_mode": {
    "name": "ipython",
    "version": 3
   },
   "file_extension": ".py",
   "mimetype": "text/x-python",
   "name": "python",
   "nbconvert_exporter": "python",
   "pygments_lexer": "ipython3",
   "version": "3.11.5"
  }
 },
 "nbformat": 4,
 "nbformat_minor": 2
}
