{
 "cells": [
  {
   "cell_type": "code",
   "execution_count": null,
   "metadata": {},
   "outputs": [],
   "source": [
    "from pathlib import Path\n",
    "from glob import glob"
   ]
  },
  {
   "cell_type": "code",
   "execution_count": null,
   "metadata": {},
   "outputs": [],
   "source": [
    "import datasets"
   ]
  },
  {
   "cell_type": "code",
   "execution_count": null,
   "metadata": {},
   "outputs": [],
   "source": [
    "import numpy as np\n",
    "import pandas as pd"
   ]
  },
  {
   "cell_type": "code",
   "execution_count": null,
   "metadata": {},
   "outputs": [],
   "source": [
    "import matplotlib.pyplot as plt\n",
    "import seaborn as sns"
   ]
  },
  {
   "cell_type": "code",
   "execution_count": null,
   "metadata": {},
   "outputs": [],
   "source": [
    "base_path = './data/ecg_final'"
   ]
  },
  {
   "cell_type": "code",
   "execution_count": null,
   "metadata": {},
   "outputs": [],
   "source": [
    "participants = [Path(path).stem for path in glob(f'{base_path}/*.csv')]"
   ]
  },
  {
   "cell_type": "code",
   "execution_count": null,
   "metadata": {},
   "outputs": [],
   "source": [
    "dataset = datasets.load_dataset(\n",
    "    f'{base_path}', \n",
    "    train_participants=participants[:10],\n",
    "    trust_remote_code=True\n",
    ")"
   ]
  },
  {
   "cell_type": "code",
   "execution_count": null,
   "metadata": {},
   "outputs": [],
   "source": [
    "def encode(samples):\n",
    "    baseline = ['Sitting', 'Recov1', 'Recov2', 'Recov3', 'Recov4', 'Recov5', 'Recov6']\n",
    "    mental_stress = ['TA', 'SSST_Sing_countdown', 'Pasat', 'Raven', 'TA_repeat', 'Pasat_repeat']\n",
    "    high_physical_stress = ['Treadmill1', 'Treadmill2', 'Treadmill3', 'Treadmill4', 'Walking_fast_pace', 'Cycling', 'stairs_up_and_down']\n",
    "    moderate_physical_stress = ['Walking_own_pace', 'Dishes', 'Vacuum']\n",
    "    low_physical_stress = ['Standing', 'Lying_supine', 'Recov_standing']\n",
    "    \n",
    "    def encode_multiclass(label):\n",
    "        if label in baseline:\n",
    "            return 0\n",
    "        elif label in mental_stress:\n",
    "            return 1\n",
    "        elif label in high_physical_stress:\n",
    "            return 2\n",
    "        elif label in moderate_physical_stress:\n",
    "            return 3\n",
    "        elif label in low_physical_stress:\n",
    "            return 4\n",
    "        else:\n",
    "            return -1\n",
    "        \n",
    "    return {\n",
    "        'category': [encode_multiclass(label) for label in samples['label']],\n",
    "    }\n"
   ]
  },
  {
   "cell_type": "code",
   "execution_count": null,
   "metadata": {},
   "outputs": [],
   "source": [
    "dataset = dataset.map(encode, batched=True, batch_size=2048, num_proc=4)\n",
    "dataset = dataset.filter(lambda x: x['category'] != -1)"
   ]
  },
  {
   "cell_type": "code",
   "execution_count": null,
   "metadata": {},
   "outputs": [],
   "source": [
    "# dataset = dataset.select_columns([\n",
    "#     \"label\",\n",
    "\n",
    "#     \"hrv_mean\",\n",
    "#     \"hrv_min\",\n",
    "#     \"hrv_max\",\n",
    "#     \"hrv_std\",\n",
    "#     \"hrv_rms\",\n",
    "#     \"hr_max\",\n",
    "#     \"rr_mean\",\n",
    "#     \"rr_min\",\n",
    "#     \"rr_max\",\n",
    "#     \"rr_std\",\n",
    "#     \"nn50\",\n",
    "#     \"pnn50\",\n",
    "#     \"rmssd\",\n",
    "#     \"MeanNN\",\n",
    "#     \"SDNN\",\n",
    "#     \"SDANN1\",\n",
    "#     \"SDNNI1\",\n",
    "#     \"SDANN2\",\n",
    "#     \"SDNNI2\",\n",
    "#     \"SDANN5\",\n",
    "#     \"SDNNI5\",\n",
    "#     \"RMSSD\",\n",
    "#     \"SDSD\",\n",
    "#     \"CVNN\",\n",
    "#     \"CVSD\",\n",
    "#     \"MedianNN\",\n",
    "#     \"MadNN\",\n",
    "#     \"MCVNN\",\n",
    "#     \"IQRNN\",\n",
    "#     \"SDRMSSD\",\n",
    "#     \"Prc20NN\",\n",
    "#     \"Prc80NN\",\n",
    "#     \"pNN50\",\n",
    "#     \"pNN20\",\n",
    "#     \"MinNN\",\n",
    "#     \"MaxNN\",\n",
    "#     \"HTI\",\n",
    "#     \"TINN\",\n",
    "#     \"twa\",\n",
    "\n",
    "#     # new\n",
    "#     'vhf_entropy',  # 0.28\n",
    "#     'lp_vhf_entropy', # 0.28\n",
    "#     'lp_vhf_max',   # 0.25\n",
    "#     'vhf_max',   # 0.25\n",
    "#     'lp_vhf_mean',   # 0.24\n",
    "#     'lp_vhf_std',   # 0.24\n",
    "#     'lp_vhf_energy', # 0.22\n",
    "#     'lp_vhf_power', # 0.22\n",
    "#     'lp_vhf_median',      # 0.21\n",
    "#     'vhf_std',      # 0.21\n",
    "#     'vhf_power',    # 0.21\n",
    "#     'vhf_mean',    # 0.21\n",
    "#     'tp_entropy',   # 0.21\n",
    "#     'vhf_median', # 0.19\n",
    "#     'lp_vhf_covariance', # 0.17\n",
    "#     'lp_lf_min', # 0.17\n",
    "#     'w',            # 0.17\n",
    "#     'PSS',          # 0.17\n",
    "#     'wmax',         # 0.16\n",
    "#     'hr_min',       # 0.16\n",
    "#     'lp_uhf_entropy', # 0.16\n",
    "#     'wen',          # 0.15\n",
    "#     'hr_mean',      # 0.15\n",
    "#     'PIP',          # 0.15\n",
    "#     'hf_entropy',   # 0.15\n",
    "#     'uhf_entropy',  # 0.14\n",
    "#     'IALS',         # 0.14\n",
    "#     'FuzzyEn',      # 0.14\n",
    "#     'SampEn',       # 0.13\n",
    "# ])"
   ]
  },
  {
   "cell_type": "code",
   "execution_count": null,
   "metadata": {},
   "outputs": [],
   "source": [
    "df = dataset['fit'].to_pandas()\n",
    "df = df.replace([np.inf, -np.inf], np.nan)\n",
    "df = df.dropna(axis=1, how='all')\n",
    "df = df.fillna(0)"
   ]
  },
  {
   "cell_type": "code",
   "execution_count": null,
   "metadata": {},
   "outputs": [],
   "source": [
    "sns.set_theme(rc={'figure.figsize':(40,20)})"
   ]
  },
  {
   "cell_type": "code",
   "execution_count": null,
   "metadata": {},
   "outputs": [],
   "source": [
    "df = df.loc[:, (df != 0).any(axis=0)]"
   ]
  },
  {
   "cell_type": "code",
   "execution_count": null,
   "metadata": {},
   "outputs": [],
   "source": [
    "# df = df[\n",
    "# ]]"
   ]
  },
  {
   "cell_type": "markdown",
   "metadata": {},
   "source": [
    "## Non-Linearity"
   ]
  },
  {
   "cell_type": "code",
   "execution_count": null,
   "metadata": {},
   "outputs": [],
   "source": [
    "import phik\n",
    "from phik import resources, report"
   ]
  },
  {
   "cell_type": "code",
   "execution_count": null,
   "metadata": {},
   "outputs": [],
   "source": [
    "from pandas.plotting import scatter_matrix "
   ]
  },
  {
   "cell_type": "code",
   "execution_count": null,
   "metadata": {},
   "outputs": [],
   "source": [
    "pd.set_option('display.max_columns', None)\n",
    "pd.set_option(\"display.max_rows\", None)"
   ]
  },
  {
   "cell_type": "code",
   "execution_count": null,
   "metadata": {},
   "outputs": [],
   "source": [
    "sample = df[(df['category'] == 0) | (df['category'] == 1)]"
   ]
  },
  {
   "cell_type": "code",
   "execution_count": null,
   "metadata": {},
   "outputs": [],
   "source": [
    "sample.drop(['label'], axis=1).corrwith(sample['category']).sort_values()"
   ]
  },
  {
   "cell_type": "code",
   "execution_count": null,
   "metadata": {},
   "outputs": [],
   "source": [
    "for label in df[(df['category'] == 1)]['label'].unique():\n",
    "    sample = df[(df['category'] == 0) | (df['label'] == label)]\n",
    "    print(label)\n",
    "    display(sample.phik_matrix())"
   ]
  },
  {
   "cell_type": "code",
   "execution_count": null,
   "metadata": {},
   "outputs": [],
   "source": [
    "phik_matrix = df[(df['label'] == 0) | (df['label'] == 1)].phik_matrix(njobs=6)\n",
    "phik_matrix"
   ]
  },
  {
   "cell_type": "code",
   "execution_count": null,
   "metadata": {},
   "outputs": [],
   "source": [
    "# sns.set_theme(rc={'figure.figsize':(160,80)})\n",
    "sns.set_theme(rc={'figure.figsize':(80,40)})"
   ]
  },
  {
   "cell_type": "code",
   "execution_count": null,
   "metadata": {},
   "outputs": [],
   "source": [
    "sns.heatmap(phik_matrix, cmap='Blues', annot=True)"
   ]
  },
  {
   "cell_type": "code",
   "execution_count": null,
   "metadata": {},
   "outputs": [],
   "source": [
    "df[(df['label'] == 0) | (df['label'] == 2)].phik_matrix(njobs=6)"
   ]
  },
  {
   "cell_type": "code",
   "execution_count": null,
   "metadata": {},
   "outputs": [],
   "source": [
    "sns.heatmap(df[(df['label'] == 0) | (df['label'] == 2)].phik_matrix(njobs=6), cmap='Blues', annot=True)"
   ]
  },
  {
   "cell_type": "code",
   "execution_count": null,
   "metadata": {},
   "outputs": [],
   "source": [
    "significance_matrix = df[(df['label'] == 0) | (df['label'] == 1)].significance_matrix(njobs=6)\n",
    "significance_matrix"
   ]
  },
  {
   "cell_type": "code",
   "execution_count": null,
   "metadata": {},
   "outputs": [],
   "source": [
    "sns.heatmap(significance_matrix, cmap='Blues', annot=True)"
   ]
  },
  {
   "cell_type": "markdown",
   "metadata": {},
   "source": [
    "## Linearity"
   ]
  },
  {
   "cell_type": "code",
   "execution_count": null,
   "metadata": {},
   "outputs": [],
   "source": [
    "sns.heatmap(df[(df['label'] == 0) | (df['label'] == 1)].corr(), cmap=\"Blues\", annot=True)"
   ]
  },
  {
   "cell_type": "code",
   "execution_count": null,
   "metadata": {},
   "outputs": [],
   "source": [
    "sns.heatmap(df[(df['label'] == 0) | (df['label'] == 2)].corr(), cmap=\"Blues\", annot=True)"
   ]
  },
  {
   "cell_type": "code",
   "execution_count": null,
   "metadata": {},
   "outputs": [],
   "source": [
    "sns.heatmap(df[(df['label'] == 1) | (df['label'] == 2)].corr(), cmap=\"Blues\", annot=True)"
   ]
  },
  {
   "cell_type": "code",
   "execution_count": null,
   "metadata": {},
   "outputs": [],
   "source": [
    "sns.heatmap(df[(df['label'] == 0) | (df['label'] == 1) | (df['label'] == 2)].corr(), cmap=\"Blues\", annot=True)"
   ]
  },
  {
   "cell_type": "code",
   "execution_count": null,
   "metadata": {},
   "outputs": [],
   "source": [
    "sns.heatmap(df.corr(), cmap=\"Blues\", annot=True)"
   ]
  },
  {
   "cell_type": "code",
   "execution_count": null,
   "metadata": {},
   "outputs": [],
   "source": []
  }
 ],
 "metadata": {
  "kernelspec": {
   "display_name": "Python 3",
   "language": "python",
   "name": "python3"
  },
  "language_info": {
   "codemirror_mode": {
    "name": "ipython",
    "version": 3
   },
   "file_extension": ".py",
   "mimetype": "text/x-python",
   "name": "python",
   "nbconvert_exporter": "python",
   "pygments_lexer": "ipython3",
   "version": "3.11.5"
  }
 },
 "nbformat": 4,
 "nbformat_minor": 2
}
