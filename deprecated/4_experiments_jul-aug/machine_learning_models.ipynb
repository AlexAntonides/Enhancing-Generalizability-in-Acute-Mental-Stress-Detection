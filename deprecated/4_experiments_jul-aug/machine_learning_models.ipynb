{
 "cells": [
  {
   "cell_type": "code",
   "execution_count": 1,
   "metadata": {},
   "outputs": [],
   "source": [
    "import uuid\n",
    "from enum import Enum"
   ]
  },
  {
   "cell_type": "code",
   "execution_count": 2,
   "metadata": {},
   "outputs": [],
   "source": [
    "from glob import glob\n",
    "from pathlib import Path\n",
    "from joblib import Parallel, delayed"
   ]
  },
  {
   "cell_type": "code",
   "execution_count": 3,
   "metadata": {},
   "outputs": [],
   "source": [
    "import numpy as np\n",
    "import pandas as pd\n",
    "import datasets"
   ]
  },
  {
   "cell_type": "code",
   "execution_count": 4,
   "metadata": {},
   "outputs": [],
   "source": [
    "from tqdm import tqdm"
   ]
  },
  {
   "cell_type": "code",
   "execution_count": 5,
   "metadata": {},
   "outputs": [],
   "source": [
    "from prettytable import PrettyTable"
   ]
  },
  {
   "cell_type": "code",
   "execution_count": 6,
   "metadata": {},
   "outputs": [],
   "source": [
    "import optuna\n",
    "import seaborn as sns\n",
    "import matplotlib.pyplot as plt"
   ]
  },
  {
   "cell_type": "code",
   "execution_count": 7,
   "metadata": {},
   "outputs": [],
   "source": [
    "import sklearn\n",
    "\n",
    "from sklearn import metrics\n",
    "from sklearn.model_selection import train_test_split, RandomizedSearchCV, cross_val_score, KFold\n",
    "from sklearn.metrics import mean_absolute_error, mean_squared_error, r2_score, balanced_accuracy_score\n",
    "from sklearn.ensemble import RandomForestClassifier, AdaBoostClassifier\n",
    "from sklearn.tree import DecisionTreeClassifier\n",
    "from sklearn.discriminant_analysis import LinearDiscriminantAnalysis, QuadraticDiscriminantAnalysis\n",
    "from sklearn.neighbors import KNeighborsClassifier\n",
    "from sklearn.linear_model import LogisticRegression\n",
    "from sklearn.inspection import permutation_importance\n",
    "\n",
    "from xgboost import XGBClassifier"
   ]
  },
  {
   "cell_type": "code",
   "execution_count": 8,
   "metadata": {},
   "outputs": [],
   "source": [
    "base_path = './data/ecg_final'"
   ]
  },
  {
   "cell_type": "code",
   "execution_count": 9,
   "metadata": {},
   "outputs": [],
   "source": [
    "participants = [Path(path).stem for path in glob(f'{base_path}/*.csv')]\n",
    "train_participants, test_participants = train_test_split(participants, test_size=0.2, random_state=42)"
   ]
  },
  {
   "cell_type": "code",
   "execution_count": 10,
   "metadata": {},
   "outputs": [],
   "source": [
    "def encode(baseline = 0, mental_stress = -1, high_physical_activity = -1, moderate_physical_activity = -1, low_physical_activity = -1):\n",
    "    def inner(labels):\n",
    "        baseline_list = ['Sitting', 'Recov1', 'Recov2', 'Recov3', 'Recov4', 'Recov5', 'Recov6']\n",
    "        mental_stress_list = ['TA', 'SSST_Sing_countdown', 'Pasat', 'Raven', 'TA_repeat', 'Pasat_repeat']\n",
    "        high_physical_stress_list = ['Treadmill1', 'Treadmill2', 'Treadmill3', 'Treadmill4', 'Walking_fast_pace', 'Cycling', 'stairs_up_and_down']\n",
    "        moderate_physical_stress_list = ['Walking_own_pace', 'Dishes', 'Vacuum']\n",
    "        low_physical_stress_list = ['Standing', 'Lying_supine', 'Recov_standing']\n",
    "        \n",
    "        def encode_multiclass(label):\n",
    "            if label in baseline_list:\n",
    "                return baseline\n",
    "            elif label in mental_stress_list:\n",
    "                return mental_stress\n",
    "            elif label in high_physical_stress_list:\n",
    "                return high_physical_activity\n",
    "            elif label in moderate_physical_stress_list:\n",
    "                return moderate_physical_activity\n",
    "            elif label in low_physical_stress_list:\n",
    "                return low_physical_activity\n",
    "            else:\n",
    "                return -1\n",
    "            \n",
    "        return {\n",
    "            'label': [encode_multiclass(label) for label in labels],\n",
    "        }\n",
    "    return inner\n",
    "\n",
    "def clean(dataset, mapping={}):\n",
    "    dataset = dataset.map(\n",
    "        encode(**mapping), \n",
    "        batched=True, \n",
    "        batch_size=2048, \n",
    "        input_columns=['label'],\n",
    "        num_proc=4\n",
    "    )\n",
    "    return dataset.filter(\n",
    "        lambda label: label != -1,\n",
    "        input_columns=['label'],\n",
    "    )\n"
   ]
  },
  {
   "cell_type": "code",
   "execution_count": 11,
   "metadata": {},
   "outputs": [],
   "source": [
    "class Model(Enum):\n",
    "    DecisionTree = 1\n",
    "    RandomForest = 2 \n",
    "    AdaBoost = 3\n",
    "    LinearDiscriminantAnalysis = 4\n",
    "    KNearestNeighbors = 5\n",
    "    LogisticRegression = 6\n",
    "    XGBoost = 7\n",
    "    QuadraticDiscriminantAnalysis = 8\n",
    "    DummyClassifier = 9"
   ]
  },
  {
   "cell_type": "code",
   "execution_count": 12,
   "metadata": {},
   "outputs": [],
   "source": [
    "X_labels =  [\n",
    "    \"hrv_mean\",\n",
    "    \"hrv_min\",\n",
    "    \"hrv_max\",\n",
    "    \"hrv_std\",\n",
    "    \"hrv_rms\",\n",
    "    \"hr_max\",\n",
    "    \"rr_mean\",\n",
    "    \"rr_min\",\n",
    "    \"rr_max\",\n",
    "    \"rr_std\",\n",
    "    \"nn50\",\n",
    "    \"pnn50\",\n",
    "    \"rmssd\",\n",
    "    \"MeanNN\",\n",
    "    \"SDNN\",\n",
    "    \"SDANN1\",\n",
    "    \"SDNNI1\",\n",
    "    \"SDANN2\",\n",
    "    \"SDNNI2\",\n",
    "    \"SDANN5\",\n",
    "    \"SDNNI5\",\n",
    "    \"RMSSD\",\n",
    "    \"SDSD\",\n",
    "    \"CVNN\",\n",
    "    \"CVSD\",\n",
    "    \"MedianNN\",\n",
    "    \"MadNN\",\n",
    "    \"MCVNN\",\n",
    "    \"IQRNN\",\n",
    "    \"SDRMSSD\",\n",
    "    \"Prc20NN\",\n",
    "    \"Prc80NN\",\n",
    "    \"pNN50\",\n",
    "    \"pNN20\",\n",
    "    \"MinNN\",\n",
    "    \"MaxNN\",\n",
    "    \"HTI\",\n",
    "    \"TINN\",\n",
    "    \"twa\",\n",
    "\n",
    "    # new\n",
    "    'vhf_entropy',  # 0.28\n",
    "    'lp_vhf_entropy', # 0.28\n",
    "    'lp_vhf_max',   # 0.25\n",
    "    'vhf_max',   # 0.25\n",
    "    'lp_vhf_mean',   # 0.24\n",
    "    'lp_vhf_std',   # 0.24\n",
    "    'lp_vhf_energy', # 0.22\n",
    "    'lp_vhf_power', # 0.22\n",
    "    'lp_vhf_median',      # 0.21\n",
    "    'vhf_std',      # 0.21\n",
    "    'vhf_power',    # 0.21\n",
    "    'vhf_mean',    # 0.21\n",
    "    'tp_entropy',   # 0.21\n",
    "    'vhf_median', # 0.19\n",
    "    'lp_vhf_covariance', # 0.17\n",
    "    'lp_lf_min', # 0.17\n",
    "    'w',            # 0.17\n",
    "    'PSS',          # 0.17\n",
    "    'wmax',         # 0.16\n",
    "    'hr_min',       # 0.16\n",
    "    'lp_uhf_entropy', # 0.16\n",
    "    'wen',          # 0.15\n",
    "    'hr_mean',      # 0.15\n",
    "    'PIP',          # 0.15\n",
    "    'hf_entropy',   # 0.15\n",
    "    'uhf_entropy',  # 0.14\n",
    "    'IALS',         # 0.14\n",
    "    'FuzzyEn',      # 0.14\n",
    "    'SampEn',       # 0.13\n",
    "]\n",
    "y_label = 'label'"
   ]
  },
  {
   "cell_type": "code",
   "execution_count": 13,
   "metadata": {},
   "outputs": [],
   "source": [
    "def train(model:int, train_indices, val_indices, params, mapping = {}):\n",
    "    dataset = datasets.load_dataset(\n",
    "        f'{base_path}', \n",
    "        train_participants=[train_participants[i] for i in train_indices],\n",
    "        val_participants=[train_participants[i] for i in val_indices],\n",
    "        test_participants=test_participants,\n",
    "        trust_remote_code=True\n",
    "    )\n",
    "\n",
    "    dataset = dataset.select_columns([y_label] + X_labels)\n",
    "    dataset = clean(dataset, mapping=mapping)\n",
    "    \n",
    "    train = dataset['fit'].to_pandas().replace([np.inf, -np.inf, np.nan], 0)\n",
    "\n",
    "    X_train, y_train = train[X_labels], train[y_label]\n",
    "    del train\n",
    "\n",
    "    if model == 1:\n",
    "        cls = DecisionTreeClassifier( **params, random_state=42)\n",
    "    elif model == 2:\n",
    "        cls = RandomForestClassifier(**params, random_state=42, bootstrap=False)\n",
    "    elif model == 3:\n",
    "        cls = AdaBoostClassifier(base_estimator=DecisionTreeClassifier(criterion='entropy', min_samples_split=20), **params)\n",
    "    elif model == 4:\n",
    "        cls = LinearDiscriminantAnalysis(**params)\n",
    "    elif model == 5:\n",
    "        cls = KNeighborsClassifier(**params)\n",
    "    elif model == 6:\n",
    "        cls = LogisticRegression(**params)\n",
    "    elif model == 7:\n",
    "        cls = XGBClassifier(**params)\n",
    "    elif model == 8:\n",
    "        cls = QuadraticDiscriminantAnalysis(**params)\n",
    "    elif model == 9:\n",
    "        cls = sklearn.dummy.DummyClassifier(**params)\n",
    "    else: \n",
    "        raise ValueError('Invalid model')\n",
    "\n",
    "    cls.fit(X_train, y_train)\n",
    "\n",
    "    del X_train\n",
    "\n",
    "    val = dataset['validate'].to_pandas().replace([np.inf, -np.inf, np.nan], 0)\n",
    "    X_val, y_val = val[X_labels], val[y_label]\n",
    "    del val\n",
    "\n",
    "    test = dataset['test'].to_pandas().replace([np.inf, -np.inf, np.nan], 0)\n",
    "    X_test, y_test = test[X_labels], test[y_label]\n",
    "    del test\n",
    "\n",
    "    data = {\n",
    "        'val_accuracy': sklearn.metrics.accuracy_score(y_val, cls.predict(X_val)),\n",
    "        'val_balanced_accuracy': sklearn.metrics.balanced_accuracy_score(y_val, cls.predict(X_val)),\n",
    "        'test_accuracy': sklearn.metrics.accuracy_score(y_test, cls.predict(X_test)),\n",
    "        'test_balanced_accuracy': sklearn.metrics.balanced_accuracy_score(y_test, cls.predict(X_test)),\n",
    "    }\n",
    "\n",
    "    if len(y_train.unique()) == 2:\n",
    "        ## binary\n",
    "        data['val_f1'] = sklearn.metrics.f1_score(y_val, cls.predict(X_val))\n",
    "        data['test_f1'] = sklearn.metrics.f1_score(y_test, cls.predict(X_test))\n",
    "\n",
    "        # AUC\n",
    "        data['val_auc'] = sklearn.metrics.roc_auc_score(y_val, cls.predict_proba(X_val)[:, 1])\n",
    "        data['test_auc'] = sklearn.metrics.roc_auc_score(y_test, cls.predict_proba(X_test)[:, 1])\n",
    "        \n",
    "        # Confusion Matrix\n",
    "        val_cm = sklearn.metrics.confusion_matrix(y_val, cls.predict(X_val), labels=y_train.unique())\n",
    "        test_cm = sklearn.metrics.confusion_matrix(y_test, cls.predict(X_test), labels=y_train.unique())\n",
    "\n",
    "        data['val_cm'] = val_cm\n",
    "        data['test_cm'] = test_cm\n",
    "    else: \n",
    "        # multiclass\n",
    "        data['val_f1'] = sklearn.metrics.f1_score(y_val, cls.predict(X_val), average='micro')\n",
    "        data['test_f1'] = sklearn.metrics.f1_score(y_test, cls.predict(X_test), average='micro')\n",
    "\n",
    "        # AUC (one-vs-rest)\n",
    "        y_val_bin = sklearn.preprocessing.label_binarize(y_val, classes=np.unique(y_train))\n",
    "        y_test_bin = sklearn.preprocessing.label_binarize(y_test, classes=np.unique(y_train))\n",
    "        \n",
    "        val_auc = sklearn.metrics.roc_auc_score(y_val_bin, cls.predict_proba(X_val), average='macro', multi_class='ovr')\n",
    "        test_auc = sklearn.metrics.roc_auc_score(y_test_bin, cls.predict_proba(X_test), average='macro', multi_class='ovr')\n",
    "        \n",
    "        data['val_auc'] = val_auc\n",
    "        data['test_auc'] = test_auc\n",
    "        \n",
    "        # Confusion Matrix\n",
    "        val_cm = sklearn.metrics.confusion_matrix(y_val, cls.predict(X_val), labels=y_train.unique())\n",
    "        test_cm = sklearn.metrics.confusion_matrix(y_test, cls.predict(X_test), labels=y_train.unique())\n",
    "\n",
    "        data['val_cm'] = val_cm\n",
    "        data['test_cm'] = test_cm\n",
    "\n",
    "    del y_train, X_val, y_val\n",
    "    \n",
    "    if model == 2:\n",
    "        importances = cls.feature_importances_\n",
    "        feature_importance = pd.DataFrame(importances, index=X_labels, columns=[\"importance\"])\n",
    "        feature_importance[\"std\"] = np.std([tree.feature_importances_ for tree in cls.estimators_], axis=0)\n",
    "        feature_importance.sort_values(by='importance', ascending=False, inplace=True)\n",
    "\n",
    "        result = permutation_importance(\n",
    "            cls, X_test, y_test, n_repeats=10, random_state=42\n",
    "        )\n",
    "        permutation_importances = pd.DataFrame(result.importances_mean, index=X_labels, columns=[\"importance\"])\n",
    "        permutation_importances[\"std\"] = result.importances_std\n",
    "        permutation_importances.sort_values(by='importance', ascending=False, inplace=True)\n",
    "\n",
    "        data['feature_importance'] = feature_importance[\"importance\"].head(5)\n",
    "        data['fi_std'] = feature_importance[\"std\"].head(5)\n",
    "        data['permutation_importances'] = permutation_importances[\"importance\"].head(5)\n",
    "        data['pi_std'] = permutation_importances[\"std\"].head(5)\n",
    "\n",
    "    del X_test, y_test\n",
    "\n",
    "    return data "
   ]
  },
  {
   "cell_type": "code",
   "execution_count": 14,
   "metadata": {},
   "outputs": [],
   "source": [
    "def optimize(model: Model, k_fold=5, mapping={}, best_params=None):\n",
    "    skip_optimization = best_params is not None\n",
    "\n",
    "    table = PrettyTable()\n",
    "    table.title = f'{model.name}'\n",
    "    table.field_names = [\n",
    "        '',\n",
    "        'Validation F1', \n",
    "        'Test F1', \n",
    "        'Validation Accuracy', \n",
    "        'Test Accuracy', \n",
    "        'Validation Balanced Accuracy', \n",
    "        'Test Balanced Accuracy',\n",
    "        'Validation AUC',\n",
    "        'Test AUC'\n",
    "    ]\n",
    "    model_value = int(model.value)\n",
    "\n",
    "    def objective(trial):\n",
    "        if model == Model.DecisionTree:\n",
    "            params = {\n",
    "                'max_depth': trial.suggest_int('max_depth', 1, 32),\n",
    "                'min_samples_split': trial.suggest_int('min_samples_split', 2, 20),\n",
    "                'min_samples_leaf': trial.suggest_int('min_samples_leaf', 1, 20),\n",
    "            }\n",
    "        elif model == Model.RandomForest:\n",
    "            params = {\n",
    "                \"n_estimators\": 500,\n",
    "                \"max_depth\": trial.suggest_int(\"max_depth\", 2, 10),\n",
    "                \"min_samples_split\": trial.suggest_int(\"min_samples_split\", 10, 200, step=10),\n",
    "                \"max_features\": trial.suggest_int(\"max_features\", 3, 15),\n",
    "            }\n",
    "        elif model == Model.AdaBoost:\n",
    "            params = {\n",
    "                'n_estimators': trial.suggest_int('n_estimators', 50, 300),\n",
    "                'learning_rate': trial.suggest_loguniform('learning_rate', 1e-3, 1.0),\n",
    "            }\n",
    "        elif model == Model.LinearDiscriminantAnalysis:\n",
    "            params = {\n",
    "                'solver': trial.suggest_categorical('solver', ['lsqr', 'eigen']),\n",
    "                'shrinkage': trial.suggest_uniform('shrinkage', 0.0, 1.0),\n",
    "            }\n",
    "        elif model == Model.KNearestNeighbors:\n",
    "            params = {\n",
    "                'n_neighbors': trial.suggest_int('n_neighbors', 1, 50),\n",
    "                'weights': trial.suggest_categorical('weights', ['uniform', 'distance']),\n",
    "                'p': trial.suggest_int('p', 1, 2),\n",
    "            }\n",
    "        elif model == Model.LogisticRegression:\n",
    "            params = {\n",
    "                'C': trial.suggest_loguniform('C', 1e-5, 1e5),\n",
    "                'solver': trial.suggest_categorical('solver', ['newton-cg', 'lbfgs', 'liblinear', 'sag', 'saga']),\n",
    "                'max_iter': trial.suggest_int('max_iter', 100, 1000),\n",
    "            }\n",
    "        elif model == Model.XGBoost:\n",
    "            params = {\n",
    "                'max_depth': trial.suggest_int('max_depth', 1, 16),\n",
    "                'learning_rate': trial.suggest_loguniform('learning_rate', 1e-3, 1.0),\n",
    "                'n_estimators': trial.suggest_int('n_estimators', 10, 300),\n",
    "                'min_child_weight': trial.suggest_int('min_child_weight', 1, 10),\n",
    "                'subsample': trial.suggest_uniform('subsample', 0.5, 1.0),\n",
    "                'colsample_bytree': trial.suggest_uniform('colsample_bytree', 0.5, 1.0),\n",
    "            }\n",
    "        elif model == Model.QuadraticDiscriminantAnalysis:\n",
    "            params = {\n",
    "                'reg_param': trial.suggest_uniform('reg_param', 0.0, 1.0),\n",
    "            }\n",
    "        else: \n",
    "            raise ValueError('Invalid model')\n",
    "\n",
    "        scores = Parallel(n_jobs=1)(delayed(train)(model_value, train_indices, val_indices, params, mapping=mapping) for train_indices, val_indices in KFold(n_splits=k_fold, shuffle=True, random_state=42).split(train_participants)) \n",
    "        df = pd.DataFrame(scores)\n",
    "        return np.mean([df['test_auc'].mean(), df['test_auc'].median()])\n",
    "\n",
    "    def detailed(trial): \n",
    "        if isinstance(trial, optuna.Trial):\n",
    "            if model == Model.DecisionTree:\n",
    "                params = {\n",
    "                    'max_depth': trial.suggest_int('max_depth', 1, 32),\n",
    "                    'min_samples_split': trial.suggest_int('min_samples_split', 2, 20),\n",
    "                    'min_samples_leaf': trial.suggest_int('min_samples_leaf', 1, 20),\n",
    "                }\n",
    "            elif model == Model.RandomForest:\n",
    "                params = {\n",
    "                    \"n_estimators\": 500,\n",
    "                    \"max_depth\": trial.suggest_int(\"max_depth\", 2, 10),\n",
    "                    \"min_samples_split\": trial.suggest_int(\"min_samples_split\", 10, 200, step=10),\n",
    "                    \"max_features\": trial.suggest_int(\"max_features\", 3, 15),\n",
    "                }\n",
    "            elif model == Model.AdaBoost:\n",
    "                params = {\n",
    "                    'n_estimators': trial.suggest_int('n_estimators', 50, 300),\n",
    "                    'learning_rate': trial.suggest_loguniform('learning_rate', 1e-3, 1.0),\n",
    "                }\n",
    "            elif model == Model.LinearDiscriminantAnalysis:\n",
    "                params = {\n",
    "                    'solver': trial.suggest_categorical('solver', ['lsqr', 'eigen']),\n",
    "                    'shrinkage': trial.suggest_uniform('shrinkage', 0.0, 1.0),\n",
    "                }\n",
    "            elif model == Model.KNearestNeighbors:\n",
    "                params = {\n",
    "                    'n_neighbors': trial.suggest_int('n_neighbors', 1, 50),\n",
    "                    'weights': trial.suggest_categorical('weights', ['uniform', 'distance']),\n",
    "                    'p': trial.suggest_int('p', 1, 2),\n",
    "                }\n",
    "            elif model == Model.LogisticRegression:\n",
    "                params = {\n",
    "                    'C': trial.suggest_loguniform('C', 1e-5, 1e5),\n",
    "                    'solver': trial.suggest_categorical('solver', ['newton-cg', 'lbfgs', 'liblinear', 'sag', 'saga']),\n",
    "                    'max_iter': trial.suggest_int('max_iter', 100, 1000),\n",
    "                }\n",
    "            elif model == Model.XGBoost:\n",
    "                params = {\n",
    "                    'max_depth': trial.suggest_int('max_depth', 1, 16),\n",
    "                    'learning_rate': trial.suggest_loguniform('learning_rate', 1e-3, 1.0),\n",
    "                    'n_estimators': trial.suggest_int('n_estimators', 10, 300),\n",
    "                    'min_child_weight': trial.suggest_int('min_child_weight', 1, 10),\n",
    "                    'subsample': trial.suggest_uniform('subsample', 0.5, 1.0),\n",
    "                    'colsample_bytree': trial.suggest_uniform('colsample_bytree', 0.5, 1.0),\n",
    "                }\n",
    "            elif model == Model.QuadraticDiscriminantAnalysis:\n",
    "                params = {\n",
    "                    'reg_param': trial.suggest_uniform('reg_param', 0.0, 1.0),\n",
    "                }\n",
    "            elif model == Model.DummyClassifier:\n",
    "                params = {}\n",
    "            else: \n",
    "                raise ValueError('Invalid model')\n",
    "        else:\n",
    "            params = trial\n",
    "        \n",
    "        data = Parallel(n_jobs=1)(delayed(train)(model_value, train_indices, val_indices, params, mapping=mapping) for train_indices, val_indices in KFold(n_splits=k_fold, shuffle=True, random_state=42).split(train_participants)) \n",
    "        return pd.DataFrame(data)\n",
    "\n",
    "    if skip_optimization == False:\n",
    "        study = optuna.create_study(\n",
    "            study_name=f'{model.name}_{base_path}_{str(uuid.uuid4())}',\n",
    "            storage=\"sqlite:///db.sqlite3\",\n",
    "            direction='maximize',\n",
    "            sampler=optuna.samplers.RandomSampler(seed=42)\n",
    "        )\n",
    "\n",
    "        study.optimize(\n",
    "            objective, \n",
    "            n_trials=5,\n",
    "            show_progress_bar=True\n",
    "        )\n",
    "    \n",
    "        # Get the best hyperparameters\n",
    "        best_params = study.best_params\n",
    "        best_score = study.best_value\n",
    "\n",
    "        print(\"Best Score:\", best_score)\n",
    "        print(\"Best Parameters:\", best_params)\n",
    "\n",
    "    if skip_optimization:\n",
    "        print(\"Skipping optimization, using given parameters...\", best_params)\n",
    "        df = detailed(best_params)\n",
    "    else:\n",
    "        df = detailed(study.best_trial)\n",
    "\n",
    "    titles = []\n",
    "    if (\"baseline\" not in mapping) or (mapping[\"baseline\"] != -1):\n",
    "        titles.append(\"Baseline\")\n",
    "    if \"mental_stress\" in mapping and mapping[\"mental_stress\"] >= 0:\n",
    "        titles.append(\"Mental Stress\")\n",
    "    if \"low_physical_activity\" in mapping and mapping[\"low_physical_activity\"] >= 0:\n",
    "        titles.append(\"Low Physical Activity\")\n",
    "    if \"moderate_physical_activity\" in mapping and mapping[\"moderate_physical_activity\"] >= 0:\n",
    "        titles.append(\"Moderate Physical Activity\")\n",
    "    if \"high_physical_activity\" in mapping and mapping[\"high_physical_activity\"] >= 0:\n",
    "        titles.append(\"High Physical Activity\")\n",
    "        \n",
    "    row = [\n",
    "        f\"{' & '.join(titles)}\",\n",
    "        f\"{round(df['val_f1'].mean() * 100, 2)}% ± {round(df['val_f1'].std() * 100, 2)}%\", \n",
    "        f\"{round(df['test_f1'].mean() * 100, 2)}% ± {round(df['test_f1'].std() * 100, 2)}%\", \n",
    "        f\"{round(df['val_accuracy'].mean() * 100, 2)}% ± {round(df['val_accuracy'].std() * 100, 2)}%\", \n",
    "        f\"{round(df['test_accuracy'].mean() * 100, 2)}% ± {round(df['test_accuracy'].std() * 100, 2)}%\", \n",
    "        f\"{round(df['val_balanced_accuracy'].mean() * 100, 2)}% ± {round(df['val_balanced_accuracy'].std() * 100, 2)}%\", \n",
    "        f\"{round(df['test_balanced_accuracy'].mean() * 100, 2)}% ± {round(df['test_balanced_accuracy'].std() * 100, 2)}%\",\n",
    "        f\"{round(df['val_auc'].mean() * 100, 2)}% ± {round(df['val_auc'].std() * 100, 2)}%\", \n",
    "        f\"{round(df['test_auc'].mean() * 100, 2)}% ± {round(df['test_auc'].std() * 100, 2)}%\"\n",
    "    ]\n",
    "    table.add_row(row)\n",
    "\n",
    "    print(table)\n",
    "    \n",
    "    print(\"Validation Confusion Matrix\")\n",
    "    for arr in df['val_cm']:\n",
    "        print('[')\n",
    "        for val in arr:\n",
    "            print(val)\n",
    "        print(']')\n",
    "    \n",
    "    print(\"Test Confusion Matrix\")\n",
    "    for arr in df['test_cm']:\n",
    "        print('[')\n",
    "        for val in arr:\n",
    "            print(val)\n",
    "        print(']')\n",
    "\n",
    "    if model == Model.RandomForest:\n",
    "        first = df.iloc[0]\n",
    "\n",
    "        fig, ax = plt.subplots()\n",
    "        first['feature_importance'].plot.barh(yerr=first['fi_std'], ax=ax)\n",
    "        ax.set_title(\"Mean Decrease Impurity (MDI)\", fontweight='bold')\n",
    "        ax.set_xlabel(\"Mean decrease in impurity\", fontweight='bold')\n",
    "        ax.set_ylabel(\"Features\", fontweight='bold')\n",
    "        fig.tight_layout()\n",
    "        plt.show()\n",
    "\n",
    "        fig, ax = plt.subplots()\n",
    "        first['permutation_importances'].plot.barh(yerr=first['pi_std'], ax=ax)\n",
    "        ax.set_title(\"Feature Permutation\", fontweight='bold')\n",
    "        ax.set_xlabel(\"Mean accuracy decrease\", fontweight='bold')\n",
    "        ax.set_ylabel(\"Features\", fontweight='bold')\n",
    "        fig.tight_layout()\n",
    "        plt.show()\n",
    "            \n",
    "    if skip_optimization == False:\n",
    "        return study.best_params\n",
    "    else:\n",
    "        return best_params"
   ]
  },
  {
   "cell_type": "code",
   "execution_count": 15,
   "metadata": {},
   "outputs": [
    {
     "name": "stdout",
     "output_type": "stream",
     "text": [
      "RANDOM GUESSING\n",
      "Starting optimization for DummyClassifier (variant = Mental Stress)\n",
      "Reusing best params for DummyClassifier (variant = Mental Stress & High Physical Activity)\n",
      "Skipping optimization, using given parameters... {'strategy': 'uniform', 'random_state': 42}\n",
      "+-------------------------------------------------------------------------------------------------------------------------------------------------------------------------------------------------------+\n",
      "|                                                                                            DummyClassifier                                                                                            |\n",
      "+----------------------------------------+----------------+---------------+---------------------+---------------+------------------------------+------------------------+----------------+--------------+\n",
      "|                                        | Validation F1  |    Test F1    | Validation Accuracy | Test Accuracy | Validation Balanced Accuracy | Test Balanced Accuracy | Validation AUC |   Test AUC   |\n",
      "+----------------------------------------+----------------+---------------+---------------------+---------------+------------------------------+------------------------+----------------+--------------+\n",
      "| Mental Stress & High Physical Activity | 44.57% ± 0.49% | 45.03% ± 0.0% |    49.96% ± 0.09%   | 49.93% ± 0.0% |        49.97% ± 0.1%         |     49.94% ± 0.0%      |  50.0% ± 0.0%  | 50.0% ± 0.0% |\n",
      "+----------------------------------------+----------------+---------------+---------------------+---------------+------------------------------+------------------------+----------------+--------------+\n",
      "Validation Confusion Matrix\n",
      "[\n",
      "[83410 83954]\n",
      "[53932 53700]\n",
      "]\n",
      "[\n",
      "[81084 81001]\n",
      "[53238 53654]\n",
      "]\n",
      "[\n",
      "[72630 72872]\n",
      "[50318 50181]\n",
      "]\n",
      "[\n",
      "[76821 77140]\n",
      "[53497 53433]\n",
      "]\n",
      "[\n",
      "[79699 79809]\n",
      "[54085 54259]\n",
      "]\n",
      "Test Confusion Matrix\n",
      "[\n",
      "[101466 101977]\n",
      "[70688 70713]\n",
      "]\n",
      "[\n",
      "[101466 101977]\n",
      "[70688 70713]\n",
      "]\n",
      "[\n",
      "[101466 101977]\n",
      "[70688 70713]\n",
      "]\n",
      "[\n",
      "[101466 101977]\n",
      "[70688 70713]\n",
      "]\n",
      "[\n",
      "[101466 101977]\n",
      "[70688 70713]\n",
      "]\n",
      "Reusing best params for DummyClassifier (variant = Baseline & Mental Stress & High Physical Activity)\n",
      "Skipping optimization, using given parameters... {'strategy': 'uniform', 'random_state': 42}\n",
      "+-----------------------------------------------------------------------------------------------------------------------------------------------------------------------------------------------------------------+\n",
      "|                                                                                                 DummyClassifier                                                                                                 |\n",
      "+---------------------------------------------------+---------------+---------------+---------------------+---------------+------------------------------+------------------------+----------------+--------------+\n",
      "|                                                   | Validation F1 |    Test F1    | Validation Accuracy | Test Accuracy | Validation Balanced Accuracy | Test Balanced Accuracy | Validation AUC |   Test AUC   |\n",
      "+---------------------------------------------------+---------------+---------------+---------------------+---------------+------------------------------+------------------------+----------------+--------------+\n",
      "| Baseline & Mental Stress & High Physical Activity | 33.34% ± 0.1% | 33.32% ± 0.0% |    33.34% ± 0.1%    | 33.32% ± 0.0% |        33.33% ± 0.09%        |     33.32% ± 0.0%      |  50.0% ± 0.0%  | 50.0% ± 0.0% |\n",
      "+---------------------------------------------------+---------------+---------------+---------------------+---------------+------------------------------+------------------------+----------------+--------------+\n",
      "Validation Confusion Matrix\n",
      "[\n",
      "[45849 46002 45648]\n",
      "[55907 55720 55737]\n",
      "[36036 35806 35790]\n",
      "]\n",
      "[\n",
      "[43418 43420 43502]\n",
      "[54309 53856 53920]\n",
      "[35643 35871 35378]\n",
      "]\n",
      "[\n",
      "[41625 41275 41107]\n",
      "[48254 48715 48533]\n",
      "[33667 33395 33437]\n",
      "]\n",
      "[\n",
      "[42243 42060 41916]\n",
      "[51350 51412 51199]\n",
      "[35663 35574 35693]\n",
      "]\n",
      "[\n",
      "[44472 44518 44349]\n",
      "[53423 53035 53050]\n",
      "[36072 36201 36071]\n",
      "]\n",
      "Test Confusion Matrix\n",
      "[\n",
      "[60058 60194 60231]\n",
      "[67767 67915 67761]\n",
      "[47447 46866 47088]\n",
      "]\n",
      "[\n",
      "[60058 60194 60231]\n",
      "[67767 67915 67761]\n",
      "[47447 46866 47088]\n",
      "]\n",
      "[\n",
      "[60058 60194 60231]\n",
      "[67767 67915 67761]\n",
      "[47447 46866 47088]\n",
      "]\n",
      "[\n",
      "[60058 60194 60231]\n",
      "[67767 67915 67761]\n",
      "[47447 46866 47088]\n",
      "]\n",
      "[\n",
      "[60058 60194 60231]\n",
      "[67767 67915 67761]\n",
      "[47447 46866 47088]\n",
      "]\n"
     ]
    },
    {
     "data": {
      "text/plain": [
       "{'strategy': 'uniform', 'random_state': 42}"
      ]
     },
     "execution_count": 15,
     "metadata": {},
     "output_type": "execute_result"
    }
   ],
   "source": [
    "model = Model.DummyClassifier\n",
    "print(\"RANDOM GUESSING\")\n",
    "\n",
    "print(\"Starting optimization for\", model.name, \"(variant = Mental Stress)\")\n",
    "best_params = optimize(model, mapping={ \"mental_stress\": 1 }, best_params={'strategy': 'uniform', 'random_state': 42})\n",
    "\n",
    "print(\"Reusing best params for\", model.name, \"(variant = High Physical Activity)\")\n",
    "optimize(model, mapping={ \"high_physical_activity\": 1 }, best_params=best_params)\n",
    "# print(\"Reusing best params for\", model.name, \"(variant = Moderate Physical Activity)\")\n",
    "# optimize(model, mapping={ \"moderate_physical_activity\": 1 }, best_params=best_params)\n",
    "# print(\"Reusing best params for\", model.name, \"(variant = Low Physical Activity)\")\n",
    "# optimize(model, mapping={ \"low_physical_activity\": 1 }, best_params=best_params)\n",
    "print(\"Reusing best params for\", model.name, \"(variant = Mental Stress & High Physical Activity)\")\n",
    "optimize(model, mapping={ \"baseline\": -1, \"mental_stress\": 0, \"high_physical_activity\": 1 }, best_params=best_params)\n",
    "print(\"Reusing best params for\", model.name, \"(variant = Baseline & Mental Stress & High Physical Activity)\")\n",
    "optimize(model, mapping={ \"mental_stress\": 1, \"high_physical_activity\": 2 }, best_params=best_params)"
   ]
  },
  {
   "cell_type": "code",
   "execution_count": 16,
   "metadata": {},
   "outputs": [
    {
     "name": "stdout",
     "output_type": "stream",
     "text": [
      "SOPHISTICATED GUESSING\n",
      "Starting optimization for DummyClassifier (variant = Mental Stress)\n",
      "Skipping optimization, using given parameters... {'strategy': 'stratified', 'random_state': 42}\n"
     ]
    }
   ],
   "source": [
    "model = Model.DummyClassifier\n",
    "print(\"SOPHISTICATED GUESSING\")\n",
    "\n",
    "print(\"Starting optimization for\", model.name, \"(variant = Mental Stress)\")\n",
    "best_params = optimize(model, mapping={ \"mental_stress\": 1 }, best_params={'strategy': 'stratified', 'random_state': 42})\n",
    "\n",
    "print(\"Reusing best params for\", model.name, \"(variant = High Physical Activity)\")\n",
    "optimize(model, mapping={ \"high_physical_activity\": 1 }, best_params=best_params)\n",
    "# print(\"Reusing best params for\", model.name, \"(variant = Moderate Physical Activity)\")\n",
    "# optimize(model, mapping={ \"moderate_physical_activity\": 1 }, best_params=best_params)\n",
    "# print(\"Reusing best params for\", model.name, \"(variant = Low Physical Activity)\")\n",
    "# optimize(model, mapping={ \"low_physical_activity\": 1 }, best_params=best_params)\n",
    "print(\"Reusing best params for\", model.name, \"(variant = Mental Stress & High Physical Activity)\")\n",
    "optimize(model, mapping={ \"baseline\": -1, \"mental_stress\": 0, \"high_physical_activity\": 1 }, best_params=best_params)\n",
    "print(\"Reusing best params for\", model.name, \"(variant = Baseline & Mental Stress & High Physical Activity)\")\n",
    "optimize(model, mapping={ \"mental_stress\": 1, \"high_physical_activity\": 2 }, best_params=best_params)"
   ]
  },
  {
   "cell_type": "code",
   "execution_count": 15,
   "metadata": {},
   "outputs": [
    {
     "name": "stdout",
     "output_type": "stream",
     "text": [
      "Starting optimization for DecisionTree (variant = Mental Stress)\n",
      "Skipping optimization, using given parameters... {'max_depth': 12, 'min_samples_split': 20, 'min_samples_leaf': 15}\n"
     ]
    },
    {
     "data": {
      "application/vnd.jupyter.widget-view+json": {
       "model_id": "5f860a1b02bd420094855a889cd792c7",
       "version_major": 2,
       "version_minor": 0
      },
      "text/plain": [
       "Generating fit split: 0 examples [00:00, ? examples/s]"
      ]
     },
     "metadata": {},
     "output_type": "display_data"
    },
    {
     "data": {
      "application/vnd.jupyter.widget-view+json": {
       "model_id": "b12f4b1957654a92a20da56a4bd4e956",
       "version_major": 2,
       "version_minor": 0
      },
      "text/plain": [
       "Generating test split: 0 examples [00:00, ? examples/s]"
      ]
     },
     "metadata": {},
     "output_type": "display_data"
    },
    {
     "data": {
      "application/vnd.jupyter.widget-view+json": {
       "model_id": "58833eb437df482eae4a0274308f35bf",
       "version_major": 2,
       "version_minor": 0
      },
      "text/plain": [
       "Generating validate split: 0 examples [00:00, ? examples/s]"
      ]
     },
     "metadata": {},
     "output_type": "display_data"
    },
    {
     "data": {
      "application/vnd.jupyter.widget-view+json": {
       "model_id": "337fd041f32e4dcdb5b0fa377ba91dac",
       "version_major": 2,
       "version_minor": 0
      },
      "text/plain": [
       "Map (num_proc=4):   0%|          | 0/1899905 [00:00<?, ? examples/s]"
      ]
     },
     "metadata": {},
     "output_type": "display_data"
    },
    {
     "data": {
      "application/vnd.jupyter.widget-view+json": {
       "model_id": "f523dba35ca94f158d4c58d6277bd5ff",
       "version_major": 2,
       "version_minor": 0
      },
      "text/plain": [
       "Map (num_proc=4):   0%|          | 0/641272 [00:00<?, ? examples/s]"
      ]
     },
     "metadata": {},
     "output_type": "display_data"
    },
    {
     "data": {
      "application/vnd.jupyter.widget-view+json": {
       "model_id": "c4c26e3178ec402fb36fcb02b4e078bc",
       "version_major": 2,
       "version_minor": 0
      },
      "text/plain": [
       "Map (num_proc=4):   0%|          | 0/511868 [00:00<?, ? examples/s]"
      ]
     },
     "metadata": {},
     "output_type": "display_data"
    },
    {
     "data": {
      "application/vnd.jupyter.widget-view+json": {
       "model_id": "709f94524fef4c15a607e9ebc35e6d28",
       "version_major": 2,
       "version_minor": 0
      },
      "text/plain": [
       "Filter:   0%|          | 0/1899905 [00:00<?, ? examples/s]"
      ]
     },
     "metadata": {},
     "output_type": "display_data"
    },
    {
     "data": {
      "application/vnd.jupyter.widget-view+json": {
       "model_id": "ac25f22281a3496b97bb9aa015df4322",
       "version_major": 2,
       "version_minor": 0
      },
      "text/plain": [
       "Filter:   0%|          | 0/641272 [00:00<?, ? examples/s]"
      ]
     },
     "metadata": {},
     "output_type": "display_data"
    },
    {
     "data": {
      "application/vnd.jupyter.widget-view+json": {
       "model_id": "80806ab792884eb18310ac82a4ab4252",
       "version_major": 2,
       "version_minor": 0
      },
      "text/plain": [
       "Filter:   0%|          | 0/511868 [00:00<?, ? examples/s]"
      ]
     },
     "metadata": {},
     "output_type": "display_data"
    },
    {
     "data": {
      "application/vnd.jupyter.widget-view+json": {
       "model_id": "9cb238f14c9f4aefa5e6feac63ec2520",
       "version_major": 2,
       "version_minor": 0
      },
      "text/plain": [
       "Generating fit split: 0 examples [00:00, ? examples/s]"
      ]
     },
     "metadata": {},
     "output_type": "display_data"
    },
    {
     "data": {
      "application/vnd.jupyter.widget-view+json": {
       "model_id": "38b74dfcfa924d5bb47ca7026fd24d6c",
       "version_major": 2,
       "version_minor": 0
      },
      "text/plain": [
       "Generating test split: 0 examples [00:00, ? examples/s]"
      ]
     },
     "metadata": {},
     "output_type": "display_data"
    },
    {
     "data": {
      "application/vnd.jupyter.widget-view+json": {
       "model_id": "1f38fc0d85d34a93b1279630c5b3032f",
       "version_major": 2,
       "version_minor": 0
      },
      "text/plain": [
       "Generating validate split: 0 examples [00:00, ? examples/s]"
      ]
     },
     "metadata": {},
     "output_type": "display_data"
    },
    {
     "data": {
      "application/vnd.jupyter.widget-view+json": {
       "model_id": "06e44e3c721d4ad4b33a7c1165c07d2e",
       "version_major": 2,
       "version_minor": 0
      },
      "text/plain": [
       "Map (num_proc=4):   0%|          | 0/1919576 [00:00<?, ? examples/s]"
      ]
     },
     "metadata": {},
     "output_type": "display_data"
    },
    {
     "data": {
      "application/vnd.jupyter.widget-view+json": {
       "model_id": "edd78c3f4d85469f8710430af44d0ac8",
       "version_major": 2,
       "version_minor": 0
      },
      "text/plain": [
       "Map (num_proc=4):   0%|          | 0/641272 [00:00<?, ? examples/s]"
      ]
     },
     "metadata": {},
     "output_type": "display_data"
    },
    {
     "data": {
      "application/vnd.jupyter.widget-view+json": {
       "model_id": "1b491f7dcaf4420daac4516146e29dc9",
       "version_major": 2,
       "version_minor": 0
      },
      "text/plain": [
       "Map (num_proc=4):   0%|          | 0/492197 [00:00<?, ? examples/s]"
      ]
     },
     "metadata": {},
     "output_type": "display_data"
    },
    {
     "data": {
      "application/vnd.jupyter.widget-view+json": {
       "model_id": "d0549b36164d446b9ee164e069d3c1a6",
       "version_major": 2,
       "version_minor": 0
      },
      "text/plain": [
       "Filter:   0%|          | 0/1919576 [00:00<?, ? examples/s]"
      ]
     },
     "metadata": {},
     "output_type": "display_data"
    },
    {
     "data": {
      "application/vnd.jupyter.widget-view+json": {
       "model_id": "da9a5b28fa9c4be09fcc24fc7707531c",
       "version_major": 2,
       "version_minor": 0
      },
      "text/plain": [
       "Filter:   0%|          | 0/641272 [00:00<?, ? examples/s]"
      ]
     },
     "metadata": {},
     "output_type": "display_data"
    },
    {
     "data": {
      "application/vnd.jupyter.widget-view+json": {
       "model_id": "2c50bb6b3da8477b9613311cffb85aef",
       "version_major": 2,
       "version_minor": 0
      },
      "text/plain": [
       "Filter:   0%|          | 0/492197 [00:00<?, ? examples/s]"
      ]
     },
     "metadata": {},
     "output_type": "display_data"
    },
    {
     "data": {
      "application/vnd.jupyter.widget-view+json": {
       "model_id": "0b7ba0ffc6984891850a7d24a55d40ac",
       "version_major": 2,
       "version_minor": 0
      },
      "text/plain": [
       "Generating fit split: 0 examples [00:00, ? examples/s]"
      ]
     },
     "metadata": {},
     "output_type": "display_data"
    },
    {
     "data": {
      "application/vnd.jupyter.widget-view+json": {
       "model_id": "c850272b8e9c48f8a96094d7a5c3420a",
       "version_major": 2,
       "version_minor": 0
      },
      "text/plain": [
       "Generating test split: 0 examples [00:00, ? examples/s]"
      ]
     },
     "metadata": {},
     "output_type": "display_data"
    },
    {
     "data": {
      "application/vnd.jupyter.widget-view+json": {
       "model_id": "cfaa41b39f0b4205b1d3799713814002",
       "version_major": 2,
       "version_minor": 0
      },
      "text/plain": [
       "Generating validate split: 0 examples [00:00, ? examples/s]"
      ]
     },
     "metadata": {},
     "output_type": "display_data"
    },
    {
     "data": {
      "application/vnd.jupyter.widget-view+json": {
       "model_id": "e06b5c2d626f4f579bc6aaa61813712e",
       "version_major": 2,
       "version_minor": 0
      },
      "text/plain": [
       "Map (num_proc=4):   0%|          | 0/1961914 [00:00<?, ? examples/s]"
      ]
     },
     "metadata": {},
     "output_type": "display_data"
    },
    {
     "data": {
      "application/vnd.jupyter.widget-view+json": {
       "model_id": "58aa7bf59532400b9f702f615e5da162",
       "version_major": 2,
       "version_minor": 0
      },
      "text/plain": [
       "Map (num_proc=4):   0%|          | 0/641272 [00:00<?, ? examples/s]"
      ]
     },
     "metadata": {},
     "output_type": "display_data"
    },
    {
     "data": {
      "application/vnd.jupyter.widget-view+json": {
       "model_id": "a9de0848436c47279f1e86f65982ba4a",
       "version_major": 2,
       "version_minor": 0
      },
      "text/plain": [
       "Map (num_proc=4):   0%|          | 0/449859 [00:00<?, ? examples/s]"
      ]
     },
     "metadata": {},
     "output_type": "display_data"
    },
    {
     "data": {
      "application/vnd.jupyter.widget-view+json": {
       "model_id": "552374bc6078453d9c9e1f0bab34dafb",
       "version_major": 2,
       "version_minor": 0
      },
      "text/plain": [
       "Filter:   0%|          | 0/1961914 [00:00<?, ? examples/s]"
      ]
     },
     "metadata": {},
     "output_type": "display_data"
    },
    {
     "data": {
      "application/vnd.jupyter.widget-view+json": {
       "model_id": "3e83f95523784461b6d3e7f2083ee660",
       "version_major": 2,
       "version_minor": 0
      },
      "text/plain": [
       "Filter:   0%|          | 0/641272 [00:00<?, ? examples/s]"
      ]
     },
     "metadata": {},
     "output_type": "display_data"
    },
    {
     "data": {
      "application/vnd.jupyter.widget-view+json": {
       "model_id": "34f85e103d064943ba4052904bb0e59c",
       "version_major": 2,
       "version_minor": 0
      },
      "text/plain": [
       "Filter:   0%|          | 0/449859 [00:00<?, ? examples/s]"
      ]
     },
     "metadata": {},
     "output_type": "display_data"
    },
    {
     "data": {
      "application/vnd.jupyter.widget-view+json": {
       "model_id": "1b1c6bc13dc64b35a594e3ef0fdb9722",
       "version_major": 2,
       "version_minor": 0
      },
      "text/plain": [
       "Generating fit split: 0 examples [00:00, ? examples/s]"
      ]
     },
     "metadata": {},
     "output_type": "display_data"
    },
    {
     "data": {
      "application/vnd.jupyter.widget-view+json": {
       "model_id": "80b223ca9fa3463d848f0d4f685291ef",
       "version_major": 2,
       "version_minor": 0
      },
      "text/plain": [
       "Generating test split: 0 examples [00:00, ? examples/s]"
      ]
     },
     "metadata": {},
     "output_type": "display_data"
    },
    {
     "data": {
      "application/vnd.jupyter.widget-view+json": {
       "model_id": "b9a3f9000bfc42c7bfe67a1efe3d06c2",
       "version_major": 2,
       "version_minor": 0
      },
      "text/plain": [
       "Generating validate split: 0 examples [00:00, ? examples/s]"
      ]
     },
     "metadata": {},
     "output_type": "display_data"
    },
    {
     "data": {
      "application/vnd.jupyter.widget-view+json": {
       "model_id": "ed7d54a420ae4e2bb5469e6caf1666c0",
       "version_major": 2,
       "version_minor": 0
      },
      "text/plain": [
       "Map (num_proc=4):   0%|          | 0/1941816 [00:00<?, ? examples/s]"
      ]
     },
     "metadata": {},
     "output_type": "display_data"
    },
    {
     "data": {
      "application/vnd.jupyter.widget-view+json": {
       "model_id": "8f87ae1aff294a3e9e35d7357bcf49a7",
       "version_major": 2,
       "version_minor": 0
      },
      "text/plain": [
       "Map (num_proc=4):   0%|          | 0/641272 [00:00<?, ? examples/s]"
      ]
     },
     "metadata": {},
     "output_type": "display_data"
    },
    {
     "data": {
      "application/vnd.jupyter.widget-view+json": {
       "model_id": "c3fc3aed13db40f39fd30fcd53f1fc13",
       "version_major": 2,
       "version_minor": 0
      },
      "text/plain": [
       "Map (num_proc=4):   0%|          | 0/469957 [00:00<?, ? examples/s]"
      ]
     },
     "metadata": {},
     "output_type": "display_data"
    },
    {
     "data": {
      "application/vnd.jupyter.widget-view+json": {
       "model_id": "28be9219c98b4545af37fe561b5a976e",
       "version_major": 2,
       "version_minor": 0
      },
      "text/plain": [
       "Filter:   0%|          | 0/1941816 [00:00<?, ? examples/s]"
      ]
     },
     "metadata": {},
     "output_type": "display_data"
    },
    {
     "data": {
      "application/vnd.jupyter.widget-view+json": {
       "model_id": "108c3585c534429c82a6647d86a40ae8",
       "version_major": 2,
       "version_minor": 0
      },
      "text/plain": [
       "Filter:   0%|          | 0/641272 [00:00<?, ? examples/s]"
      ]
     },
     "metadata": {},
     "output_type": "display_data"
    },
    {
     "data": {
      "application/vnd.jupyter.widget-view+json": {
       "model_id": "514b123a8095488fbb2eaf1dcceb9cc4",
       "version_major": 2,
       "version_minor": 0
      },
      "text/plain": [
       "Filter:   0%|          | 0/469957 [00:00<?, ? examples/s]"
      ]
     },
     "metadata": {},
     "output_type": "display_data"
    },
    {
     "data": {
      "application/vnd.jupyter.widget-view+json": {
       "model_id": "ea0f831692f541acb4093616c82b9395",
       "version_major": 2,
       "version_minor": 0
      },
      "text/plain": [
       "Generating fit split: 0 examples [00:00, ? examples/s]"
      ]
     },
     "metadata": {},
     "output_type": "display_data"
    },
    {
     "data": {
      "application/vnd.jupyter.widget-view+json": {
       "model_id": "5872e487c3be4b3ea4e68d45263927cf",
       "version_major": 2,
       "version_minor": 0
      },
      "text/plain": [
       "Generating test split: 0 examples [00:00, ? examples/s]"
      ]
     },
     "metadata": {},
     "output_type": "display_data"
    },
    {
     "data": {
      "application/vnd.jupyter.widget-view+json": {
       "model_id": "6759eb7add4c4d31ac3be9b1ea8d47c1",
       "version_major": 2,
       "version_minor": 0
      },
      "text/plain": [
       "Generating validate split: 0 examples [00:00, ? examples/s]"
      ]
     },
     "metadata": {},
     "output_type": "display_data"
    },
    {
     "data": {
      "application/vnd.jupyter.widget-view+json": {
       "model_id": "a2f1b0885e6c48e9b5814365a6749971",
       "version_major": 2,
       "version_minor": 0
      },
      "text/plain": [
       "Map (num_proc=4):   0%|          | 0/1923881 [00:00<?, ? examples/s]"
      ]
     },
     "metadata": {},
     "output_type": "display_data"
    },
    {
     "data": {
      "application/vnd.jupyter.widget-view+json": {
       "model_id": "ddd79965577c49efb081e1e549aabdf0",
       "version_major": 2,
       "version_minor": 0
      },
      "text/plain": [
       "Map (num_proc=4):   0%|          | 0/641272 [00:00<?, ? examples/s]"
      ]
     },
     "metadata": {},
     "output_type": "display_data"
    },
    {
     "data": {
      "application/vnd.jupyter.widget-view+json": {
       "model_id": "acbb719cc6ed4dfbba5401c588bf3944",
       "version_major": 2,
       "version_minor": 0
      },
      "text/plain": [
       "Map (num_proc=4):   0%|          | 0/487892 [00:00<?, ? examples/s]"
      ]
     },
     "metadata": {},
     "output_type": "display_data"
    },
    {
     "data": {
      "application/vnd.jupyter.widget-view+json": {
       "model_id": "06a63324e9c94476976d770fd22e35b7",
       "version_major": 2,
       "version_minor": 0
      },
      "text/plain": [
       "Filter:   0%|          | 0/1923881 [00:00<?, ? examples/s]"
      ]
     },
     "metadata": {},
     "output_type": "display_data"
    },
    {
     "data": {
      "application/vnd.jupyter.widget-view+json": {
       "model_id": "58849854d31742b9a567dfee89d64395",
       "version_major": 2,
       "version_minor": 0
      },
      "text/plain": [
       "Filter:   0%|          | 0/641272 [00:00<?, ? examples/s]"
      ]
     },
     "metadata": {},
     "output_type": "display_data"
    },
    {
     "data": {
      "application/vnd.jupyter.widget-view+json": {
       "model_id": "36fefb56aad34ab2a1ae622f500fc0d8",
       "version_major": 2,
       "version_minor": 0
      },
      "text/plain": [
       "Filter:   0%|          | 0/487892 [00:00<?, ? examples/s]"
      ]
     },
     "metadata": {},
     "output_type": "display_data"
    },
    {
     "name": "stdout",
     "output_type": "stream",
     "text": [
      "+--------------------------------------------------------------------------------------------------------------------------------------------------------------------------------------------+\n",
      "|                                                                                        DecisionTree                                                                                        |\n",
      "+--------------------------+---------------+----------------+---------------------+----------------+------------------------------+------------------------+----------------+----------------+\n",
      "|                          | Validation F1 |    Test F1     | Validation Accuracy | Test Accuracy  | Validation Balanced Accuracy | Test Balanced Accuracy | Validation AUC |    Test AUC    |\n",
      "+--------------------------+---------------+----------------+---------------------+----------------+------------------------------+------------------------+----------------+----------------+\n",
      "| Baseline & Mental Stress | 63.88% ± 1.1% | 62.14% ± 1.86% |    60.77% ± 1.74%   | 60.13% ± 1.07% |        60.52% ± 1.96%        |     60.02% ± 1.16%     | 63.75% ± 1.25% | 63.78% ± 0.83% |\n",
      "+--------------------------+---------------+----------------+---------------------+----------------+------------------------------+------------------------+----------------+----------------+\n",
      "Validation Confusion Matrix\n",
      "[\n",
      "[86885 50614]\n",
      "[ 67205 100159]\n",
      "]\n",
      "[\n",
      "[72771 57569]\n",
      "[ 59679 102406]\n",
      "]\n",
      "[\n",
      "[61734 62273]\n",
      "[50469 95033]\n",
      "]\n",
      "[\n",
      "[74659 51560]\n",
      "[54670 99291]\n",
      "]\n",
      "[\n",
      "[80533 52806]\n",
      "[ 57464 102044]\n",
      "]\n",
      "Test Confusion Matrix\n",
      "[\n",
      "[116350  64133]\n",
      "[ 85787 117656]\n",
      "]\n",
      "[\n",
      "[95459 85024]\n",
      "[ 67160 136283]\n",
      "]\n",
      "[\n",
      "[94665 85818]\n",
      "[ 67591 135852]\n",
      "]\n",
      "[\n",
      "[113453  67030]\n",
      "[ 82869 120574]\n",
      "]\n",
      "[\n",
      "[104877  75606]\n",
      "[ 84291 119152]\n",
      "]\n",
      "Reusing best params for DecisionTree (variant = High Physical Activity)\n",
      "Skipping optimization, using given parameters... {'max_depth': 12, 'min_samples_split': 20, 'min_samples_leaf': 15}\n"
     ]
    },
    {
     "data": {
      "application/vnd.jupyter.widget-view+json": {
       "model_id": "f8f32d92dadf4e588429afc7cbf8f930",
       "version_major": 2,
       "version_minor": 0
      },
      "text/plain": [
       "Map (num_proc=4):   0%|          | 0/1899905 [00:00<?, ? examples/s]"
      ]
     },
     "metadata": {},
     "output_type": "display_data"
    },
    {
     "data": {
      "application/vnd.jupyter.widget-view+json": {
       "model_id": "81e134521f454d769fa7bb848f35a26d",
       "version_major": 2,
       "version_minor": 0
      },
      "text/plain": [
       "Map (num_proc=4):   0%|          | 0/641272 [00:00<?, ? examples/s]"
      ]
     },
     "metadata": {},
     "output_type": "display_data"
    },
    {
     "data": {
      "application/vnd.jupyter.widget-view+json": {
       "model_id": "624e4a8d671847268d09a088f048cbe9",
       "version_major": 2,
       "version_minor": 0
      },
      "text/plain": [
       "Map (num_proc=4):   0%|          | 0/511868 [00:00<?, ? examples/s]"
      ]
     },
     "metadata": {},
     "output_type": "display_data"
    },
    {
     "data": {
      "application/vnd.jupyter.widget-view+json": {
       "model_id": "c7700dedbf9c4037a2f1b9e70ad2d6b7",
       "version_major": 2,
       "version_minor": 0
      },
      "text/plain": [
       "Filter:   0%|          | 0/1899905 [00:00<?, ? examples/s]"
      ]
     },
     "metadata": {},
     "output_type": "display_data"
    },
    {
     "data": {
      "application/vnd.jupyter.widget-view+json": {
       "model_id": "f383efe7830b4e8c95fe44ae57e7592c",
       "version_major": 2,
       "version_minor": 0
      },
      "text/plain": [
       "Filter:   0%|          | 0/641272 [00:00<?, ? examples/s]"
      ]
     },
     "metadata": {},
     "output_type": "display_data"
    },
    {
     "data": {
      "application/vnd.jupyter.widget-view+json": {
       "model_id": "568c1a79deeb474dbe6d3c43cb80236b",
       "version_major": 2,
       "version_minor": 0
      },
      "text/plain": [
       "Filter:   0%|          | 0/511868 [00:00<?, ? examples/s]"
      ]
     },
     "metadata": {},
     "output_type": "display_data"
    },
    {
     "data": {
      "application/vnd.jupyter.widget-view+json": {
       "model_id": "f74174939d974d41958731c66bed8e82",
       "version_major": 2,
       "version_minor": 0
      },
      "text/plain": [
       "Map (num_proc=4):   0%|          | 0/1919576 [00:00<?, ? examples/s]"
      ]
     },
     "metadata": {},
     "output_type": "display_data"
    },
    {
     "data": {
      "application/vnd.jupyter.widget-view+json": {
       "model_id": "7623b8c89380436a873a2a46d28ef26c",
       "version_major": 2,
       "version_minor": 0
      },
      "text/plain": [
       "Map (num_proc=4):   0%|          | 0/641272 [00:00<?, ? examples/s]"
      ]
     },
     "metadata": {},
     "output_type": "display_data"
    },
    {
     "data": {
      "application/vnd.jupyter.widget-view+json": {
       "model_id": "6d2f86d9579346e7a5c658374c2fc113",
       "version_major": 2,
       "version_minor": 0
      },
      "text/plain": [
       "Map (num_proc=4):   0%|          | 0/492197 [00:00<?, ? examples/s]"
      ]
     },
     "metadata": {},
     "output_type": "display_data"
    },
    {
     "data": {
      "application/vnd.jupyter.widget-view+json": {
       "model_id": "3764820066df4365b8f0eff79893a025",
       "version_major": 2,
       "version_minor": 0
      },
      "text/plain": [
       "Filter:   0%|          | 0/1919576 [00:00<?, ? examples/s]"
      ]
     },
     "metadata": {},
     "output_type": "display_data"
    },
    {
     "data": {
      "application/vnd.jupyter.widget-view+json": {
       "model_id": "023056507d2c43ae961989aced08fe74",
       "version_major": 2,
       "version_minor": 0
      },
      "text/plain": [
       "Filter:   0%|          | 0/641272 [00:00<?, ? examples/s]"
      ]
     },
     "metadata": {},
     "output_type": "display_data"
    },
    {
     "data": {
      "application/vnd.jupyter.widget-view+json": {
       "model_id": "aa918b8383bc4c6382b80ac20e53d8cf",
       "version_major": 2,
       "version_minor": 0
      },
      "text/plain": [
       "Filter:   0%|          | 0/492197 [00:00<?, ? examples/s]"
      ]
     },
     "metadata": {},
     "output_type": "display_data"
    },
    {
     "data": {
      "application/vnd.jupyter.widget-view+json": {
       "model_id": "5371f963a7a14485bf70af724e3c7faa",
       "version_major": 2,
       "version_minor": 0
      },
      "text/plain": [
       "Map (num_proc=4):   0%|          | 0/1961914 [00:00<?, ? examples/s]"
      ]
     },
     "metadata": {},
     "output_type": "display_data"
    },
    {
     "data": {
      "application/vnd.jupyter.widget-view+json": {
       "model_id": "4c979aae758341e08e6ce5c932fc56c2",
       "version_major": 2,
       "version_minor": 0
      },
      "text/plain": [
       "Map (num_proc=4):   0%|          | 0/641272 [00:00<?, ? examples/s]"
      ]
     },
     "metadata": {},
     "output_type": "display_data"
    },
    {
     "data": {
      "application/vnd.jupyter.widget-view+json": {
       "model_id": "605f44c24c2949ee805e76ef8602fced",
       "version_major": 2,
       "version_minor": 0
      },
      "text/plain": [
       "Map (num_proc=4):   0%|          | 0/449859 [00:00<?, ? examples/s]"
      ]
     },
     "metadata": {},
     "output_type": "display_data"
    },
    {
     "data": {
      "application/vnd.jupyter.widget-view+json": {
       "model_id": "a12cf66cc3624fedb7cdb4734d862383",
       "version_major": 2,
       "version_minor": 0
      },
      "text/plain": [
       "Filter:   0%|          | 0/1961914 [00:00<?, ? examples/s]"
      ]
     },
     "metadata": {},
     "output_type": "display_data"
    },
    {
     "data": {
      "application/vnd.jupyter.widget-view+json": {
       "model_id": "6cd29c260ce94ea0bb111ed6ad44f370",
       "version_major": 2,
       "version_minor": 0
      },
      "text/plain": [
       "Filter:   0%|          | 0/641272 [00:00<?, ? examples/s]"
      ]
     },
     "metadata": {},
     "output_type": "display_data"
    },
    {
     "data": {
      "application/vnd.jupyter.widget-view+json": {
       "model_id": "fc33443826144b859f1f4568124858ef",
       "version_major": 2,
       "version_minor": 0
      },
      "text/plain": [
       "Filter:   0%|          | 0/449859 [00:00<?, ? examples/s]"
      ]
     },
     "metadata": {},
     "output_type": "display_data"
    },
    {
     "data": {
      "application/vnd.jupyter.widget-view+json": {
       "model_id": "8017344ac05f406c9897c46464eecc76",
       "version_major": 2,
       "version_minor": 0
      },
      "text/plain": [
       "Map (num_proc=4):   0%|          | 0/1941816 [00:00<?, ? examples/s]"
      ]
     },
     "metadata": {},
     "output_type": "display_data"
    },
    {
     "data": {
      "application/vnd.jupyter.widget-view+json": {
       "model_id": "f937132d172f4906aaf87187d96d1565",
       "version_major": 2,
       "version_minor": 0
      },
      "text/plain": [
       "Map (num_proc=4):   0%|          | 0/641272 [00:00<?, ? examples/s]"
      ]
     },
     "metadata": {},
     "output_type": "display_data"
    },
    {
     "data": {
      "application/vnd.jupyter.widget-view+json": {
       "model_id": "65fad4145aff4bb8963e34f541147f65",
       "version_major": 2,
       "version_minor": 0
      },
      "text/plain": [
       "Map (num_proc=4):   0%|          | 0/469957 [00:00<?, ? examples/s]"
      ]
     },
     "metadata": {},
     "output_type": "display_data"
    },
    {
     "data": {
      "application/vnd.jupyter.widget-view+json": {
       "model_id": "39979dde9b224aacafff972794c1ae4c",
       "version_major": 2,
       "version_minor": 0
      },
      "text/plain": [
       "Filter:   0%|          | 0/1941816 [00:00<?, ? examples/s]"
      ]
     },
     "metadata": {},
     "output_type": "display_data"
    },
    {
     "data": {
      "application/vnd.jupyter.widget-view+json": {
       "model_id": "190833e4fde0493db221f60319e637d4",
       "version_major": 2,
       "version_minor": 0
      },
      "text/plain": [
       "Filter:   0%|          | 0/641272 [00:00<?, ? examples/s]"
      ]
     },
     "metadata": {},
     "output_type": "display_data"
    },
    {
     "data": {
      "application/vnd.jupyter.widget-view+json": {
       "model_id": "281a16b62cd24bab93dd660e0f7e9309",
       "version_major": 2,
       "version_minor": 0
      },
      "text/plain": [
       "Filter:   0%|          | 0/469957 [00:00<?, ? examples/s]"
      ]
     },
     "metadata": {},
     "output_type": "display_data"
    },
    {
     "data": {
      "application/vnd.jupyter.widget-view+json": {
       "model_id": "12f55847972346aeaa024bcb370c4ef1",
       "version_major": 2,
       "version_minor": 0
      },
      "text/plain": [
       "Map (num_proc=4):   0%|          | 0/1923881 [00:00<?, ? examples/s]"
      ]
     },
     "metadata": {},
     "output_type": "display_data"
    },
    {
     "data": {
      "application/vnd.jupyter.widget-view+json": {
       "model_id": "6d1fd6c7ed324e82afaea78a59ebd10a",
       "version_major": 2,
       "version_minor": 0
      },
      "text/plain": [
       "Map (num_proc=4):   0%|          | 0/641272 [00:00<?, ? examples/s]"
      ]
     },
     "metadata": {},
     "output_type": "display_data"
    },
    {
     "data": {
      "application/vnd.jupyter.widget-view+json": {
       "model_id": "c7dedc0463754b1aa1525f4fd5c7bf15",
       "version_major": 2,
       "version_minor": 0
      },
      "text/plain": [
       "Map (num_proc=4):   0%|          | 0/487892 [00:00<?, ? examples/s]"
      ]
     },
     "metadata": {},
     "output_type": "display_data"
    },
    {
     "data": {
      "application/vnd.jupyter.widget-view+json": {
       "model_id": "d759ccc248b24571a79db246aba052ba",
       "version_major": 2,
       "version_minor": 0
      },
      "text/plain": [
       "Filter:   0%|          | 0/1923881 [00:00<?, ? examples/s]"
      ]
     },
     "metadata": {},
     "output_type": "display_data"
    },
    {
     "data": {
      "application/vnd.jupyter.widget-view+json": {
       "model_id": "375379821b584c039866526bed51d6fe",
       "version_major": 2,
       "version_minor": 0
      },
      "text/plain": [
       "Filter:   0%|          | 0/641272 [00:00<?, ? examples/s]"
      ]
     },
     "metadata": {},
     "output_type": "display_data"
    },
    {
     "data": {
      "application/vnd.jupyter.widget-view+json": {
       "model_id": "81d03a6dccec4984a22a235927e0e06f",
       "version_major": 2,
       "version_minor": 0
      },
      "text/plain": [
       "Filter:   0%|          | 0/487892 [00:00<?, ? examples/s]"
      ]
     },
     "metadata": {},
     "output_type": "display_data"
    },
    {
     "name": "stdout",
     "output_type": "stream",
     "text": [
      "+-----------------------------------------------------------------------------------------------------------------------------------------------------------------------------------------------------+\n",
      "|                                                                                             DecisionTree                                                                                            |\n",
      "+-----------------------------------+----------------+----------------+---------------------+----------------+------------------------------+------------------------+----------------+---------------+\n",
      "|                                   | Validation F1  |    Test F1     | Validation Accuracy | Test Accuracy  | Validation Balanced Accuracy | Test Balanced Accuracy | Validation AUC |    Test AUC   |\n",
      "+-----------------------------------+----------------+----------------+---------------------+----------------+------------------------------+------------------------+----------------+---------------+\n",
      "| Baseline & High Physical Activity | 88.05% ± 1.37% | 87.84% ± 0.75% |    89.33% ± 1.27%   | 89.45% ± 0.56% |        89.15% ± 1.3%         |     89.17% ± 0.66%     | 92.52% ± 1.41% | 92.8% ± 0.62% |\n",
      "+-----------------------------------+----------------+----------------+---------------------+----------------+------------------------------+------------------------+----------------+---------------+\n",
      "Validation Confusion Matrix\n",
      "[\n",
      "[129910   7589]\n",
      "[18367 89265]\n",
      "]\n",
      "[\n",
      "[119991  10349]\n",
      "[16494 90398]\n",
      "]\n",
      "[\n",
      "[113986  10021]\n",
      "[10210 90289]\n",
      "]\n",
      "[\n",
      "[108764  17455]\n",
      "[11395 95535]\n",
      "]\n",
      "[\n",
      "[118002  15337]\n",
      "[ 9009 99335]\n",
      "]\n",
      "Test Confusion Matrix\n",
      "[\n",
      "[166280  14203]\n",
      "[ 21445 119956]\n",
      "]\n",
      "[\n",
      "[165328  15155]\n",
      "[ 20228 121173]\n",
      "]\n",
      "[\n",
      "[164063  16420]\n",
      "[ 18260 123141]\n",
      "]\n",
      "[\n",
      "[165465  15018]\n",
      "[ 17288 124113]\n",
      "]\n",
      "[\n",
      "[164863  15620]\n",
      "[ 16113 125288]\n",
      "]\n",
      "Reusing best params for DecisionTree (variant = Moderate Physical Activity)\n",
      "Skipping optimization, using given parameters... {'max_depth': 12, 'min_samples_split': 20, 'min_samples_leaf': 15}\n"
     ]
    },
    {
     "data": {
      "application/vnd.jupyter.widget-view+json": {
       "model_id": "3a3e9345dacf417182cca6177e5d9935",
       "version_major": 2,
       "version_minor": 0
      },
      "text/plain": [
       "Map (num_proc=4):   0%|          | 0/1899905 [00:00<?, ? examples/s]"
      ]
     },
     "metadata": {},
     "output_type": "display_data"
    },
    {
     "data": {
      "application/vnd.jupyter.widget-view+json": {
       "model_id": "bbe50be42c3549c2bfa255129d8e647d",
       "version_major": 2,
       "version_minor": 0
      },
      "text/plain": [
       "Map (num_proc=4):   0%|          | 0/641272 [00:00<?, ? examples/s]"
      ]
     },
     "metadata": {},
     "output_type": "display_data"
    },
    {
     "data": {
      "application/vnd.jupyter.widget-view+json": {
       "model_id": "e194733d59d14e36bb8ee807e6e16eea",
       "version_major": 2,
       "version_minor": 0
      },
      "text/plain": [
       "Map (num_proc=4):   0%|          | 0/511868 [00:00<?, ? examples/s]"
      ]
     },
     "metadata": {},
     "output_type": "display_data"
    },
    {
     "data": {
      "application/vnd.jupyter.widget-view+json": {
       "model_id": "948ca169ef3745ef977070f748c90b77",
       "version_major": 2,
       "version_minor": 0
      },
      "text/plain": [
       "Filter:   0%|          | 0/1899905 [00:00<?, ? examples/s]"
      ]
     },
     "metadata": {},
     "output_type": "display_data"
    },
    {
     "data": {
      "application/vnd.jupyter.widget-view+json": {
       "model_id": "3fc1b4d45c7f4208a4f0337cb58d43dc",
       "version_major": 2,
       "version_minor": 0
      },
      "text/plain": [
       "Filter:   0%|          | 0/641272 [00:00<?, ? examples/s]"
      ]
     },
     "metadata": {},
     "output_type": "display_data"
    },
    {
     "data": {
      "application/vnd.jupyter.widget-view+json": {
       "model_id": "6d15593de44f4a54a2e1109a7b41b9d6",
       "version_major": 2,
       "version_minor": 0
      },
      "text/plain": [
       "Filter:   0%|          | 0/511868 [00:00<?, ? examples/s]"
      ]
     },
     "metadata": {},
     "output_type": "display_data"
    },
    {
     "data": {
      "application/vnd.jupyter.widget-view+json": {
       "model_id": "66bfcb5b99b548e4b3501201a2886b9b",
       "version_major": 2,
       "version_minor": 0
      },
      "text/plain": [
       "Map (num_proc=4):   0%|          | 0/1919576 [00:00<?, ? examples/s]"
      ]
     },
     "metadata": {},
     "output_type": "display_data"
    },
    {
     "data": {
      "application/vnd.jupyter.widget-view+json": {
       "model_id": "4aa8d9b8898d465e846c9f1f6b1e0740",
       "version_major": 2,
       "version_minor": 0
      },
      "text/plain": [
       "Map (num_proc=4):   0%|          | 0/641272 [00:00<?, ? examples/s]"
      ]
     },
     "metadata": {},
     "output_type": "display_data"
    },
    {
     "data": {
      "application/vnd.jupyter.widget-view+json": {
       "model_id": "2220df47cf914ccf9f66a8a59e6fd2b7",
       "version_major": 2,
       "version_minor": 0
      },
      "text/plain": [
       "Map (num_proc=4):   0%|          | 0/492197 [00:00<?, ? examples/s]"
      ]
     },
     "metadata": {},
     "output_type": "display_data"
    },
    {
     "data": {
      "application/vnd.jupyter.widget-view+json": {
       "model_id": "51a4f919494a4b1e9e5e82af736a86d7",
       "version_major": 2,
       "version_minor": 0
      },
      "text/plain": [
       "Filter:   0%|          | 0/1919576 [00:00<?, ? examples/s]"
      ]
     },
     "metadata": {},
     "output_type": "display_data"
    },
    {
     "data": {
      "application/vnd.jupyter.widget-view+json": {
       "model_id": "35db8537d61e451087164d6226499f80",
       "version_major": 2,
       "version_minor": 0
      },
      "text/plain": [
       "Filter:   0%|          | 0/641272 [00:00<?, ? examples/s]"
      ]
     },
     "metadata": {},
     "output_type": "display_data"
    },
    {
     "data": {
      "application/vnd.jupyter.widget-view+json": {
       "model_id": "ae5f4a805e3f4fc9a009ea9f5ae1bae7",
       "version_major": 2,
       "version_minor": 0
      },
      "text/plain": [
       "Filter:   0%|          | 0/492197 [00:00<?, ? examples/s]"
      ]
     },
     "metadata": {},
     "output_type": "display_data"
    },
    {
     "data": {
      "application/vnd.jupyter.widget-view+json": {
       "model_id": "57f2441bc62540358344cf285b4a4b85",
       "version_major": 2,
       "version_minor": 0
      },
      "text/plain": [
       "Map (num_proc=4):   0%|          | 0/1961914 [00:00<?, ? examples/s]"
      ]
     },
     "metadata": {},
     "output_type": "display_data"
    },
    {
     "data": {
      "application/vnd.jupyter.widget-view+json": {
       "model_id": "82e26e220ae34b9e9725021d68d4a91b",
       "version_major": 2,
       "version_minor": 0
      },
      "text/plain": [
       "Map (num_proc=4):   0%|          | 0/641272 [00:00<?, ? examples/s]"
      ]
     },
     "metadata": {},
     "output_type": "display_data"
    },
    {
     "data": {
      "application/vnd.jupyter.widget-view+json": {
       "model_id": "96d1a1191f0743ef9babdadb598ee4ee",
       "version_major": 2,
       "version_minor": 0
      },
      "text/plain": [
       "Map (num_proc=4):   0%|          | 0/449859 [00:00<?, ? examples/s]"
      ]
     },
     "metadata": {},
     "output_type": "display_data"
    },
    {
     "data": {
      "application/vnd.jupyter.widget-view+json": {
       "model_id": "97ce45f7fc9047368206351d9cd8ccfa",
       "version_major": 2,
       "version_minor": 0
      },
      "text/plain": [
       "Filter:   0%|          | 0/1961914 [00:00<?, ? examples/s]"
      ]
     },
     "metadata": {},
     "output_type": "display_data"
    },
    {
     "data": {
      "application/vnd.jupyter.widget-view+json": {
       "model_id": "325a89d49f3043d2918d08c33cd21055",
       "version_major": 2,
       "version_minor": 0
      },
      "text/plain": [
       "Filter:   0%|          | 0/641272 [00:00<?, ? examples/s]"
      ]
     },
     "metadata": {},
     "output_type": "display_data"
    },
    {
     "data": {
      "application/vnd.jupyter.widget-view+json": {
       "model_id": "68788709e45c4514929f15f25c91d504",
       "version_major": 2,
       "version_minor": 0
      },
      "text/plain": [
       "Filter:   0%|          | 0/449859 [00:00<?, ? examples/s]"
      ]
     },
     "metadata": {},
     "output_type": "display_data"
    },
    {
     "data": {
      "application/vnd.jupyter.widget-view+json": {
       "model_id": "9a11ef2e6a5749afbddd74a7fc5dd4f4",
       "version_major": 2,
       "version_minor": 0
      },
      "text/plain": [
       "Map (num_proc=4):   0%|          | 0/1941816 [00:00<?, ? examples/s]"
      ]
     },
     "metadata": {},
     "output_type": "display_data"
    },
    {
     "data": {
      "application/vnd.jupyter.widget-view+json": {
       "model_id": "8e362b44a16545eda1970371945dfc9e",
       "version_major": 2,
       "version_minor": 0
      },
      "text/plain": [
       "Map (num_proc=4):   0%|          | 0/641272 [00:00<?, ? examples/s]"
      ]
     },
     "metadata": {},
     "output_type": "display_data"
    },
    {
     "data": {
      "application/vnd.jupyter.widget-view+json": {
       "model_id": "5ef55b2627aa4778817f102f72b59550",
       "version_major": 2,
       "version_minor": 0
      },
      "text/plain": [
       "Map (num_proc=4):   0%|          | 0/469957 [00:00<?, ? examples/s]"
      ]
     },
     "metadata": {},
     "output_type": "display_data"
    },
    {
     "data": {
      "application/vnd.jupyter.widget-view+json": {
       "model_id": "dd03d61581144c4084e82ee25f9bb33e",
       "version_major": 2,
       "version_minor": 0
      },
      "text/plain": [
       "Filter:   0%|          | 0/1941816 [00:00<?, ? examples/s]"
      ]
     },
     "metadata": {},
     "output_type": "display_data"
    },
    {
     "data": {
      "application/vnd.jupyter.widget-view+json": {
       "model_id": "25e772f3955a4c2ba558990cc0acd78a",
       "version_major": 2,
       "version_minor": 0
      },
      "text/plain": [
       "Filter:   0%|          | 0/641272 [00:00<?, ? examples/s]"
      ]
     },
     "metadata": {},
     "output_type": "display_data"
    },
    {
     "data": {
      "application/vnd.jupyter.widget-view+json": {
       "model_id": "d92696e48b4b409788def6b8443cc42b",
       "version_major": 2,
       "version_minor": 0
      },
      "text/plain": [
       "Filter:   0%|          | 0/469957 [00:00<?, ? examples/s]"
      ]
     },
     "metadata": {},
     "output_type": "display_data"
    },
    {
     "data": {
      "application/vnd.jupyter.widget-view+json": {
       "model_id": "f7d442e5100a4c79aaf9e18253137f64",
       "version_major": 2,
       "version_minor": 0
      },
      "text/plain": [
       "Map (num_proc=4):   0%|          | 0/1923881 [00:00<?, ? examples/s]"
      ]
     },
     "metadata": {},
     "output_type": "display_data"
    },
    {
     "data": {
      "application/vnd.jupyter.widget-view+json": {
       "model_id": "def0ee01c9a5431eb18b76b0468c5f82",
       "version_major": 2,
       "version_minor": 0
      },
      "text/plain": [
       "Map (num_proc=4):   0%|          | 0/641272 [00:00<?, ? examples/s]"
      ]
     },
     "metadata": {},
     "output_type": "display_data"
    },
    {
     "data": {
      "application/vnd.jupyter.widget-view+json": {
       "model_id": "df5ff4fc0e074a6e819c2e011adc7801",
       "version_major": 2,
       "version_minor": 0
      },
      "text/plain": [
       "Map (num_proc=4):   0%|          | 0/487892 [00:00<?, ? examples/s]"
      ]
     },
     "metadata": {},
     "output_type": "display_data"
    },
    {
     "data": {
      "application/vnd.jupyter.widget-view+json": {
       "model_id": "13c4e381014f4a1988ff7655bd572ae8",
       "version_major": 2,
       "version_minor": 0
      },
      "text/plain": [
       "Filter:   0%|          | 0/1923881 [00:00<?, ? examples/s]"
      ]
     },
     "metadata": {},
     "output_type": "display_data"
    },
    {
     "data": {
      "application/vnd.jupyter.widget-view+json": {
       "model_id": "85cb1298ed074f99a1082d81ddb2b5c1",
       "version_major": 2,
       "version_minor": 0
      },
      "text/plain": [
       "Filter:   0%|          | 0/641272 [00:00<?, ? examples/s]"
      ]
     },
     "metadata": {},
     "output_type": "display_data"
    },
    {
     "data": {
      "application/vnd.jupyter.widget-view+json": {
       "model_id": "ac2f6375d9684c02b2126f48f0d81ae9",
       "version_major": 2,
       "version_minor": 0
      },
      "text/plain": [
       "Filter:   0%|          | 0/487892 [00:00<?, ? examples/s]"
      ]
     },
     "metadata": {},
     "output_type": "display_data"
    },
    {
     "name": "stdout",
     "output_type": "stream",
     "text": [
      "+----------------------------------------------------------------------------------------------------------------------------------------------------------------------------------------------------------+\n",
      "|                                                                                               DecisionTree                                                                                               |\n",
      "+---------------------------------------+----------------+----------------+---------------------+----------------+------------------------------+------------------------+----------------+----------------+\n",
      "|                                       | Validation F1  |    Test F1     | Validation Accuracy | Test Accuracy  | Validation Balanced Accuracy | Test Balanced Accuracy | Validation AUC |    Test AUC    |\n",
      "+---------------------------------------+----------------+----------------+---------------------+----------------+------------------------------+------------------------+----------------+----------------+\n",
      "| Baseline & Moderate Physical Activity | 51.91% ± 3.18% | 44.73% ± 2.15% |    86.96% ± 1.45%   | 85.82% ± 0.36% |        71.35% ± 2.63%        |     67.78% ± 1.52%     | 78.69% ± 1.97% | 78.66% ± 1.61% |\n",
      "+---------------------------------------+----------------+----------------+---------------------+----------------+------------------------------+------------------------+----------------+----------------+\n",
      "Validation Confusion Matrix\n",
      "[\n",
      "[131382   6117]\n",
      "[13118  9274]\n",
      "]\n",
      "[\n",
      "[122383   7957]\n",
      "[13510 10710]\n",
      "]\n",
      "[\n",
      "[116838   7169]\n",
      "[ 8565 10475]\n",
      "]\n",
      "[\n",
      "[114860  11359]\n",
      "[ 9085 11330]\n",
      "]\n",
      "[\n",
      "[122055  11284]\n",
      "[11044 11553]\n",
      "]\n",
      "Test Confusion Matrix\n",
      "[\n",
      "[168538  11945]\n",
      "[16741 10964]\n",
      "]\n",
      "[\n",
      "[166008  14475]\n",
      "[15787 11918]\n",
      "]\n",
      "[\n",
      "[165804  14679]\n",
      "[14287 13418]\n",
      "]\n",
      "[\n",
      "[166563  13920]\n",
      "[16415 11290]\n",
      "]\n",
      "[\n",
      "[166647  13836]\n",
      "[15475 12230]\n",
      "]\n",
      "Reusing best params for DecisionTree (variant = Low Physical Activity)\n",
      "Skipping optimization, using given parameters... {'max_depth': 12, 'min_samples_split': 20, 'min_samples_leaf': 15}\n"
     ]
    },
    {
     "data": {
      "application/vnd.jupyter.widget-view+json": {
       "model_id": "00f60f686c2e4e57ba2dfe49c48b175f",
       "version_major": 2,
       "version_minor": 0
      },
      "text/plain": [
       "Map (num_proc=4):   0%|          | 0/1899905 [00:00<?, ? examples/s]"
      ]
     },
     "metadata": {},
     "output_type": "display_data"
    },
    {
     "data": {
      "application/vnd.jupyter.widget-view+json": {
       "model_id": "bd30de158ce84b109dd9486bba510ae7",
       "version_major": 2,
       "version_minor": 0
      },
      "text/plain": [
       "Map (num_proc=4):   0%|          | 0/641272 [00:00<?, ? examples/s]"
      ]
     },
     "metadata": {},
     "output_type": "display_data"
    },
    {
     "data": {
      "application/vnd.jupyter.widget-view+json": {
       "model_id": "9236a8e6a4c04d12829d573a581c1e37",
       "version_major": 2,
       "version_minor": 0
      },
      "text/plain": [
       "Map (num_proc=4):   0%|          | 0/511868 [00:00<?, ? examples/s]"
      ]
     },
     "metadata": {},
     "output_type": "display_data"
    },
    {
     "data": {
      "application/vnd.jupyter.widget-view+json": {
       "model_id": "6e2b42a6d2f94f6f93a52766c44c6a5e",
       "version_major": 2,
       "version_minor": 0
      },
      "text/plain": [
       "Filter:   0%|          | 0/1899905 [00:00<?, ? examples/s]"
      ]
     },
     "metadata": {},
     "output_type": "display_data"
    },
    {
     "data": {
      "application/vnd.jupyter.widget-view+json": {
       "model_id": "4f1fe25688d04950a8cfae74a6efdd5c",
       "version_major": 2,
       "version_minor": 0
      },
      "text/plain": [
       "Filter:   0%|          | 0/641272 [00:00<?, ? examples/s]"
      ]
     },
     "metadata": {},
     "output_type": "display_data"
    },
    {
     "data": {
      "application/vnd.jupyter.widget-view+json": {
       "model_id": "1ffee54e29bd4f5abcec93c4436f1cc7",
       "version_major": 2,
       "version_minor": 0
      },
      "text/plain": [
       "Filter:   0%|          | 0/511868 [00:00<?, ? examples/s]"
      ]
     },
     "metadata": {},
     "output_type": "display_data"
    },
    {
     "data": {
      "application/vnd.jupyter.widget-view+json": {
       "model_id": "ae21f2d1e3a145ac9203268bd9800b5f",
       "version_major": 2,
       "version_minor": 0
      },
      "text/plain": [
       "Map (num_proc=4):   0%|          | 0/1919576 [00:00<?, ? examples/s]"
      ]
     },
     "metadata": {},
     "output_type": "display_data"
    },
    {
     "data": {
      "application/vnd.jupyter.widget-view+json": {
       "model_id": "028c1d4d1f8e48b0a115b677fbf30e1e",
       "version_major": 2,
       "version_minor": 0
      },
      "text/plain": [
       "Map (num_proc=4):   0%|          | 0/641272 [00:00<?, ? examples/s]"
      ]
     },
     "metadata": {},
     "output_type": "display_data"
    },
    {
     "data": {
      "application/vnd.jupyter.widget-view+json": {
       "model_id": "26458a6b15e34dc5a23c8bf42a3cae45",
       "version_major": 2,
       "version_minor": 0
      },
      "text/plain": [
       "Map (num_proc=4):   0%|          | 0/492197 [00:00<?, ? examples/s]"
      ]
     },
     "metadata": {},
     "output_type": "display_data"
    },
    {
     "data": {
      "application/vnd.jupyter.widget-view+json": {
       "model_id": "be71f2382a444daa9a22e654df769264",
       "version_major": 2,
       "version_minor": 0
      },
      "text/plain": [
       "Filter:   0%|          | 0/1919576 [00:00<?, ? examples/s]"
      ]
     },
     "metadata": {},
     "output_type": "display_data"
    },
    {
     "data": {
      "application/vnd.jupyter.widget-view+json": {
       "model_id": "cc3cce9b1ea24c1fbf2008be9c41941b",
       "version_major": 2,
       "version_minor": 0
      },
      "text/plain": [
       "Filter:   0%|          | 0/641272 [00:00<?, ? examples/s]"
      ]
     },
     "metadata": {},
     "output_type": "display_data"
    },
    {
     "data": {
      "application/vnd.jupyter.widget-view+json": {
       "model_id": "f322f85fe2c64878b573e6f215d9a8c9",
       "version_major": 2,
       "version_minor": 0
      },
      "text/plain": [
       "Filter:   0%|          | 0/492197 [00:00<?, ? examples/s]"
      ]
     },
     "metadata": {},
     "output_type": "display_data"
    },
    {
     "data": {
      "application/vnd.jupyter.widget-view+json": {
       "model_id": "4176ae1857c448a6b9d0f2b5b7b9a989",
       "version_major": 2,
       "version_minor": 0
      },
      "text/plain": [
       "Map (num_proc=4):   0%|          | 0/1961914 [00:00<?, ? examples/s]"
      ]
     },
     "metadata": {},
     "output_type": "display_data"
    },
    {
     "data": {
      "application/vnd.jupyter.widget-view+json": {
       "model_id": "687c37b3ffb4416a9a1d79db19d47b88",
       "version_major": 2,
       "version_minor": 0
      },
      "text/plain": [
       "Map (num_proc=4):   0%|          | 0/641272 [00:00<?, ? examples/s]"
      ]
     },
     "metadata": {},
     "output_type": "display_data"
    },
    {
     "data": {
      "application/vnd.jupyter.widget-view+json": {
       "model_id": "a8f76b61b3c44e88b092e48cb93294d4",
       "version_major": 2,
       "version_minor": 0
      },
      "text/plain": [
       "Map (num_proc=4):   0%|          | 0/449859 [00:00<?, ? examples/s]"
      ]
     },
     "metadata": {},
     "output_type": "display_data"
    },
    {
     "data": {
      "application/vnd.jupyter.widget-view+json": {
       "model_id": "7b635fb88aad4ff6838e4c686631fdac",
       "version_major": 2,
       "version_minor": 0
      },
      "text/plain": [
       "Filter:   0%|          | 0/1961914 [00:00<?, ? examples/s]"
      ]
     },
     "metadata": {},
     "output_type": "display_data"
    },
    {
     "data": {
      "application/vnd.jupyter.widget-view+json": {
       "model_id": "e8881c94643049af9e8fc7c13607d32c",
       "version_major": 2,
       "version_minor": 0
      },
      "text/plain": [
       "Filter:   0%|          | 0/641272 [00:00<?, ? examples/s]"
      ]
     },
     "metadata": {},
     "output_type": "display_data"
    },
    {
     "data": {
      "application/vnd.jupyter.widget-view+json": {
       "model_id": "8be776a921cb452888f242a9f4424473",
       "version_major": 2,
       "version_minor": 0
      },
      "text/plain": [
       "Filter:   0%|          | 0/449859 [00:00<?, ? examples/s]"
      ]
     },
     "metadata": {},
     "output_type": "display_data"
    },
    {
     "data": {
      "application/vnd.jupyter.widget-view+json": {
       "model_id": "36ed15d18fda4d6f8eb82d38d02add0c",
       "version_major": 2,
       "version_minor": 0
      },
      "text/plain": [
       "Map (num_proc=4):   0%|          | 0/1941816 [00:00<?, ? examples/s]"
      ]
     },
     "metadata": {},
     "output_type": "display_data"
    },
    {
     "data": {
      "application/vnd.jupyter.widget-view+json": {
       "model_id": "c93983ba6f7840519fab7e20bc50a27d",
       "version_major": 2,
       "version_minor": 0
      },
      "text/plain": [
       "Map (num_proc=4):   0%|          | 0/641272 [00:00<?, ? examples/s]"
      ]
     },
     "metadata": {},
     "output_type": "display_data"
    },
    {
     "data": {
      "application/vnd.jupyter.widget-view+json": {
       "model_id": "ff018f5362a2454da99e3d2ee7a9e43c",
       "version_major": 2,
       "version_minor": 0
      },
      "text/plain": [
       "Map (num_proc=4):   0%|          | 0/469957 [00:00<?, ? examples/s]"
      ]
     },
     "metadata": {},
     "output_type": "display_data"
    },
    {
     "data": {
      "application/vnd.jupyter.widget-view+json": {
       "model_id": "26fda932102f473da60d63f1e42395fd",
       "version_major": 2,
       "version_minor": 0
      },
      "text/plain": [
       "Filter:   0%|          | 0/1941816 [00:00<?, ? examples/s]"
      ]
     },
     "metadata": {},
     "output_type": "display_data"
    },
    {
     "data": {
      "application/vnd.jupyter.widget-view+json": {
       "model_id": "94bbb6af2ca64c3f9c61ef7fd3b29f30",
       "version_major": 2,
       "version_minor": 0
      },
      "text/plain": [
       "Filter:   0%|          | 0/641272 [00:00<?, ? examples/s]"
      ]
     },
     "metadata": {},
     "output_type": "display_data"
    },
    {
     "data": {
      "application/vnd.jupyter.widget-view+json": {
       "model_id": "d9a77cf064fe4dfe99576f036256c0a0",
       "version_major": 2,
       "version_minor": 0
      },
      "text/plain": [
       "Filter:   0%|          | 0/469957 [00:00<?, ? examples/s]"
      ]
     },
     "metadata": {},
     "output_type": "display_data"
    },
    {
     "data": {
      "application/vnd.jupyter.widget-view+json": {
       "model_id": "52805743542c48dfa1746bb9024543d7",
       "version_major": 2,
       "version_minor": 0
      },
      "text/plain": [
       "Map (num_proc=4):   0%|          | 0/1923881 [00:00<?, ? examples/s]"
      ]
     },
     "metadata": {},
     "output_type": "display_data"
    },
    {
     "data": {
      "application/vnd.jupyter.widget-view+json": {
       "model_id": "7e216dcfed0b402ca60592da252dbe34",
       "version_major": 2,
       "version_minor": 0
      },
      "text/plain": [
       "Map (num_proc=4):   0%|          | 0/641272 [00:00<?, ? examples/s]"
      ]
     },
     "metadata": {},
     "output_type": "display_data"
    },
    {
     "data": {
      "application/vnd.jupyter.widget-view+json": {
       "model_id": "9f56919e55df4a5d8773d496fcd18dcc",
       "version_major": 2,
       "version_minor": 0
      },
      "text/plain": [
       "Map (num_proc=4):   0%|          | 0/487892 [00:00<?, ? examples/s]"
      ]
     },
     "metadata": {},
     "output_type": "display_data"
    },
    {
     "data": {
      "application/vnd.jupyter.widget-view+json": {
       "model_id": "6299373c266e43f7ba23ad811af94693",
       "version_major": 2,
       "version_minor": 0
      },
      "text/plain": [
       "Filter:   0%|          | 0/1923881 [00:00<?, ? examples/s]"
      ]
     },
     "metadata": {},
     "output_type": "display_data"
    },
    {
     "data": {
      "application/vnd.jupyter.widget-view+json": {
       "model_id": "851a04f3647f42b594ff73a78e8088da",
       "version_major": 2,
       "version_minor": 0
      },
      "text/plain": [
       "Filter:   0%|          | 0/641272 [00:00<?, ? examples/s]"
      ]
     },
     "metadata": {},
     "output_type": "display_data"
    },
    {
     "data": {
      "application/vnd.jupyter.widget-view+json": {
       "model_id": "9aad0830b8244ed5a441275eb622d8e4",
       "version_major": 2,
       "version_minor": 0
      },
      "text/plain": [
       "Filter:   0%|          | 0/487892 [00:00<?, ? examples/s]"
      ]
     },
     "metadata": {},
     "output_type": "display_data"
    },
    {
     "name": "stdout",
     "output_type": "stream",
     "text": [
      "+-----------------------------------------------------------------------------------------------------------------------------------------------------------------------------------------------------+\n",
      "|                                                                                             DecisionTree                                                                                            |\n",
      "+----------------------------------+----------------+----------------+---------------------+----------------+------------------------------+------------------------+----------------+----------------+\n",
      "|                                  | Validation F1  |    Test F1     | Validation Accuracy | Test Accuracy  | Validation Balanced Accuracy | Test Balanced Accuracy | Validation AUC |    Test AUC    |\n",
      "+----------------------------------+----------------+----------------+---------------------+----------------+------------------------------+------------------------+----------------+----------------+\n",
      "| Baseline & Low Physical Activity | 35.71% ± 2.04% | 31.54% ± 1.48% |    78.75% ± 0.88%   | 78.67% ± 0.61% |        60.52% ± 0.97%        |     58.6% ± 0.76%      | 63.32% ± 2.33% | 60.57% ± 1.15% |\n",
      "+----------------------------------+----------------+----------------+---------------------+----------------+------------------------------+------------------------+----------------+----------------+\n",
      "Validation Confusion Matrix\n",
      "[\n",
      "[ 9765 20725]\n",
      "[ 17012 120487]\n",
      "]\n",
      "[\n",
      "[10359 20577]\n",
      "[ 13908 116432]\n",
      "]\n",
      "[\n",
      "[10299 19635]\n",
      "[ 13659 110348]\n",
      "]\n",
      "[\n",
      "[ 8146 22732]\n",
      "[  9236 116983]\n",
      "]\n",
      "[\n",
      "[ 9057 22490]\n",
      "[ 11213 122126]\n",
      "]\n",
      "Test Confusion Matrix\n",
      "[\n",
      "[11028 29055]\n",
      "[ 17308 163175]\n",
      "]\n",
      "[\n",
      "[10827 29256]\n",
      "[ 16549 163934]\n",
      "]\n",
      "[\n",
      "[10452 29631]\n",
      "[ 16450 164033]\n",
      "]\n",
      "[\n",
      "[11908 28175]\n",
      "[ 20131 160352]\n",
      "]\n",
      "[\n",
      "[10019 30064]\n",
      "[ 18634 161849]\n",
      "]\n",
      "Reusing best params for DecisionTree (variant = Mental Stress & High Physical Activity)\n",
      "Skipping optimization, using given parameters... {'max_depth': 12, 'min_samples_split': 20, 'min_samples_leaf': 15}\n"
     ]
    },
    {
     "data": {
      "application/vnd.jupyter.widget-view+json": {
       "model_id": "a93d873ff787445f86695835ae6657d3",
       "version_major": 2,
       "version_minor": 0
      },
      "text/plain": [
       "Map (num_proc=4):   0%|          | 0/1899905 [00:00<?, ? examples/s]"
      ]
     },
     "metadata": {},
     "output_type": "display_data"
    },
    {
     "data": {
      "application/vnd.jupyter.widget-view+json": {
       "model_id": "0ae6fb36464342a1b3765935199a9b41",
       "version_major": 2,
       "version_minor": 0
      },
      "text/plain": [
       "Map (num_proc=4):   0%|          | 0/641272 [00:00<?, ? examples/s]"
      ]
     },
     "metadata": {},
     "output_type": "display_data"
    },
    {
     "data": {
      "application/vnd.jupyter.widget-view+json": {
       "model_id": "8a710210979d4756bd9e869c2207a8a5",
       "version_major": 2,
       "version_minor": 0
      },
      "text/plain": [
       "Map (num_proc=4):   0%|          | 0/511868 [00:00<?, ? examples/s]"
      ]
     },
     "metadata": {},
     "output_type": "display_data"
    },
    {
     "data": {
      "application/vnd.jupyter.widget-view+json": {
       "model_id": "ec5b66cb4aa64db4b9323d43d97f4a96",
       "version_major": 2,
       "version_minor": 0
      },
      "text/plain": [
       "Filter:   0%|          | 0/1899905 [00:00<?, ? examples/s]"
      ]
     },
     "metadata": {},
     "output_type": "display_data"
    },
    {
     "data": {
      "application/vnd.jupyter.widget-view+json": {
       "model_id": "6757fb9e57db4769a0482de3db6c26bb",
       "version_major": 2,
       "version_minor": 0
      },
      "text/plain": [
       "Filter:   0%|          | 0/641272 [00:00<?, ? examples/s]"
      ]
     },
     "metadata": {},
     "output_type": "display_data"
    },
    {
     "data": {
      "application/vnd.jupyter.widget-view+json": {
       "model_id": "d959542650cc457e925b6f5021906cda",
       "version_major": 2,
       "version_minor": 0
      },
      "text/plain": [
       "Filter:   0%|          | 0/511868 [00:00<?, ? examples/s]"
      ]
     },
     "metadata": {},
     "output_type": "display_data"
    },
    {
     "data": {
      "application/vnd.jupyter.widget-view+json": {
       "model_id": "5326025c69b44e9e9b7f949879203418",
       "version_major": 2,
       "version_minor": 0
      },
      "text/plain": [
       "Map (num_proc=4):   0%|          | 0/1919576 [00:00<?, ? examples/s]"
      ]
     },
     "metadata": {},
     "output_type": "display_data"
    },
    {
     "data": {
      "application/vnd.jupyter.widget-view+json": {
       "model_id": "437878cb55c9406b9fe24e920be12e79",
       "version_major": 2,
       "version_minor": 0
      },
      "text/plain": [
       "Map (num_proc=4):   0%|          | 0/641272 [00:00<?, ? examples/s]"
      ]
     },
     "metadata": {},
     "output_type": "display_data"
    },
    {
     "data": {
      "application/vnd.jupyter.widget-view+json": {
       "model_id": "77a658eb36974fafb91a11fda9f840e8",
       "version_major": 2,
       "version_minor": 0
      },
      "text/plain": [
       "Map (num_proc=4):   0%|          | 0/492197 [00:00<?, ? examples/s]"
      ]
     },
     "metadata": {},
     "output_type": "display_data"
    },
    {
     "data": {
      "application/vnd.jupyter.widget-view+json": {
       "model_id": "06b0754969d34dba89f8b0303adcc44f",
       "version_major": 2,
       "version_minor": 0
      },
      "text/plain": [
       "Filter:   0%|          | 0/1919576 [00:00<?, ? examples/s]"
      ]
     },
     "metadata": {},
     "output_type": "display_data"
    },
    {
     "data": {
      "application/vnd.jupyter.widget-view+json": {
       "model_id": "ac4df74cce704b86b56fa1abb9f972c9",
       "version_major": 2,
       "version_minor": 0
      },
      "text/plain": [
       "Filter:   0%|          | 0/641272 [00:00<?, ? examples/s]"
      ]
     },
     "metadata": {},
     "output_type": "display_data"
    },
    {
     "data": {
      "application/vnd.jupyter.widget-view+json": {
       "model_id": "fad8f288151643eebff28a087858e10f",
       "version_major": 2,
       "version_minor": 0
      },
      "text/plain": [
       "Filter:   0%|          | 0/492197 [00:00<?, ? examples/s]"
      ]
     },
     "metadata": {},
     "output_type": "display_data"
    },
    {
     "data": {
      "application/vnd.jupyter.widget-view+json": {
       "model_id": "81ad57fa35394be8b02bc3839d7709d2",
       "version_major": 2,
       "version_minor": 0
      },
      "text/plain": [
       "Map (num_proc=4):   0%|          | 0/1961914 [00:00<?, ? examples/s]"
      ]
     },
     "metadata": {},
     "output_type": "display_data"
    },
    {
     "data": {
      "application/vnd.jupyter.widget-view+json": {
       "model_id": "31f3b580e2854d8dbc4952d8e269e727",
       "version_major": 2,
       "version_minor": 0
      },
      "text/plain": [
       "Map (num_proc=4):   0%|          | 0/641272 [00:00<?, ? examples/s]"
      ]
     },
     "metadata": {},
     "output_type": "display_data"
    },
    {
     "data": {
      "application/vnd.jupyter.widget-view+json": {
       "model_id": "7fb535e2bc1148e5a1e416cbe2544eda",
       "version_major": 2,
       "version_minor": 0
      },
      "text/plain": [
       "Map (num_proc=4):   0%|          | 0/449859 [00:00<?, ? examples/s]"
      ]
     },
     "metadata": {},
     "output_type": "display_data"
    },
    {
     "data": {
      "application/vnd.jupyter.widget-view+json": {
       "model_id": "55f67e25178e4b32a51b30da7b7b1a57",
       "version_major": 2,
       "version_minor": 0
      },
      "text/plain": [
       "Filter:   0%|          | 0/1961914 [00:00<?, ? examples/s]"
      ]
     },
     "metadata": {},
     "output_type": "display_data"
    },
    {
     "data": {
      "application/vnd.jupyter.widget-view+json": {
       "model_id": "4d356fee098e4b779ca27b6a148dc131",
       "version_major": 2,
       "version_minor": 0
      },
      "text/plain": [
       "Filter:   0%|          | 0/641272 [00:00<?, ? examples/s]"
      ]
     },
     "metadata": {},
     "output_type": "display_data"
    },
    {
     "data": {
      "application/vnd.jupyter.widget-view+json": {
       "model_id": "d0141b25c16545b592ae6d4e3ee70c34",
       "version_major": 2,
       "version_minor": 0
      },
      "text/plain": [
       "Filter:   0%|          | 0/449859 [00:00<?, ? examples/s]"
      ]
     },
     "metadata": {},
     "output_type": "display_data"
    },
    {
     "data": {
      "application/vnd.jupyter.widget-view+json": {
       "model_id": "6b0f4c33a908484b96522fd89ca79f06",
       "version_major": 2,
       "version_minor": 0
      },
      "text/plain": [
       "Map (num_proc=4):   0%|          | 0/1941816 [00:00<?, ? examples/s]"
      ]
     },
     "metadata": {},
     "output_type": "display_data"
    },
    {
     "data": {
      "application/vnd.jupyter.widget-view+json": {
       "model_id": "b44325663314405b9da6fd4943d8fdf3",
       "version_major": 2,
       "version_minor": 0
      },
      "text/plain": [
       "Map (num_proc=4):   0%|          | 0/641272 [00:00<?, ? examples/s]"
      ]
     },
     "metadata": {},
     "output_type": "display_data"
    },
    {
     "data": {
      "application/vnd.jupyter.widget-view+json": {
       "model_id": "dcec8f74168e4590b7a1b5e6f5925655",
       "version_major": 2,
       "version_minor": 0
      },
      "text/plain": [
       "Map (num_proc=4):   0%|          | 0/469957 [00:00<?, ? examples/s]"
      ]
     },
     "metadata": {},
     "output_type": "display_data"
    },
    {
     "data": {
      "application/vnd.jupyter.widget-view+json": {
       "model_id": "9074d76aa6c741df9c42a049aa37c69c",
       "version_major": 2,
       "version_minor": 0
      },
      "text/plain": [
       "Filter:   0%|          | 0/1941816 [00:00<?, ? examples/s]"
      ]
     },
     "metadata": {},
     "output_type": "display_data"
    },
    {
     "data": {
      "application/vnd.jupyter.widget-view+json": {
       "model_id": "e1c5dcad03eb445abaa41f0ed12723b7",
       "version_major": 2,
       "version_minor": 0
      },
      "text/plain": [
       "Filter:   0%|          | 0/641272 [00:00<?, ? examples/s]"
      ]
     },
     "metadata": {},
     "output_type": "display_data"
    },
    {
     "data": {
      "application/vnd.jupyter.widget-view+json": {
       "model_id": "478ebc59931e4fd19acb2a8608cfa952",
       "version_major": 2,
       "version_minor": 0
      },
      "text/plain": [
       "Filter:   0%|          | 0/469957 [00:00<?, ? examples/s]"
      ]
     },
     "metadata": {},
     "output_type": "display_data"
    },
    {
     "data": {
      "application/vnd.jupyter.widget-view+json": {
       "model_id": "4e89ee16f42643f7a2c11a3f59ef527d",
       "version_major": 2,
       "version_minor": 0
      },
      "text/plain": [
       "Map (num_proc=4):   0%|          | 0/1923881 [00:00<?, ? examples/s]"
      ]
     },
     "metadata": {},
     "output_type": "display_data"
    },
    {
     "data": {
      "application/vnd.jupyter.widget-view+json": {
       "model_id": "815202d0dfcb4f8cb69f30feebb1a43e",
       "version_major": 2,
       "version_minor": 0
      },
      "text/plain": [
       "Map (num_proc=4):   0%|          | 0/641272 [00:00<?, ? examples/s]"
      ]
     },
     "metadata": {},
     "output_type": "display_data"
    },
    {
     "data": {
      "application/vnd.jupyter.widget-view+json": {
       "model_id": "6ad72509c16641e6a8e46fbbefec660e",
       "version_major": 2,
       "version_minor": 0
      },
      "text/plain": [
       "Map (num_proc=4):   0%|          | 0/487892 [00:00<?, ? examples/s]"
      ]
     },
     "metadata": {},
     "output_type": "display_data"
    },
    {
     "data": {
      "application/vnd.jupyter.widget-view+json": {
       "model_id": "f4abc9cda72543a3a74406260fa9bfe1",
       "version_major": 2,
       "version_minor": 0
      },
      "text/plain": [
       "Filter:   0%|          | 0/1923881 [00:00<?, ? examples/s]"
      ]
     },
     "metadata": {},
     "output_type": "display_data"
    },
    {
     "data": {
      "application/vnd.jupyter.widget-view+json": {
       "model_id": "52e1eef8ecea4b28a304b646a11237be",
       "version_major": 2,
       "version_minor": 0
      },
      "text/plain": [
       "Filter:   0%|          | 0/641272 [00:00<?, ? examples/s]"
      ]
     },
     "metadata": {},
     "output_type": "display_data"
    },
    {
     "data": {
      "application/vnd.jupyter.widget-view+json": {
       "model_id": "081ee8e6edb44fa9ad330c617c12dfaa",
       "version_major": 2,
       "version_minor": 0
      },
      "text/plain": [
       "Filter:   0%|          | 0/487892 [00:00<?, ? examples/s]"
      ]
     },
     "metadata": {},
     "output_type": "display_data"
    },
    {
     "name": "stdout",
     "output_type": "stream",
     "text": [
      "+-----------------------------------------------------------------------------------------------------------------------------------------------------------------------------------------------------------+\n",
      "|                                                                                                DecisionTree                                                                                               |\n",
      "+----------------------------------------+----------------+----------------+---------------------+----------------+------------------------------+------------------------+----------------+----------------+\n",
      "|                                        | Validation F1  |    Test F1     | Validation Accuracy | Test Accuracy  | Validation Balanced Accuracy | Test Balanced Accuracy | Validation AUC |    Test AUC    |\n",
      "+----------------------------------------+----------------+----------------+---------------------+----------------+------------------------------+------------------------+----------------+----------------+\n",
      "| Mental Stress & High Physical Activity | 82.65% ± 1.13% | 83.74% ± 0.86% |    86.16% ± 0.82%   | 87.26% ± 0.59% |        85.46% ± 0.87%        |     86.16% ± 0.7%      | 91.23% ± 1.01% | 92.38% ± 0.74% |\n",
      "+----------------------------------------+----------------+----------------+---------------------+----------------+------------------------------+------------------------+----------------+----------------+\n",
      "Validation Confusion Matrix\n",
      "[\n",
      "[151937  15427]\n",
      "[22803 84829]\n",
      "]\n",
      "[\n",
      "[148248  13837]\n",
      "[23482 83410]\n",
      "]\n",
      "[\n",
      "[131627  13875]\n",
      "[17640 82859]\n",
      "]\n",
      "[\n",
      "[130768  23193]\n",
      "[16112 90818]\n",
      "]\n",
      "[\n",
      "[138498  21010]\n",
      "[15254 93090]\n",
      "]\n",
      "Test Confusion Matrix\n",
      "[\n",
      "[187242  16201]\n",
      "[ 27249 114152]\n",
      "]\n",
      "[\n",
      "[187779  15664]\n",
      "[ 31459 109942]\n",
      "]\n",
      "[\n",
      "[189395  14048]\n",
      "[ 28281 113120]\n",
      "]\n",
      "[\n",
      "[187080  16363]\n",
      "[ 25820 115581]\n",
      "]\n",
      "[\n",
      "[186996  16447]\n",
      "[ 28184 113217]\n",
      "]\n",
      "Reusing best params for DecisionTree (variant = Baseline & Mental Stress & High Physical Activity)\n",
      "Skipping optimization, using given parameters... {'max_depth': 12, 'min_samples_split': 20, 'min_samples_leaf': 15}\n"
     ]
    },
    {
     "data": {
      "application/vnd.jupyter.widget-view+json": {
       "model_id": "0cb6805d967a4b858a530136b4016cdc",
       "version_major": 2,
       "version_minor": 0
      },
      "text/plain": [
       "Map (num_proc=4):   0%|          | 0/1899905 [00:00<?, ? examples/s]"
      ]
     },
     "metadata": {},
     "output_type": "display_data"
    },
    {
     "data": {
      "application/vnd.jupyter.widget-view+json": {
       "model_id": "f42d864960a04e1e9cdf9338ea9b31e0",
       "version_major": 2,
       "version_minor": 0
      },
      "text/plain": [
       "Map (num_proc=4):   0%|          | 0/641272 [00:00<?, ? examples/s]"
      ]
     },
     "metadata": {},
     "output_type": "display_data"
    },
    {
     "data": {
      "application/vnd.jupyter.widget-view+json": {
       "model_id": "1b73d34ed72b472c9ed8864c2e3ea21c",
       "version_major": 2,
       "version_minor": 0
      },
      "text/plain": [
       "Map (num_proc=4):   0%|          | 0/511868 [00:00<?, ? examples/s]"
      ]
     },
     "metadata": {},
     "output_type": "display_data"
    },
    {
     "data": {
      "application/vnd.jupyter.widget-view+json": {
       "model_id": "1bb52005ab7e455caf97cfe0b7713a05",
       "version_major": 2,
       "version_minor": 0
      },
      "text/plain": [
       "Filter:   0%|          | 0/1899905 [00:00<?, ? examples/s]"
      ]
     },
     "metadata": {},
     "output_type": "display_data"
    },
    {
     "data": {
      "application/vnd.jupyter.widget-view+json": {
       "model_id": "f6b967eaf22042a3b1c4056ad532b1ee",
       "version_major": 2,
       "version_minor": 0
      },
      "text/plain": [
       "Filter:   0%|          | 0/641272 [00:00<?, ? examples/s]"
      ]
     },
     "metadata": {},
     "output_type": "display_data"
    },
    {
     "data": {
      "application/vnd.jupyter.widget-view+json": {
       "model_id": "a5394b2b3949402a809d710c0589ffce",
       "version_major": 2,
       "version_minor": 0
      },
      "text/plain": [
       "Filter:   0%|          | 0/511868 [00:00<?, ? examples/s]"
      ]
     },
     "metadata": {},
     "output_type": "display_data"
    },
    {
     "data": {
      "application/vnd.jupyter.widget-view+json": {
       "model_id": "9f09e03b9a984aeda123d8204e7b6137",
       "version_major": 2,
       "version_minor": 0
      },
      "text/plain": [
       "Map (num_proc=4):   0%|          | 0/1919576 [00:00<?, ? examples/s]"
      ]
     },
     "metadata": {},
     "output_type": "display_data"
    },
    {
     "data": {
      "application/vnd.jupyter.widget-view+json": {
       "model_id": "7e13a025d9f8468cacd45bf2dc2852dc",
       "version_major": 2,
       "version_minor": 0
      },
      "text/plain": [
       "Map (num_proc=4):   0%|          | 0/641272 [00:00<?, ? examples/s]"
      ]
     },
     "metadata": {},
     "output_type": "display_data"
    },
    {
     "data": {
      "application/vnd.jupyter.widget-view+json": {
       "model_id": "6b241e82fef54eee9ddafbf7d6d038e9",
       "version_major": 2,
       "version_minor": 0
      },
      "text/plain": [
       "Map (num_proc=4):   0%|          | 0/492197 [00:00<?, ? examples/s]"
      ]
     },
     "metadata": {},
     "output_type": "display_data"
    },
    {
     "data": {
      "application/vnd.jupyter.widget-view+json": {
       "model_id": "f11b9a2351054944b39ede79682f8288",
       "version_major": 2,
       "version_minor": 0
      },
      "text/plain": [
       "Filter:   0%|          | 0/1919576 [00:00<?, ? examples/s]"
      ]
     },
     "metadata": {},
     "output_type": "display_data"
    },
    {
     "data": {
      "application/vnd.jupyter.widget-view+json": {
       "model_id": "c2d7ba4e901b43479007efe663dfba4f",
       "version_major": 2,
       "version_minor": 0
      },
      "text/plain": [
       "Filter:   0%|          | 0/641272 [00:00<?, ? examples/s]"
      ]
     },
     "metadata": {},
     "output_type": "display_data"
    },
    {
     "data": {
      "application/vnd.jupyter.widget-view+json": {
       "model_id": "4523cd079d1f4785b017cfe251962a5f",
       "version_major": 2,
       "version_minor": 0
      },
      "text/plain": [
       "Filter:   0%|          | 0/492197 [00:00<?, ? examples/s]"
      ]
     },
     "metadata": {},
     "output_type": "display_data"
    },
    {
     "data": {
      "application/vnd.jupyter.widget-view+json": {
       "model_id": "49323c1a2c34458793d53dd53ea45409",
       "version_major": 2,
       "version_minor": 0
      },
      "text/plain": [
       "Map (num_proc=4):   0%|          | 0/1961914 [00:00<?, ? examples/s]"
      ]
     },
     "metadata": {},
     "output_type": "display_data"
    },
    {
     "data": {
      "application/vnd.jupyter.widget-view+json": {
       "model_id": "400509420ab74a8cb09ad3cdb92a40c3",
       "version_major": 2,
       "version_minor": 0
      },
      "text/plain": [
       "Map (num_proc=4):   0%|          | 0/641272 [00:00<?, ? examples/s]"
      ]
     },
     "metadata": {},
     "output_type": "display_data"
    },
    {
     "data": {
      "application/vnd.jupyter.widget-view+json": {
       "model_id": "5f80f3ef79e243788fd1b26015f42be0",
       "version_major": 2,
       "version_minor": 0
      },
      "text/plain": [
       "Map (num_proc=4):   0%|          | 0/449859 [00:00<?, ? examples/s]"
      ]
     },
     "metadata": {},
     "output_type": "display_data"
    },
    {
     "data": {
      "application/vnd.jupyter.widget-view+json": {
       "model_id": "2d51a59a74834746bee1fa53e99777d4",
       "version_major": 2,
       "version_minor": 0
      },
      "text/plain": [
       "Filter:   0%|          | 0/1961914 [00:00<?, ? examples/s]"
      ]
     },
     "metadata": {},
     "output_type": "display_data"
    },
    {
     "data": {
      "application/vnd.jupyter.widget-view+json": {
       "model_id": "416733596cfa49b798c65c68e78c1dad",
       "version_major": 2,
       "version_minor": 0
      },
      "text/plain": [
       "Filter:   0%|          | 0/641272 [00:00<?, ? examples/s]"
      ]
     },
     "metadata": {},
     "output_type": "display_data"
    },
    {
     "data": {
      "application/vnd.jupyter.widget-view+json": {
       "model_id": "9e8105cd582d4d47997ac5ac03ee36a0",
       "version_major": 2,
       "version_minor": 0
      },
      "text/plain": [
       "Filter:   0%|          | 0/449859 [00:00<?, ? examples/s]"
      ]
     },
     "metadata": {},
     "output_type": "display_data"
    },
    {
     "data": {
      "application/vnd.jupyter.widget-view+json": {
       "model_id": "132dc6223e62487d8f66bb3804e56a9a",
       "version_major": 2,
       "version_minor": 0
      },
      "text/plain": [
       "Map (num_proc=4):   0%|          | 0/1941816 [00:00<?, ? examples/s]"
      ]
     },
     "metadata": {},
     "output_type": "display_data"
    },
    {
     "data": {
      "application/vnd.jupyter.widget-view+json": {
       "model_id": "9bbbc83429df4f3dae1451a2418af3a2",
       "version_major": 2,
       "version_minor": 0
      },
      "text/plain": [
       "Map (num_proc=4):   0%|          | 0/641272 [00:00<?, ? examples/s]"
      ]
     },
     "metadata": {},
     "output_type": "display_data"
    },
    {
     "data": {
      "application/vnd.jupyter.widget-view+json": {
       "model_id": "7f498d860d3b47d6b4c9661bdd17073d",
       "version_major": 2,
       "version_minor": 0
      },
      "text/plain": [
       "Map (num_proc=4):   0%|          | 0/469957 [00:00<?, ? examples/s]"
      ]
     },
     "metadata": {},
     "output_type": "display_data"
    },
    {
     "data": {
      "application/vnd.jupyter.widget-view+json": {
       "model_id": "c877b5be66484150a3dbdc7633251aaf",
       "version_major": 2,
       "version_minor": 0
      },
      "text/plain": [
       "Filter:   0%|          | 0/1941816 [00:00<?, ? examples/s]"
      ]
     },
     "metadata": {},
     "output_type": "display_data"
    },
    {
     "data": {
      "application/vnd.jupyter.widget-view+json": {
       "model_id": "64d62e7d4f104d5e91437af68c716a4a",
       "version_major": 2,
       "version_minor": 0
      },
      "text/plain": [
       "Filter:   0%|          | 0/641272 [00:00<?, ? examples/s]"
      ]
     },
     "metadata": {},
     "output_type": "display_data"
    },
    {
     "data": {
      "application/vnd.jupyter.widget-view+json": {
       "model_id": "0c80e89821b3467cb77165c3655f13e3",
       "version_major": 2,
       "version_minor": 0
      },
      "text/plain": [
       "Filter:   0%|          | 0/469957 [00:00<?, ? examples/s]"
      ]
     },
     "metadata": {},
     "output_type": "display_data"
    },
    {
     "data": {
      "application/vnd.jupyter.widget-view+json": {
       "model_id": "5db428559c574b409cbbbe16c9541311",
       "version_major": 2,
       "version_minor": 0
      },
      "text/plain": [
       "Map (num_proc=4):   0%|          | 0/1923881 [00:00<?, ? examples/s]"
      ]
     },
     "metadata": {},
     "output_type": "display_data"
    },
    {
     "data": {
      "application/vnd.jupyter.widget-view+json": {
       "model_id": "411f0467bb304db38508bc9a680c2c04",
       "version_major": 2,
       "version_minor": 0
      },
      "text/plain": [
       "Map (num_proc=4):   0%|          | 0/641272 [00:00<?, ? examples/s]"
      ]
     },
     "metadata": {},
     "output_type": "display_data"
    },
    {
     "data": {
      "application/vnd.jupyter.widget-view+json": {
       "model_id": "1768a2624b044e7193b4bc9bd5175b37",
       "version_major": 2,
       "version_minor": 0
      },
      "text/plain": [
       "Map (num_proc=4):   0%|          | 0/487892 [00:00<?, ? examples/s]"
      ]
     },
     "metadata": {},
     "output_type": "display_data"
    },
    {
     "data": {
      "application/vnd.jupyter.widget-view+json": {
       "model_id": "99d73a1c63a84c1aab926d67738236c3",
       "version_major": 2,
       "version_minor": 0
      },
      "text/plain": [
       "Filter:   0%|          | 0/1923881 [00:00<?, ? examples/s]"
      ]
     },
     "metadata": {},
     "output_type": "display_data"
    },
    {
     "data": {
      "application/vnd.jupyter.widget-view+json": {
       "model_id": "ad2fa98144b04894b4d6a5bf608104a7",
       "version_major": 2,
       "version_minor": 0
      },
      "text/plain": [
       "Filter:   0%|          | 0/641272 [00:00<?, ? examples/s]"
      ]
     },
     "metadata": {},
     "output_type": "display_data"
    },
    {
     "data": {
      "application/vnd.jupyter.widget-view+json": {
       "model_id": "1c30f99a57ab4e01b707ef5e851842cf",
       "version_major": 2,
       "version_minor": 0
      },
      "text/plain": [
       "Filter:   0%|          | 0/487892 [00:00<?, ? examples/s]"
      ]
     },
     "metadata": {},
     "output_type": "display_data"
    },
    {
     "name": "stdout",
     "output_type": "stream",
     "text": [
      "+-------------------------------------------------------------------------------------------------------------------------------------------------------------------------------------------------------------------+\n",
      "|                                                                                                    DecisionTree                                                                                                   |\n",
      "+---------------------------------------------------+----------------+---------------+---------------------+---------------+------------------------------+------------------------+----------------+---------------+\n",
      "|                                                   | Validation F1  |    Test F1    | Validation Accuracy | Test Accuracy | Validation Balanced Accuracy | Test Balanced Accuracy | Validation AUC |    Test AUC   |\n",
      "+---------------------------------------------------+----------------+---------------+---------------------+---------------+------------------------------+------------------------+----------------+---------------+\n",
      "| Baseline & Mental Stress & High Physical Activity | 62.28% ± 1.12% | 62.55% ± 1.0% |    62.28% ± 1.12%   | 62.55% ± 1.0% |        63.71% ± 1.32%        |     63.81% ± 0.99%     | 79.04% ± 0.86% | 79.8% ± 0.57% |\n",
      "+---------------------------------------------------+----------------+---------------+---------------------+---------------+------------------------------+------------------------+----------------+---------------+\n",
      "Validation Confusion Matrix\n",
      "[\n",
      "[83780 50605  3114]\n",
      "[68352 89918  9094]\n",
      "[10339 17422 79871]\n",
      "]\n",
      "[\n",
      "[69958 54828  5554]\n",
      "[59074 93346  9665]\n",
      "[ 7555 19218 80119]\n",
      "]\n",
      "[\n",
      "[68382 50554  5071]\n",
      "[54166 82010  9326]\n",
      "[ 6466 13971 80062]\n",
      "]\n",
      "[\n",
      "[65819 49075 11325]\n",
      "[44466 90273 19222]\n",
      "[ 5853 13611 87466]\n",
      "]\n",
      "[\n",
      "[78800 46161  8378]\n",
      "[54101 86783 18624]\n",
      "[ 5380 12764 90200]\n",
      "]\n",
      "Test Confusion Matrix\n",
      "[\n",
      "[106010  66606   7867]\n",
      "[ 83890 109713   9840]\n",
      "[  9005  25669 106727]\n",
      "]\n",
      "[\n",
      "[92720 79252  8511]\n",
      "[ 67555 126138   9750]\n",
      "[  7423  26195 107783]\n",
      "]\n",
      "[\n",
      "[106365  66159   7959]\n",
      "[ 74812 117265  11366]\n",
      "[  9287  23739 108375]\n",
      "]\n",
      "[\n",
      "[102667  68533   9283]\n",
      "[ 70387 120969  12087]\n",
      "[  6740  22605 112056]\n",
      "]\n",
      "[\n",
      "[104546  65733  10204]\n",
      "[ 79872 111208  12363]\n",
      "[  9348  21686 110367]\n",
      "]\n"
     ]
    },
    {
     "data": {
      "text/plain": [
       "{'max_depth': 12, 'min_samples_split': 20, 'min_samples_leaf': 15}"
      ]
     },
     "execution_count": 15,
     "metadata": {},
     "output_type": "execute_result"
    }
   ],
   "source": [
    "model = Model.DecisionTree\n",
    "\n",
    "print(\"Starting optimization for\", model.name, \"(variant = Mental Stress)\")\n",
    "best_params = optimize(model, mapping={ \"mental_stress\": 1 }, best_params={'max_depth': 12, 'min_samples_split': 20, 'min_samples_leaf': 15})\n",
    "\n",
    "print(\"Reusing best params for\", model.name, \"(variant = High Physical Activity)\")\n",
    "optimize(model, mapping={ \"high_physical_activity\": 1 }, best_params=best_params)\n",
    "# print(\"Reusing best params for\", model.name, \"(variant = Moderate Physical Activity)\")\n",
    "# optimize(model, mapping={ \"moderate_physical_activity\": 1 }, best_params=best_params)\n",
    "# print(\"Reusing best params for\", model.name, \"(variant = Low Physical Activity)\")\n",
    "# optimize(model, mapping={ \"low_physical_activity\": 1 }, best_params=best_params)\n",
    "print(\"Reusing best params for\", model.name, \"(variant = Mental Stress & High Physical Activity)\")\n",
    "optimize(model, mapping={ \"baseline\": -1, \"mental_stress\": 0, \"high_physical_activity\": 1 }, best_params=best_params)\n",
    "print(\"Reusing best params for\", model.name, \"(variant = Baseline & Mental Stress & High Physical Activity)\")\n",
    "optimize(model, mapping={ \"mental_stress\": 1, \"high_physical_activity\": 2 }, best_params=best_params)"
   ]
  },
  {
   "cell_type": "code",
   "execution_count": 16,
   "metadata": {},
   "outputs": [
    {
     "name": "stdout",
     "output_type": "stream",
     "text": [
      "Starting optimization for RandomForest (variant = Mental Stress)\n",
      "Skipping optimization, using given parameters... {'max_depth': 8, 'min_samples_split': 50, 'max_features': 5}\n",
      "+-------------------------------------------------------------------------------------------------------------------------------------------------------------------------------------------+\n",
      "|                                                                                        RandomForest                                                                                       |\n",
      "+--------------------------+----------------+----------------+---------------------+----------------+------------------------------+------------------------+----------------+--------------+\n",
      "|                          | Validation F1  |    Test F1     | Validation Accuracy | Test Accuracy  | Validation Balanced Accuracy | Test Balanced Accuracy | Validation AUC |   Test AUC   |\n",
      "+--------------------------+----------------+----------------+---------------------+----------------+------------------------------+------------------------+----------------+--------------+\n",
      "| Baseline & Mental Stress | 65.89% ± 2.66% | 63.89% ± 0.54% |    62.95% ± 1.52%   | 62.51% ± 0.18% |        62.7% ± 1.21%         |     62.5% ± 0.24%      | 68.11% ± 0.96% | 68.7% ± 0.3% |\n",
      "+--------------------------+----------------+----------------+---------------------+----------------+------------------------------+------------------------+----------------+--------------+\n",
      "Validation Confusion Matrix\n",
      "[\n",
      "[86375 51124]\n",
      "[ 61053 106311]\n",
      "]\n",
      "[\n",
      "[85092 45248]\n",
      "[67191 94894]\n",
      "]\n",
      "[\n",
      "[70670 53337]\n",
      "[50783 94719]\n",
      "]\n",
      "[\n",
      "[75586 50633]\n",
      "[ 51398 102563]\n",
      "]\n",
      "[\n",
      "[71574 61765]\n",
      "[ 40647 118861]\n",
      "]\n",
      "Test Confusion Matrix\n",
      "[\n",
      "[116009  64474]\n",
      "[ 78428 125015]\n",
      "]\n",
      "[\n",
      "[113646  66837]\n",
      "[ 77861 125582]\n",
      "]\n",
      "[\n",
      "[109364  71119]\n",
      "[ 72641 130802]\n",
      "]\n",
      "[\n",
      "[115334  65149]\n",
      "[ 78733 124710]\n",
      "]\n",
      "[\n",
      "[108812  71671]\n",
      "[ 72744 130699]\n",
      "]\n"
     ]
    },
    {
     "data": {
      "image/png": "[encoded data removed]",
      "text/plain": [
       "<Figure size 640x480 with 1 Axes>"
      ]
     },
     "metadata": {},
     "output_type": "display_data"
    },
    {
     "data": {
      "image/png": "[encoded data removed]",
      "text/plain": [
       "<Figure size 640x480 with 1 Axes>"
      ]
     },
     "metadata": {},
     "output_type": "display_data"
    },
    {
     "name": "stdout",
     "output_type": "stream",
     "text": [
      "Reusing best params for RandomForest (variant = High Physical Activity)\n",
      "Skipping optimization, using given parameters... {'max_depth': 8, 'min_samples_split': 50, 'max_features': 5}\n",
      "+----------------------------------------------------------------------------------------------------------------------------------------------------------------------------------------------------+\n",
      "|                                                                                            RandomForest                                                                                            |\n",
      "+-----------------------------------+---------------+----------------+---------------------+----------------+------------------------------+------------------------+----------------+---------------+\n",
      "|                                   | Validation F1 |    Test F1     | Validation Accuracy | Test Accuracy  | Validation Balanced Accuracy | Test Balanced Accuracy | Validation AUC |    Test AUC   |\n",
      "+-----------------------------------+---------------+----------------+---------------------+----------------+------------------------------+------------------------+----------------+---------------+\n",
      "| Baseline & High Physical Activity | 89.8% ± 1.73% | 90.02% ± 0.53% |    90.97% ± 1.56%   | 91.36% ± 0.44% |        90.73% ± 1.65%        |     91.08% ± 0.47%     | 96.89% ± 1.2%  | 97.57% ± 0.1% |\n",
      "+-----------------------------------+---------------+----------------+---------------------+----------------+------------------------------+------------------------+----------------+---------------+\n",
      "Validation Confusion Matrix\n",
      "[\n",
      "[133276   4223]\n",
      "[18062 89570]\n",
      "]\n",
      "[\n",
      "[122595   7745]\n",
      "[15582 91310]\n",
      "]\n",
      "[\n",
      "[116651   7356]\n",
      "[10119 90380]\n",
      "]\n",
      "[\n",
      "[110723  15496]\n",
      "[10524 96406]\n",
      "]\n",
      "[\n",
      "[121562  11777]\n",
      "[  5859 102485]\n",
      "]\n",
      "Test Confusion Matrix\n",
      "[\n",
      "[169791  10692]\n",
      "[ 17303 124098]\n",
      "]\n",
      "[\n",
      "[167507  12976]\n",
      "[ 16884 124517]\n",
      "]\n",
      "[\n",
      "[168332  12151]\n",
      "[ 16042 125359]\n",
      "]\n",
      "[\n",
      "[169006  11477]\n",
      "[ 14716 126685]\n",
      "]\n",
      "[\n",
      "[168391  12092]\n",
      "[ 14723 126678]\n",
      "]\n"
     ]
    },
    {
     "data": {
      "image/png": "[encoded data removed]",
      "text/plain": [
       "<Figure size 640x480 with 1 Axes>"
      ]
     },
     "metadata": {},
     "output_type": "display_data"
    },
    {
     "data": {
      "image/png": "[encoded data removed]",
      "text/plain": [
       "<Figure size 640x480 with 1 Axes>"
      ]
     },
     "metadata": {},
     "output_type": "display_data"
    },
    {
     "name": "stdout",
     "output_type": "stream",
     "text": [
      "Reusing best params for RandomForest (variant = Moderate Physical Activity)\n",
      "Skipping optimization, using given parameters... {'max_depth': 8, 'min_samples_split': 50, 'max_features': 5}\n",
      "+---------------------------------------------------------------------------------------------------------------------------------------------------------------------------------------------------------+\n",
      "|                                                                                               RandomForest                                                                                              |\n",
      "+---------------------------------------+----------------+----------------+---------------------+----------------+------------------------------+------------------------+----------------+---------------+\n",
      "|                                       | Validation F1  |    Test F1     | Validation Accuracy | Test Accuracy  | Validation Balanced Accuracy | Test Balanced Accuracy | Validation AUC |    Test AUC   |\n",
      "+---------------------------------------+----------------+----------------+---------------------+----------------+------------------------------+------------------------+----------------+---------------+\n",
      "| Baseline & Moderate Physical Activity | 49.67% ± 5.67% | 41.05% ± 1.95% |    88.69% ± 1.2%    | 87.94% ± 0.09% |         68.3% ± 3.6%         |     64.11% ± 1.07%     | 89.35% ± 1.93% | 87.1% ± 0.28% |\n",
      "+---------------------------------------+----------------+----------------+---------------------+----------------+------------------------------+------------------------+----------------+---------------+\n",
      "Validation Confusion Matrix\n",
      "[\n",
      "[136307   1192]\n",
      "[16116  6276]\n",
      "]\n",
      "[\n",
      "[127084   3256]\n",
      "[15301  8919]\n",
      "]\n",
      "[\n",
      "[120828   3179]\n",
      "[10289  8751]\n",
      "]\n",
      "[\n",
      "[118692   7527]\n",
      "[10157 10258]\n",
      "]\n",
      "[\n",
      "[128361   4978]\n",
      "[14107  8490]\n",
      "]\n",
      "Test Confusion Matrix\n",
      "[\n",
      "[175745   4738]\n",
      "[20091  7614]\n",
      "]\n",
      "[\n",
      "[174481   6002]\n",
      "[19217  8488]\n",
      "]\n",
      "[\n",
      "[173706   6777]\n",
      "[18558  9147]\n",
      "]\n",
      "[\n",
      "[173756   6727]\n",
      "[18343  9362]\n",
      "]\n",
      "[\n",
      "[173909   6574]\n",
      "[18500  9205]\n",
      "]\n"
     ]
    },
    {
     "data": {
      "image/png": "[encoded data removed]",
      "text/plain": [
       "<Figure size 640x480 with 1 Axes>"
      ]
     },
     "metadata": {},
     "output_type": "display_data"
    },
    {
     "data": {
      "image/png": "[encoded data removed]",
      "text/plain": [
       "<Figure size 640x480 with 1 Axes>"
      ]
     },
     "metadata": {},
     "output_type": "display_data"
    },
    {
     "name": "stdout",
     "output_type": "stream",
     "text": [
      "Reusing best params for RandomForest (variant = Low Physical Activity)\n",
      "Skipping optimization, using given parameters... {'max_depth': 8, 'min_samples_split': 50, 'max_features': 5}\n",
      "+---------------------------------------------------------------------------------------------------------------------------------------------------------------------------------------------------+\n",
      "|                                                                                            RandomForest                                                                                           |\n",
      "+----------------------------------+----------------+----------------+---------------------+---------------+------------------------------+------------------------+----------------+---------------+\n",
      "|                                  | Validation F1  |    Test F1     | Validation Accuracy | Test Accuracy | Validation Balanced Accuracy | Test Balanced Accuracy | Validation AUC |    Test AUC   |\n",
      "+----------------------------------+----------------+----------------+---------------------+---------------+------------------------------+------------------------+----------------+---------------+\n",
      "| Baseline & Low Physical Activity | 26.17% ± 4.11% | 24.55% ± 1.36% |    81.66% ± 0.38%   | 82.13% ± 0.4% |        57.05% ± 1.37%        |     56.41% ± 0.48%     | 75.24% ± 5.06% | 70.54% ± 0.5% |\n",
      "+----------------------------------+----------------+----------------+---------------------+---------------+------------------------------+------------------------+----------------+---------------+\n",
      "Validation Confusion Matrix\n",
      "[\n",
      "[ 6289 24201]\n",
      "[  5952 131547]\n",
      "]\n",
      "[\n",
      "[ 6404 24532]\n",
      "[  4945 125395]\n",
      "]\n",
      "[\n",
      "[ 5342 24592]\n",
      "[  3637 120370]\n",
      "]\n",
      "[\n",
      "[ 3841 27037]\n",
      "[  1500 124719]\n",
      "]\n",
      "[\n",
      "[ 4529 27018]\n",
      "[  4268 129071]\n",
      "]\n",
      "Test Confusion Matrix\n",
      "[\n",
      "[ 6799 33284]\n",
      "[  5940 174543]\n",
      "]\n",
      "[\n",
      "[ 6934 33149]\n",
      "[  7390 173093]\n",
      "]\n",
      "[\n",
      "[ 6014 34069]\n",
      "[  4945 175538]\n",
      "]\n",
      "[\n",
      "[ 6473 33610]\n",
      "[  4645 175838]\n",
      "]\n",
      "[\n",
      "[ 5858 34225]\n",
      "[  5767 174716]\n",
      "]\n"
     ]
    },
    {
     "data": {
      "image/png": "[encoded data removed]",
      "text/plain": [
       "<Figure size 640x480 with 1 Axes>"
      ]
     },
     "metadata": {},
     "output_type": "display_data"
    },
    {
     "data": {
      "image/png": "[encoded data removed]",
      "text/plain": [
       "<Figure size 640x480 with 1 Axes>"
      ]
     },
     "metadata": {},
     "output_type": "display_data"
    },
    {
     "name": "stdout",
     "output_type": "stream",
     "text": [
      "Reusing best params for RandomForest (variant = Mental Stress & High Physical Activity)\n",
      "Skipping optimization, using given parameters... {'max_depth': 8, 'min_samples_split': 50, 'max_features': 5}\n",
      "+----------------------------------------------------------------------------------------------------------------------------------------------------------------------------------------------------------+\n",
      "|                                                                                               RandomForest                                                                                               |\n",
      "+----------------------------------------+---------------+----------------+---------------------+----------------+------------------------------+------------------------+----------------+----------------+\n",
      "|                                        | Validation F1 |    Test F1     | Validation Accuracy | Test Accuracy  | Validation Balanced Accuracy | Test Balanced Accuracy | Validation AUC |    Test AUC    |\n",
      "+----------------------------------------+---------------+----------------+---------------------+----------------+------------------------------+------------------------+----------------+----------------+\n",
      "| Mental Stress & High Physical Activity | 85.0% ± 1.79% | 85.33% ± 0.98% |    88.15% ± 1.1%    | 88.66% ± 0.66% |        87.41% ± 1.52%        |     87.41% ± 0.81%     | 95.17% ± 1.13% | 96.49% ± 0.16% |\n",
      "+----------------------------------------+---------------+----------------+---------------------+----------------+------------------------------+------------------------+----------------+----------------+\n",
      "Validation Confusion Matrix\n",
      "[\n",
      "[156701  10663]\n",
      "[22193 85439]\n",
      "]\n",
      "[\n",
      "[148619  13466]\n",
      "[21645 85247]\n",
      "]\n",
      "[\n",
      "[135870   9632]\n",
      "[16774 83725]\n",
      "]\n",
      "[\n",
      "[135771  18190]\n",
      "[15224 91706]\n",
      "]\n",
      "[\n",
      "[140730  18778]\n",
      "[ 9953 98391]\n",
      "]\n",
      "Test Confusion Matrix\n",
      "[\n",
      "[191936  11507]\n",
      "[ 29187 112214]\n",
      "]\n",
      "[\n",
      "[191944  11499]\n",
      "[ 29055 112346]\n",
      "]\n",
      "[\n",
      "[191882  11561]\n",
      "[ 28837 112564]\n",
      "]\n",
      "[\n",
      "[191825  11618]\n",
      "[ 23708 117693]\n",
      "]\n",
      "[\n",
      "[192524  10919]\n",
      "[ 27587 113814]\n",
      "]\n"
     ]
    },
    {
     "data": {
      "image/png": "[encoded data removed]",
      "text/plain": [
       "<Figure size 640x480 with 1 Axes>"
      ]
     },
     "metadata": {},
     "output_type": "display_data"
    },
    {
     "data": {
      "image/png": "[encoded data removed]",
      "text/plain": [
       "<Figure size 640x480 with 1 Axes>"
      ]
     },
     "metadata": {},
     "output_type": "display_data"
    },
    {
     "name": "stdout",
     "output_type": "stream",
     "text": [
      "Reusing best params for RandomForest (variant = Baseline & Mental Stress & High Physical Activity)\n",
      "Skipping optimization, using given parameters... {'max_depth': 8, 'min_samples_split': 50, 'max_features': 5}\n",
      "+---------------------------------------------------------------------------------------------------------------------------------------------------------------------------------------------------------------------+\n",
      "|                                                                                                     RandomForest                                                                                                    |\n",
      "+---------------------------------------------------+---------------+----------------+---------------------+----------------+------------------------------+------------------------+----------------+----------------+\n",
      "|                                                   | Validation F1 |    Test F1     | Validation Accuracy | Test Accuracy  | Validation Balanced Accuracy | Test Balanced Accuracy | Validation AUC |    Test AUC    |\n",
      "+---------------------------------------------------+---------------+----------------+---------------------+----------------+------------------------------+------------------------+----------------+----------------+\n",
      "| Baseline & Mental Stress & High Physical Activity | 64.98% ± 1.2% | 65.15% ± 0.42% |    64.98% ± 1.2%    | 65.15% ± 0.42% |        66.57% ± 1.14%        |     66.52% ± 0.53%     | 83.19% ± 0.9%  | 84.03% ± 0.17% |\n",
      "+---------------------------------------------------+---------------+----------------+---------------------+----------------+------------------------------+------------------------+----------------+----------------+\n",
      "Validation Confusion Matrix\n",
      "[\n",
      "[87447 47619  2433]\n",
      "[63060 95420  8884]\n",
      "[ 6846 16700 84086]\n",
      "]\n",
      "[\n",
      "[84095 40439  5806]\n",
      "[67168 85199  9718]\n",
      "[ 5362 17971 83559]\n",
      "]\n",
      "[\n",
      "[69197 49794  5016]\n",
      "[48112 88762  8628]\n",
      "[ 1635 15260 83604]\n",
      "]\n",
      "[\n",
      "[72977 42954 10288]\n",
      "[50370 86727 16864]\n",
      "[ 4231 11141 91558]\n",
      "]\n",
      "[\n",
      "[67440 58935  6964]\n",
      "[ 38524 102554  18430]\n",
      "[ 1614  9316 97414]\n",
      "]\n",
      "Test Confusion Matrix\n",
      "[\n",
      "[115536  57300   7647]\n",
      "[ 79527 114729   9187]\n",
      "[  5215  24841 111345]\n",
      "]\n",
      "[\n",
      "[111147  60418   8918]\n",
      "[ 76482 117455   9506]\n",
      "[  3811  26753 110837]\n",
      "]\n",
      "[\n",
      "[108469  63001   9013]\n",
      "[ 73724 120622   9097]\n",
      "[  3653  25513 112235]\n",
      "]\n",
      "[\n",
      "[112866  58676   8941]\n",
      "[ 77317 115495  10631]\n",
      "[  5014  19724 116663]\n",
      "]\n",
      "[\n",
      "[108494  64363   7626]\n",
      "[ 72928 121680   8835]\n",
      "[  3749  23948 113704]\n",
      "]\n"
     ]
    },
    {
     "data": {
      "image/png": "[encoded data removed]",
      "text/plain": [
       "<Figure size 640x480 with 1 Axes>"
      ]
     },
     "metadata": {},
     "output_type": "display_data"
    },
    {
     "data": {
      "image/png": "[encoded data removed]",
      "text/plain": [
       "<Figure size 640x480 with 1 Axes>"
      ]
     },
     "metadata": {},
     "output_type": "display_data"
    },
    {
     "data": {
      "text/plain": [
       "{'max_depth': 8, 'min_samples_split': 50, 'max_features': 5}"
      ]
     },
     "execution_count": 16,
     "metadata": {},
     "output_type": "execute_result"
    }
   ],
   "source": [
    "model = Model.RandomForest\n",
    "\n",
    "print(\"Starting optimization for\", model.name, \"(variant = Mental Stress)\")\n",
    "best_params = optimize(model, mapping={ \"mental_stress\": 1 }, best_params={'max_depth': 8, 'min_samples_split': 50, 'max_features': 5})\n",
    "\n",
    "print(\"Reusing best params for\", model.name, \"(variant = High Physical Activity)\")\n",
    "optimize(model, mapping={ \"high_physical_activity\": 1 }, best_params=best_params)\n",
    "# print(\"Reusing best params for\", model.name, \"(variant = Moderate Physical Activity)\")\n",
    "# optimize(model, mapping={ \"moderate_physical_activity\": 1 }, best_params=best_params)\n",
    "# print(\"Reusing best params for\", model.name, \"(variant = Low Physical Activity)\")\n",
    "# optimize(model, mapping={ \"low_physical_activity\": 1 }, best_params=best_params)\n",
    "print(\"Reusing best params for\", model.name, \"(variant = Mental Stress & High Physical Activity)\")\n",
    "optimize(model, mapping={ \"baseline\": -1, \"mental_stress\": 0, \"high_physical_activity\": 1 }, best_params=best_params)\n",
    "print(\"Reusing best params for\", model.name, \"(variant = Baseline & Mental Stress & High Physical Activity)\")\n",
    "optimize(model, mapping={ \"mental_stress\": 1, \"high_physical_activity\": 2 }, best_params=best_params)"
   ]
  },
  {
   "cell_type": "code",
   "execution_count": 16,
   "metadata": {},
   "outputs": [
    {
     "name": "stdout",
     "output_type": "stream",
     "text": [
      "Starting optimization for AdaBoost (variant = Mental Stress)\n",
      "Skipping optimization, using given parameters... {'n_estimators': 100}\n"
     ]
    },
    {
     "name": "stderr",
     "output_type": "stream",
     "text": [
      "c:\\Users\\Admin\\AppData\\Local\\Programs\\Python\\Python311\\Lib\\site-packages\\sklearn\\ensemble\\_base.py:156: FutureWarning: `base_estimator` was renamed to `estimator` in version 1.2 and will be removed in 1.4.\n",
      "  warnings.warn(\n"
     ]
    }
   ],
   "source": [
    "model = Model.AdaBoost\n",
    "\n",
    "print(\"Starting optimization for\", model.name, \"(variant = Mental Stress)\")\n",
    "best_params = optimize(model, mapping={ \"mental_stress\": 1 }, best_params={'n_estimators': 100})\n",
    "\n",
    "print(\"Reusing best params for\", model.name, \"(variant = High Physical Activity)\")\n",
    "optimize(model, mapping={ \"high_physical_activity\": 1 }, best_params=best_params)\n",
    "# print(\"Reusing best params for\", model.name, \"(variant = Moderate Physical Activity)\")\n",
    "# optimize(model, mapping={ \"moderate_physical_activity\": 1 }, best_params=best_params)\n",
    "# print(\"Reusing best params for\", model.name, \"(variant = Low Physical Activity)\")\n",
    "# optimize(model, mapping={ \"low_physical_activity\": 1 }, best_params=best_params)\n",
    "print(\"Reusing best params for\", model.name, \"(variant = Mental Stress & High Physical Activity)\")\n",
    "optimize(model, mapping={ \"baseline\": -1, \"mental_stress\": 0, \"high_physical_activity\": 1 }, best_params=best_params)\n",
    "print(\"Reusing best params for\", model.name, \"(variant = Baseline & Mental Stress & High Physical Activity)\")\n",
    "optimize(model, mapping={ \"mental_stress\": 1, \"high_physical_activity\": 2 }, best_params=best_params)"
   ]
  },
  {
   "cell_type": "code",
   "execution_count": 19,
   "metadata": {},
   "outputs": [
    {
     "name": "stdout",
     "output_type": "stream",
     "text": [
      "Starting optimization for LinearDiscriminantAnalysis (variant = Mental Stress)\n",
      "Skipping optimization, using given parameters... {'solver': 'lsqr', 'shrinkage': 0.15599452033620265}\n",
      "+---------------------------------------------------------------------------------------------------------------------------------------------------------------------------------------------+\n",
      "|                                                                                  LinearDiscriminantAnalysis                                                                                 |\n",
      "+--------------------------+----------------+----------------+---------------------+----------------+------------------------------+------------------------+----------------+----------------+\n",
      "|                          | Validation F1  |    Test F1     | Validation Accuracy | Test Accuracy  | Validation Balanced Accuracy | Test Balanced Accuracy | Validation AUC |    Test AUC    |\n",
      "+--------------------------+----------------+----------------+---------------------+----------------+------------------------------+------------------------+----------------+----------------+\n",
      "| Baseline & Mental Stress | 69.22% ± 1.86% | 68.93% ± 0.47% |    57.5% ± 1.03%    | 58.95% ± 0.35% |        54.37% ± 1.28%        |     57.23% ± 0.52%     | 59.72% ± 2.77% | 60.33% ± 0.68% |\n",
      "+--------------------------+----------------+----------------+---------------------+----------------+------------------------------+------------------------+----------------+----------------+\n",
      "Validation Confusion Matrix\n",
      "[\n",
      "[ 35426 102073]\n",
      "[ 23989 143375]\n",
      "]\n",
      "[\n",
      "[39894 90446]\n",
      "[ 34575 127510]\n",
      "]\n",
      "[\n",
      "[31199 92808]\n",
      "[ 22521 122981]\n",
      "]\n",
      "[\n",
      "[ 17438 108781]\n",
      "[ 14324 139637]\n",
      "]\n",
      "[\n",
      "[ 13669 119670]\n",
      "[  2313 157195]\n",
      "]\n",
      "Test Confusion Matrix\n",
      "[\n",
      "[ 58144 122339]\n",
      "[ 33332 170111]\n",
      "]\n",
      "[\n",
      "[ 58010 122473]\n",
      "[ 34259 169184]\n",
      "]\n",
      "[\n",
      "[ 48559 131924]\n",
      "[ 26179 177264]\n",
      "]\n",
      "[\n",
      "[ 48731 131752]\n",
      "[ 26868 176575]\n",
      "]\n",
      "[\n",
      "[ 43780 136703]\n",
      "[ 22128 181315]\n",
      "]\n",
      "Reusing best params for LinearDiscriminantAnalysis (variant = High Physical Activity)\n",
      "Skipping optimization, using given parameters... {'solver': 'lsqr', 'shrinkage': 0.15599452033620265}\n",
      "+-----------------------------------------------------------------------------------------------------------------------------------------------------------------------------------------------------+\n",
      "|                                                                                      LinearDiscriminantAnalysis                                                                                     |\n",
      "+-----------------------------------+---------------+----------------+---------------------+----------------+------------------------------+------------------------+----------------+----------------+\n",
      "|                                   | Validation F1 |    Test F1     | Validation Accuracy | Test Accuracy  | Validation Balanced Accuracy | Test Balanced Accuracy | Validation AUC |    Test AUC    |\n",
      "+-----------------------------------+---------------+----------------+---------------------+----------------+------------------------------+------------------------+----------------+----------------+\n",
      "| Baseline & High Physical Activity | 85.51% ± 0.9% | 85.53% ± 0.49% |    86.83% ± 1.07%   | 87.77% ± 0.28% |        86.79% ± 0.88%        |     87.18% ± 0.4%      | 94.79% ± 1.14% | 95.25% ± 0.08% |\n",
      "+-----------------------------------+---------------+----------------+---------------------+----------------+------------------------------+------------------------+----------------+----------------+\n",
      "Validation Confusion Matrix\n",
      "[\n",
      "[125496  12003]\n",
      "[17926 89706]\n",
      "]\n",
      "[\n",
      "[117485  12855]\n",
      "[19565 87327]\n",
      "]\n",
      "[\n",
      "[110981  13026]\n",
      "[13538 86961]\n",
      "]\n",
      "[\n",
      "[107422  18797]\n",
      "[13980 92950]\n",
      "]\n",
      "[\n",
      "[105463  27876]\n",
      "[  6131 102213]\n",
      "]\n",
      "Test Confusion Matrix\n",
      "[\n",
      "[167075  13408]\n",
      "[ 25897 115504]\n",
      "]\n",
      "[\n",
      "[167242  13241]\n",
      "[ 27519 113882]\n",
      "]\n",
      "[\n",
      "[166331  14152]\n",
      "[ 25450 115951]\n",
      "]\n",
      "[\n",
      "[165024  15459]\n",
      "[ 23355 118046]\n",
      "]\n",
      "[\n",
      "[164675  15808]\n",
      "[ 22572 118829]\n",
      "]\n",
      "Reusing best params for LinearDiscriminantAnalysis (variant = Moderate Physical Activity)\n",
      "Skipping optimization, using given parameters... {'solver': 'lsqr', 'shrinkage': 0.15599452033620265}\n",
      "+--------------------------------------------------------------------------------------------------------------------------------------------------------------------------------------------------------+\n",
      "|                                                                                       LinearDiscriminantAnalysis                                                                                       |\n",
      "+---------------------------------------+---------------+---------------+---------------------+----------------+------------------------------+------------------------+----------------+----------------+\n",
      "|                                       | Validation F1 |    Test F1    | Validation Accuracy | Test Accuracy  | Validation Balanced Accuracy | Test Balanced Accuracy | Validation AUC |    Test AUC    |\n",
      "+---------------------------------------+---------------+---------------+---------------------+----------------+------------------------------+------------------------+----------------+----------------+\n",
      "| Baseline & Moderate Physical Activity | 22.9% ± 6.71% | 6.16% ± 2.04% |    86.64% ± 1.29%   | 86.22% ± 0.12% |        56.43% ± 2.22%        |     51.18% ± 0.5%      | 84.93% ± 2.22% | 83.95% ± 0.27% |\n",
      "+---------------------------------------+---------------+---------------+---------------------+----------------+------------------------------+------------------------+----------------+----------------+\n",
      "Validation Confusion Matrix\n",
      "[\n",
      "[135842   1657]\n",
      "[19838  2554]\n",
      "]\n",
      "[\n",
      "[130137    203]\n",
      "[22303  1917]\n",
      "]\n",
      "[\n",
      "[123363    644]\n",
      "[15343  3697]\n",
      "]\n",
      "[\n",
      "[123796   2423]\n",
      "[17622  2793]\n",
      "]\n",
      "[\n",
      "[130055   3284]\n",
      "[18499  4098]\n",
      "]\n",
      "Test Confusion Matrix\n",
      "[\n",
      "[178344   2139]\n",
      "[26444  1261]\n",
      "]\n",
      "[\n",
      "[179186   1297]\n",
      "[27021   684]\n",
      "]\n",
      "[\n",
      "[178764   1719]\n",
      "[27021   684]\n",
      "]\n",
      "[\n",
      "[178552   1931]\n",
      "[26964   741]\n",
      "]\n",
      "[\n",
      "[177911   2572]\n",
      "[26337  1368]\n",
      "]\n",
      "Reusing best params for LinearDiscriminantAnalysis (variant = Low Physical Activity)\n",
      "Skipping optimization, using given parameters... {'solver': 'lsqr', 'shrinkage': 0.15599452033620265}\n",
      "+--------------------------------------------------------------------------------------------------------------------------------------------------------------------------------------------------+\n",
      "|                                                                                    LinearDiscriminantAnalysis                                                                                    |\n",
      "+----------------------------------+---------------+---------------+---------------------+---------------+------------------------------+------------------------+----------------+----------------+\n",
      "|                                  | Validation F1 |    Test F1    | Validation Accuracy | Test Accuracy | Validation Balanced Accuracy | Test Balanced Accuracy | Validation AUC |    Test AUC    |\n",
      "+----------------------------------+---------------+---------------+---------------------+---------------+------------------------------+------------------------+----------------+----------------+\n",
      "| Baseline & Low Physical Activity |  0.0% ± 0.0%  | 0.06% ± 0.03% |    80.88% ± 0.58%   | 81.83% ± 0.0% |         50.0% ± 0.0%         |     50.01% ± 0.01%     | 62.18% ± 2.48% | 62.29% ± 0.39% |\n",
      "+----------------------------------+---------------+---------------+---------------------+---------------+------------------------------+------------------------+----------------+----------------+\n",
      "Validation Confusion Matrix\n",
      "[\n",
      "[    0 30490]\n",
      "[    12 137487]\n",
      "]\n",
      "[\n",
      "[    0 30936]\n",
      "[     0 130340]\n",
      "]\n",
      "[\n",
      "[    0 29934]\n",
      "[     0 124007]\n",
      "]\n",
      "[\n",
      "[    0 30878]\n",
      "[     0 126219]\n",
      "]\n",
      "[\n",
      "[    0 31547]\n",
      "[    14 133325]\n",
      "]\n",
      "Test Confusion Matrix\n",
      "[\n",
      "[   19 40064]\n",
      "[    27 180456]\n",
      "]\n",
      "[\n",
      "[    9 40074]\n",
      "[     0 180483]\n",
      "]\n",
      "[\n",
      "[   11 40072]\n",
      "[     0 180483]\n",
      "]\n",
      "[\n",
      "[    5 40078]\n",
      "[     0 180483]\n",
      "]\n",
      "[\n",
      "[   16 40067]\n",
      "[     0 180483]\n",
      "]\n",
      "Reusing best params for LinearDiscriminantAnalysis (variant = Mental Stress & High Physical Activity)\n",
      "Skipping optimization, using given parameters... {'solver': 'lsqr', 'shrinkage': 0.15599452033620265}\n",
      "+-----------------------------------------------------------------------------------------------------------------------------------------------------------------------------------------------------------+\n",
      "|                                                                                         LinearDiscriminantAnalysis                                                                                        |\n",
      "+----------------------------------------+----------------+----------------+---------------------+----------------+------------------------------+------------------------+----------------+----------------+\n",
      "|                                        | Validation F1  |    Test F1     | Validation Accuracy | Test Accuracy  | Validation Balanced Accuracy | Test Balanced Accuracy | Validation AUC |    Test AUC    |\n",
      "+----------------------------------------+----------------+----------------+---------------------+----------------+------------------------------+------------------------+----------------+----------------+\n",
      "| Mental Stress & High Physical Activity | 82.99% ± 2.02% | 83.81% ± 0.74% |    86.67% ± 1.48%   | 87.92% ± 0.36% |        85.73% ± 1.53%        |     86.15% ± 0.59%     | 94.08% ± 1.36% | 95.89% ± 0.08% |\n",
      "+----------------------------------------+----------------+----------------+---------------------+----------------+------------------------------+------------------------+----------------+----------------+\n",
      "Validation Confusion Matrix\n",
      "[\n",
      "[152783  14581]\n",
      "[23405 84227]\n",
      "]\n",
      "[\n",
      "[151437  10648]\n",
      "[27489 79403]\n",
      "]\n",
      "[\n",
      "[137138   8364]\n",
      "[20415 80084]\n",
      "]\n",
      "[\n",
      "[139561  14400]\n",
      "[16616 90314]\n",
      "]\n",
      "[\n",
      "[131537  27971]\n",
      "[12417 95927]\n",
      "]\n",
      "Test Confusion Matrix\n",
      "[\n",
      "[196178   7265]\n",
      "[ 35132 106269]\n",
      "]\n",
      "[\n",
      "[196846   6597]\n",
      "[ 36577 104824]\n",
      "]\n",
      "[\n",
      "[195344   8099]\n",
      "[ 33872 107529]\n",
      "]\n",
      "[\n",
      "[193032  10411]\n",
      "[ 29724 111677]\n",
      "]\n",
      "[\n",
      "[194801   8642]\n",
      "[ 32027 109374]\n",
      "]\n",
      "Reusing best params for LinearDiscriminantAnalysis (variant = Baseline & Mental Stress & High Physical Activity)\n",
      "Skipping optimization, using given parameters... {'solver': 'lsqr', 'shrinkage': 0.15599452033620265}\n",
      "+---------------------------------------------------------------------------------------------------------------------------------------------------------------------------------------------------------------------+\n",
      "|                                                                                              LinearDiscriminantAnalysis                                                                                             |\n",
      "+---------------------------------------------------+----------------+----------------+---------------------+----------------+------------------------------+------------------------+----------------+---------------+\n",
      "|                                                   | Validation F1  |    Test F1     | Validation Accuracy | Test Accuracy  | Validation Balanced Accuracy | Test Balanced Accuracy | Validation AUC |    Test AUC   |\n",
      "+---------------------------------------------------+----------------+----------------+---------------------+----------------+------------------------------+------------------------+----------------+---------------+\n",
      "| Baseline & Mental Stress & High Physical Activity | 59.53% ± 1.21% | 61.76% ± 0.23% |    59.53% ± 1.21%   | 61.76% ± 0.23% |        59.63% ± 1.21%        |     61.83% ± 0.27%     | 79.53% ± 0.95% | 81.26% ± 0.2% |\n",
      "+---------------------------------------------------+----------------+----------------+---------------------+----------------+------------------------------+------------------------+----------------+---------------+\n",
      "Validation Confusion Matrix\n",
      "[\n",
      "[37546 91153  8800]\n",
      "[ 26225 126169  14970]\n",
      "[   99 23849 83684]\n",
      "]\n",
      "[\n",
      "[42118 79479  8743]\n",
      "[ 37406 114274  10405]\n",
      "[    0 29452 77440]\n",
      "]\n",
      "[\n",
      "[33200 82472  8335]\n",
      "[ 24949 112964   7589]\n",
      "[    0 20178 80321]\n",
      "]\n",
      "[\n",
      "[19817 93241 13161]\n",
      "[ 16057 123032  14872]\n",
      "[  741 17749 88440]\n",
      "]\n",
      "[\n",
      "[ 14781 103014  15544]\n",
      "[  3119 124048  32341]\n",
      "[    0 13758 94586]\n",
      "]\n",
      "Test Confusion Matrix\n",
      "[\n",
      "[ 61522 109824   9137]\n",
      "[ 37199 160563   5681]\n",
      "[   315  37494 103592]\n",
      "]\n",
      "[\n",
      "[ 61268 110737   8478]\n",
      "[ 38027 159786   5630]\n",
      "[   315  39557 101529]\n",
      "]\n",
      "[\n",
      "[ 52619 118597   9267]\n",
      "[ 30198 167247   5998]\n",
      "[   315  36899 104187]\n",
      "]\n",
      "[\n",
      "[ 53178 117182  10123]\n",
      "[ 31395 165528   6520]\n",
      "[   315  34800 106286]\n",
      "]\n",
      "[\n",
      "[ 46018 123759  10706]\n",
      "[ 25137 171274   7032]\n",
      "[   315  33442 107644]\n",
      "]\n"
     ]
    },
    {
     "data": {
      "text/plain": [
       "{'solver': 'lsqr', 'shrinkage': 0.15599452033620265}"
      ]
     },
     "execution_count": 19,
     "metadata": {},
     "output_type": "execute_result"
    }
   ],
   "source": [
    "model = Model.LinearDiscriminantAnalysis\n",
    "\n",
    "print(\"Starting optimization for\", model.name, \"(variant = Mental Stress)\")\n",
    "best_params = optimize(model, mapping={ \"mental_stress\": 1 }, best_params= {})\n",
    "\n",
    "print(\"Reusing best params for\", model.name, \"(variant = High Physical Activity)\")\n",
    "optimize(model, mapping={ \"high_physical_activity\": 1 }, best_params=best_params)\n",
    "print(\"Reusing best params for\", model.name, \"(variant = Moderate Physical Activity)\")\n",
    "# optimize(model, mapping={ \"moderate_physical_activity\": 1 }, best_params=best_params)\n",
    "# print(\"Reusing best params for\", model.name, \"(variant = Low Physical Activity)\")\n",
    "# optimize(model, mapping={ \"low_physical_activity\": 1 }, best_params=best_params)\n",
    "# print(\"Reusing best params for\", model.name, \"(variant = Mental Stress & High Physical Activity)\")\n",
    "optimize(model, mapping={ \"baseline\": -1, \"mental_stress\": 0, \"high_physical_activity\": 1 }, best_params=best_params)\n",
    "print(\"Reusing best params for\", model.name, \"(variant = Baseline & Mental Stress & High Physical Activity)\")\n",
    "optimize(model, mapping={ \"mental_stress\": 1, \"high_physical_activity\": 2 }, best_params=best_params)"
   ]
  },
  {
   "cell_type": "code",
   "execution_count": null,
   "metadata": {},
   "outputs": [
    {
     "name": "stderr",
     "output_type": "stream",
     "text": [
      "[I 2024-07-25 18:32:43,945] A new study created in RDB with name: KNearestNeighbors_./data/ecg_final_453bf7d8-1958-44e2-836e-556470cd7170\n"
     ]
    },
    {
     "name": "stdout",
     "output_type": "stream",
     "text": [
      "Starting optimization for KNearestNeighbors (variant = Mental Stress)\n"
     ]
    },
    {
     "data": {
      "application/vnd.jupyter.widget-view+json": {
       "model_id": "32753859379443f6b5d62ce001f0ac44",
       "version_major": 2,
       "version_minor": 0
      },
      "text/plain": [
       "  0%|          | 0/5 [00:00<?, ?it/s]"
      ]
     },
     "metadata": {},
     "output_type": "display_data"
    },
    {
     "name": "stdout",
     "output_type": "stream",
     "text": [
      "[I 2024-07-26 00:30:55,047] Trial 0 finished with value: 0.5762645504240577 and parameters: {'n_neighbors': 19, 'weights': 'uniform', 'p': 2}. Best is trial 0 with value: 0.5762645504240577.\n"
     ]
    }
   ],
   "source": [
    "model = Model.KNearestNeighbors\n",
    "\n",
    "print(\"Starting optimization for\", model.name, \"(variant = Mental Stress)\")\n",
    "best_params = optimize(model, mapping={ \"mental_stress\": 1 }, params={'n_neighbors': 9})\n",
    "\n",
    "print(\"Reusing best params for\", model.name, \"(variant = High Physical Activity)\")\n",
    "optimize(model, mapping={ \"high_physical_activity\": 1 }, best_params=best_params)\n",
    "# print(\"Reusing best params for\", model.name, \"(variant = Moderate Physical Activity)\")\n",
    "# optimize(model, mapping={ \"moderate_physical_activity\": 1 }, best_params=best_params)\n",
    "# print(\"Reusing best params for\", model.name, \"(variant = Low Physical Activity)\")\n",
    "# optimize(model, mapping={ \"low_physical_activity\": 1 }, best_params=best_params)\n",
    "print(\"Reusing best params for\", model.name, \"(variant = Mental Stress & High Physical Activity)\")\n",
    "optimize(model, mapping={ \"baseline\": -1, \"mental_stress\": 0, \"high_physical_activity\": 1 }, best_params=best_params)\n",
    "print(\"Reusing best params for\", model.name, \"(variant = Baseline & Mental Stress & High Physical Activity)\")\n",
    "optimize(model, mapping={ \"mental_stress\": 1, \"high_physical_activity\": 2 }, best_params=best_params)"
   ]
  },
  {
   "cell_type": "code",
   "execution_count": null,
   "metadata": {},
   "outputs": [],
   "source": [
    "model = Model.LogisticRegression\n",
    "\n",
    "print(\"Starting optimization for\", model.name, \"(variant = Mental Stress)\")\n",
    "best_params = optimize(model, mapping={ \"mental_stress\": 1 })\n",
    "\n",
    "print(\"Reusing best params for\", model.name, \"(variant = High Physical Activity)\")\n",
    "optimize(model, mapping={ \"high_physical_activity\": 1 }, best_params=best_params)\n",
    "# print(\"Reusing best params for\", model.name, \"(variant = Moderate Physical Activity)\")\n",
    "# optimize(model, mapping={ \"moderate_physical_activity\": 1 }, best_params=best_params)\n",
    "# print(\"Reusing best params for\", model.name, \"(variant = Low Physical Activity)\")\n",
    "# optimize(model, mapping={ \"lower_physical_activity\": 1 }, best_params=best_params)\n",
    "print(\"Reusing best params for\", model.name, \"(variant = Mental Stress & High Physical Activity)\")\n",
    "optimize(model, mapping={ \"baseline\": -1, \"mental_stress\": 0, \"high_physical_activity\": 1 }, best_params=best_params)\n",
    "print(\"Reusing best params for\", model.name, \"(variant = Baseline & Mental Stress & High Physical Activity)\")\n",
    "optimize(model, mapping={ \"mental_stress\": 1, \"high_physical_activity\": 2 }, best_params=best_params)"
   ]
  },
  {
   "cell_type": "code",
   "execution_count": null,
   "metadata": {},
   "outputs": [],
   "source": [
    "model = Model.XGBoost\n",
    "\n",
    "print(\"Starting optimization for\", model.name, \"(variant = Mental Stress)\")\n",
    "best_params = optimize(model, mapping={ \"mental_stress\": 1 })\n",
    "\n",
    "print(\"Reusing best params for\", model.name, \"(variant = High Physical Activity)\")\n",
    "optimize(model, mapping={ \"high_physical_activity\": 1 }, best_params=best_params)\n",
    "# print(\"Reusing best params for\", model.name, \"(variant = Moderate Physical Activity)\")\n",
    "# optimize(model, mapping={ \"moderate_physical_activity\": 1 }, best_params=best_params)\n",
    "# print(\"Reusing best params for\", model.name, \"(variant = Low Physical Activity)\")\n",
    "# optimize(model, mapping={ \"low_physical_activity\": 1 }, best_params=best_params)\n",
    "print(\"Reusing best params for\", model.name, \"(variant = Mental Stress & High Physical Activity)\")\n",
    "optimize(model, mapping={ \"baseline\": -1, \"mental_stress\": 0, \"high_physical_activity\": 1 }, best_params=best_params)\n",
    "print(\"Reusing best params for\", model.name, \"(variant = Baseline & Mental Stress & High Physical Activity)\")\n",
    "optimize(model, mapping={ \"mental_stress\": 1, \"high_physical_activity\": 2 }, best_params=best_params)"
   ]
  },
  {
   "cell_type": "code",
   "execution_count": null,
   "metadata": {},
   "outputs": [],
   "source": [
    "model = Model.QuadraticDiscriminantAnalysis\n",
    "\n",
    "print(\"Starting optimization for\", model.name, \"(variant = Mental Stress)\")\n",
    "best_params = optimize(model, mapping={ \"mental_stress\": 1 })\n",
    "\n",
    "print(\"Reusing best params for\", model.name, \"(variant = High Physical Activity)\")\n",
    "optimize(model, mapping={ \"high_physical_activity\": 1 }, best_params=best_params)\n",
    "# print(\"Reusing best params for\", model.name, \"(variant = Moderate Physical Activity)\")\n",
    "# optimize(model, mapping={ \"moderate_physical_activity\": 1 }, best_params=best_params)\n",
    "# print(\"Reusing best params for\", model.name, \"(variant = Low Physical Activity)\")\n",
    "# optimize(model, mapping={ \"low_physical_activity\": 1 }, best_params=best_params)\n",
    "print(\"Reusing best params for\", model.name, \"(variant = Mental Stress & High Physical Activity)\")\n",
    "optimize(model, mapping={ \"baseline\": -1, \"mental_stress\": 0, \"high_physical_activity\": 1 }, best_params=best_params)\n",
    "print(\"Reusing best params for\", model.name, \"(variant = Baseline & Mental Stress & High Physical Activity)\")\n",
    "optimize(model, mapping={ \"mental_stress\": 1, \"high_physical_activity\": 2 }, best_params=best_params)"
   ]
  },
  {
   "cell_type": "code",
   "execution_count": null,
   "metadata": {},
   "outputs": [],
   "source": []
  },
  {
   "cell_type": "code",
   "execution_count": null,
   "metadata": {},
   "outputs": [],
   "source": []
  }
 ],
 "metadata": {
  "kernelspec": {
   "display_name": "Python 3",
   "language": "python",
   "name": "python3"
  },
  "language_info": {
   "codemirror_mode": {
    "name": "ipython",
    "version": 3
   },
   "file_extension": ".py",
   "mimetype": "text/x-python",
   "name": "python",
   "nbconvert_exporter": "python",
   "pygments_lexer": "ipython3",
   "version": "3.11.5"
  }
 },
 "nbformat": 4,
 "nbformat_minor": 2
}
