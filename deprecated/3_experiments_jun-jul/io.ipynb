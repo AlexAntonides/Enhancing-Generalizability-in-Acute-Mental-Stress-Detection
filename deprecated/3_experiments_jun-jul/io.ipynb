{
 "cells": [
  {
   "cell_type": "code",
   "execution_count": 1,
   "metadata": {},
   "outputs": [],
   "source": [
    "from glob import glob\n",
    "from pathlib import Path"
   ]
  },
  {
   "cell_type": "code",
   "execution_count": 19,
   "metadata": {},
   "outputs": [],
   "source": [
    "from timeit import default_timer as timer   \n",
    "import datetime"
   ]
  },
  {
   "cell_type": "code",
   "execution_count": 61,
   "metadata": {},
   "outputs": [],
   "source": [
    "import numpy as np"
   ]
  },
  {
   "cell_type": "code",
   "execution_count": 2,
   "metadata": {},
   "outputs": [
    {
     "name": "stderr",
     "output_type": "stream",
     "text": [
      "c:\\Users\\Admin\\AppData\\Local\\Programs\\Python\\Python311\\Lib\\site-packages\\tqdm\\auto.py:21: TqdmWarning: IProgress not found. Please update jupyter and ipywidgets. See https://ipywidgets.readthedocs.io/en/stable/user_install.html\n",
      "  from .autonotebook import tqdm as notebook_tqdm\n"
     ]
    }
   ],
   "source": [
    "import datasets"
   ]
  },
  {
   "cell_type": "code",
   "execution_count": 20,
   "metadata": {},
   "outputs": [],
   "source": [
    "from tabulate import tabulate"
   ]
  },
  {
   "cell_type": "code",
   "execution_count": 67,
   "metadata": {},
   "outputs": [
    {
     "name": "stderr",
     "output_type": "stream",
     "text": [
      "Generating fit split: 979678000 examples [11:43, 1391965.81 examples/s]\n"
     ]
    }
   ],
   "source": [
    "ds = datasets.load_dataset('./data/ecg_model', train_participants=[Path(path).stem for path in glob('./data/ecg_model/*.csv')], trust_remote_code=True)['fit']"
   ]
  },
  {
   "cell_type": "code",
   "execution_count": null,
   "metadata": {},
   "outputs": [],
   "source": [
    "windows = [1, 10, 100, 1000, 10000, 30000, 60000]"
   ]
  },
  {
   "cell_type": "code",
   "execution_count": 76,
   "metadata": {},
   "outputs": [],
   "source": [
    "headers = ['Window Size', *windows]"
   ]
  },
  {
   "cell_type": "code",
   "execution_count": 80,
   "metadata": {},
   "outputs": [
    {
     "name": "stdout",
     "output_type": "stream",
     "text": [
      "┌───────────────┬────────────────┬────────────────┬────────────────┬────────────────┬────────────────┬────────────────┬────────────────┐\n",
      "│   Window Size │ 1              │ 10             │ 100            │ 1000           │ 10000          │ 30000          │ 60000          │\n",
      "├───────────────┼────────────────┼────────────────┼────────────────┼────────────────┼────────────────┼────────────────┼────────────────┤\n",
      "│             1 │ 0:00:00.000489 │ 0:00:00.000026 │ 0:00:00.000022 │ 0:00:00.000019 │ 0:00:00.000015 │ 0:00:00.000017 │ 0:00:00.000016 │\n",
      "├───────────────┼────────────────┼────────────────┼────────────────┼────────────────┼────────────────┼────────────────┼────────────────┤\n",
      "│            10 │ 0:00:00.000074 │ 0:00:00.000020 │ 0:00:00.000019 │ 0:00:00.000024 │ 0:00:00.000022 │ 0:00:00.000022 │ 0:00:00.000022 │\n",
      "├───────────────┼────────────────┼────────────────┼────────────────┼────────────────┼────────────────┼────────────────┼────────────────┤\n",
      "│           100 │ 0:00:00.000119 │ 0:00:00.000068 │ 0:00:00.000073 │ 0:00:00.000075 │ 0:00:00.000076 │ 0:00:00.000076 │ 0:00:00.000078 │\n",
      "├───────────────┼────────────────┼────────────────┼────────────────┼────────────────┼────────────────┼────────────────┼────────────────┤\n",
      "│          1000 │ 0:00:00.000569 │ 0:00:00.000686 │ 0:00:00.000599 │ 0:00:00.000589 │ 0:00:00.000590 │ 0:00:00.000602 │ 0:00:00.000608 │\n",
      "├───────────────┼────────────────┼────────────────┼────────────────┼────────────────┼────────────────┼────────────────┼────────────────┤\n",
      "│         10000 │ 0:00:00.006121 │ 0:00:00.005969 │ 0:00:00.005903 │ 0:00:00.006091 │ 0:00:00.006094 │ 0:00:00.006076 │ 0:00:00.006106 │\n",
      "├───────────────┼────────────────┼────────────────┼────────────────┼────────────────┼────────────────┼────────────────┼────────────────┤\n",
      "│         30000 │ 0:00:00.018245 │ 0:00:00.018613 │ 0:00:00.018803 │ 0:00:00.018269 │ 0:00:00.018498 │ 0:00:00.017228 │ 0:00:00.016698 │\n",
      "├───────────────┼────────────────┼────────────────┼────────────────┼────────────────┼────────────────┼────────────────┼────────────────┤\n",
      "│         60000 │ 0:00:00.032466 │ 0:00:00.033145 │ 0:00:00.033340 │ 0:00:00.033472 │ 0:00:00.033212 │ 0:00:00.033137 │ 0:00:00.034285 │\n",
      "└───────────────┴────────────────┴────────────────┴────────────────┴────────────────┴────────────────┴────────────────┴────────────────┘\n"
     ]
    }
   ],
   "source": [
    "table = []\n",
    "for row in windows:\n",
    "    print(f\"Timing window size (row)={row}\")\n",
    "    data = [row]\n",
    "    for col in windows:\n",
    "        print(f\"Timing window size (col)={col}\")\n",
    "        durations = []\n",
    "        for idx in range(col):\n",
    "            start = timer()\n",
    "            ds[idx:idx+row]\n",
    "            durations.append(timer()-start)\n",
    "        data.append(str(datetime.timedelta(seconds=np.mean(durations))))\n",
    "    table.append(data)\n",
    "print(tabulate(table, headers, tablefmt=\"simple_grid\"))"
   ]
  },
  {
   "cell_type": "code",
   "execution_count": null,
   "metadata": {},
   "outputs": [],
   "source": []
  }
 ],
 "metadata": {
  "kernelspec": {
   "display_name": "Python 3",
   "language": "python",
   "name": "python3"
  },
  "language_info": {
   "codemirror_mode": {
    "name": "ipython",
    "version": 3
   },
   "file_extension": ".py",
   "mimetype": "text/x-python",
   "name": "python",
   "nbconvert_exporter": "python",
   "pygments_lexer": "ipython3",
   "version": "3.11.5"
  }
 },
 "nbformat": 4,
 "nbformat_minor": 2
}
