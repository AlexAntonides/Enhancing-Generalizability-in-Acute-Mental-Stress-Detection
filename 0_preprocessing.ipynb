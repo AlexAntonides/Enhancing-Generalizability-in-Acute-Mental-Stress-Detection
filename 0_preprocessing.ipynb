{
 "cells": [
  {
   "cell_type": "markdown",
   "metadata": {},
   "source": [
    "## Preprocessing\n",
    "The preprocessing pipelines are defined in this notebook. Throughout the project, two pipelines are mainly used, the pipeline that cleans the data, so that it can be used to extract other features, and the pipeline that extracts the `signal` and `label` for a neural network."
   ]
  },
  {
   "cell_type": "code",
   "execution_count": null,
   "metadata": {},
   "outputs": [],
   "source": [
    "from sia import Preprocessing\n",
    "from sia.io import Metadata, read_edf, read_csv, write_csv\n",
    "from sia.preprocessors import neurokit"
   ]
  },
  {
   "cell_type": "markdown",
   "metadata": {},
   "source": [
    "### Cleaning Pipeline\n",
    "The pipeline defined beneath uses the default preprocessor of Neurokit to clean the data. Furthermore, the data with a low quality is also discarded."
   ]
  },
  {
   "cell_type": "code",
   "execution_count": null,
   "metadata": {},
   "outputs": [],
   "source": [
    "Preprocessing() \\\n",
    "    .data(\n",
    "        read_edf(\n",
    "            './data/raw/*.edf', \n",
    "            Metadata('./data/raw/TimeStamps_Merged.txt').on_regex(r'[0-9]{5}')\n",
    "        )\n",
    "    ) \\\n",
    "    .process(neurokit()) \\\n",
    "    .filter(lambda ECG_Quality: [quality > .25 for quality in ECG_Quality]) \\\n",
    "    .to(write_csv('./data/cleaned/[0-9]{5}.csv'))"
   ]
  },
  {
   "cell_type": "markdown",
   "metadata": {},
   "source": [
    "### Neural Network \n",
    "For the neural network, only the signal and the label is extracted and saved in another directory."
   ]
  },
  {
   "cell_type": "code",
   "execution_count": null,
   "metadata": {},
   "outputs": [],
   "source": [
    "Preprocessing() \\\n",
    "    .data(read_csv('./data/cleaned/*.csv', columns=['ECG_Clean', 'category'])) \\\n",
    "    .rename({'ECG_Clean': 'signal', 'category': 'label'}) \\\n",
    "    .to(write_csv('./data/signal/[0-9]{5}.csv'))"
   ]
  }
 ],
 "metadata": {
  "language_info": {
   "name": "python"
  }
 },
 "nbformat": 4,
 "nbformat_minor": 2
}
