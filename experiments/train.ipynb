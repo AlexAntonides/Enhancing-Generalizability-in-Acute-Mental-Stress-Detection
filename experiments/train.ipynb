{
 "cells": [
  {
   "cell_type": "code",
   "execution_count": 1,
   "metadata": {},
   "outputs": [],
   "source": [
    "import warnings\n",
    "warnings.filterwarnings(\"ignore\")\n",
    "\n",
    "import importlib\n",
    "from pathlib import Path\n",
    "from argparse import ArgumentParser\n",
    "from glob import glob \n",
    "\n",
    "import torch\n",
    "from torch.utils.data import DataLoader\n",
    "from lightning.pytorch.callbacks import ModelCheckpoint\n",
    "\n",
    "import lightning as L\n",
    "from lightning import LightningModule\n",
    "\n",
    "from datasets import Dataset, load_dataset\n",
    "\n",
    "import torchmetrics\n",
    "from sklearn.model_selection import train_test_split\n",
    "\n",
    "import wandb"
   ]
  },
  {
   "cell_type": "code",
   "execution_count": 2,
   "metadata": {},
   "outputs": [],
   "source": [
    "import numpy as np\n",
    "import pandas as pd"
   ]
  },
  {
   "cell_type": "code",
   "execution_count": 3,
   "metadata": {},
   "outputs": [],
   "source": [
    "from pathlib import Path\n",
    "from glob import glob"
   ]
  },
  {
   "cell_type": "code",
   "execution_count": 4,
   "metadata": {},
   "outputs": [],
   "source": [
    "import os\n",
    "os.environ['CUDA_LAUNCH_BLOCKING'] = \"1\"\n",
    "os.environ['TORCH_USE_CUDA_DSA'] = \"1\""
   ]
  },
  {
   "cell_type": "code",
   "execution_count": 5,
   "metadata": {},
   "outputs": [],
   "source": [
    "# dataset = './data/wesad_model_20s'\n",
    "# dataset = './Stress_Detection_ECG/content/data/Dataset'"
   ]
  },
  {
   "cell_type": "code",
   "execution_count": 6,
   "metadata": {},
   "outputs": [],
   "source": [
    "# files = glob(f'{dataset}/*.csv')"
   ]
  },
  {
   "cell_type": "code",
   "execution_count": 7,
   "metadata": {},
   "outputs": [],
   "source": [
    "# train_participants = [Path(file).stem for file in files if Path(file).stem != 'S17']\n",
    "# test_participants = [Path(file).stem for file in files if Path(file).stem == 'S17']"
   ]
  },
  {
   "cell_type": "code",
   "execution_count": 8,
   "metadata": {},
   "outputs": [],
   "source": [
    "import datasets"
   ]
  },
  {
   "cell_type": "code",
   "execution_count": 9,
   "metadata": {},
   "outputs": [],
   "source": [
    "from sia.datasets.edouard_dataset import Dataset\n",
    "from sia.models.fully_connected_neural_network import Model"
   ]
  },
  {
   "cell_type": "code",
   "execution_count": 10,
   "metadata": {},
   "outputs": [],
   "source": [
    "from pytorch_lightning.trainer.states import TrainerFn"
   ]
  },
  {
   "cell_type": "code",
   "execution_count": 11,
   "metadata": {},
   "outputs": [],
   "source": [
    "class Base(Model):\n",
    "    def __init__(self, batch_size: int, learning_rate: float, num_workers: int):\n",
    "        self.save_hyperparameters()\n",
    "        super().__init__()\n",
    "\n",
    "    def prepare_data(self):\n",
    "        self.train_data = datasets.load_from_disk('./Stress_Detection_ECG/wesad/train')\n",
    "        self.train_data = self.train_data.with_format(\"torch\")\n",
    "        self.test_data = datasets.load_from_disk('./Stress_Detection_ECG/wesad/test')\n",
    "        self.test_data = self.test_data.with_format(\"torch\")\n",
    "\n",
    "    def setup(self, stage):\n",
    "        if stage == TrainerFn.FITTING:\n",
    "            self.dataset = Dataset(self.train_data)\n",
    "        elif stage == TrainerFn.TESTING:\n",
    "            self.dataset = Dataset(self.test_data)\n",
    "\n",
    "        self.train_accuracy = torchmetrics.classification.BinaryAccuracy()\n",
    "        self.train_f1score = torchmetrics.classification.BinaryF1Score()\n",
    "        self.train_precision = torchmetrics.classification.BinaryPrecision()\n",
    "        self.train_loss = torch.nn.BCELoss()\n",
    "\n",
    "        self.test_accuracy = torchmetrics.classification.BinaryAccuracy()\n",
    "        self.test_f1score = torchmetrics.classification.BinaryF1Score()\n",
    "        self.test_precision = torchmetrics.classification.BinaryPrecision()\n",
    "        self.test_loss = torch.nn.BCELoss()\n",
    "\n",
    "    def forward(self, x):\n",
    "        embedding = self.layers(x)\n",
    "        return embedding.squeeze()\n",
    "    \n",
    "    def training_step(self, batch, batch_idx):\n",
    "        y, y_hat = self._step(batch, batch_idx)\n",
    "\n",
    "        step_loss = self.train_loss(y_hat, y)\n",
    "        self.train_accuracy.update(y_hat.squeeze(), y)\n",
    "        self.train_f1score.update(y_hat.squeeze(), y)\n",
    "        self.train_precision.update(y_hat.squeeze(), y)\n",
    "\n",
    "        if wandb.run is not None:\n",
    "            wandb.log({\"accuracy\": self.train_accuracy.compute(), \"precision\": self.train_precision.compute(), \"loss\": step_loss, \"f1\": self.train_f1score.compute()})\n",
    "        \n",
    "        return step_loss\n",
    "    \n",
    "    def test_step(self, batch, batch_idx):\n",
    "        y, y_hat = self._step(batch, batch_idx)\n",
    "\n",
    "        step_loss = self.test_loss(y_hat, y)\n",
    "        self.test_accuracy.update(y_hat.squeeze(), y)\n",
    "        self.test_f1score.update(y_hat.squeeze(), y)\n",
    "        self.test_precision.update(y_hat.squeeze(), y)\n",
    "\n",
    "        if wandb.run is not None:\n",
    "            wandb.log({\"test_accuracy\": self.test_accuracy.compute(), \"test_precision\": self.test_precision.compute(), \"test_loss\": step_loss, \"test_f1\": self.test_f1score.compute()})\n",
    "        \n",
    "        return step_loss\n",
    "\n",
    "    def _step(self, batch, batch_idx):\n",
    "        x, y = batch\n",
    "        y_hat = self(x)\n",
    "        return y, y_hat\n",
    "    \n",
    "    def configure_optimizers(self) -> L.pytorch.utilities.types.OptimizerLRScheduler:\n",
    "        return torch.optim.Adam(self.parameters(), lr=self.hparams.learning_rate, betas=(0.9, 0.999))\n",
    "    \n",
    "    def train_dataloader(self):\n",
    "        return DataLoader(self.dataset, batch_size=self.hparams.batch_size, num_workers=self.hparams.num_workers, pin_memory=True)\n",
    "\n",
    "    def test_dataloader(self):\n",
    "        return DataLoader(self.dataset, batch_size=self.hparams.batch_size, num_workers=self.hparams.num_workers, pin_memory=True)"
   ]
  },
  {
   "cell_type": "code",
   "execution_count": 12,
   "metadata": {},
   "outputs": [
    {
     "name": "stderr",
     "output_type": "stream",
     "text": [
      "Failed to detect the name of this notebook, you can set it manually with the WANDB_NOTEBOOK_NAME environment variable to enable code saving.\n",
      "\u001b[34m\u001b[1mwandb\u001b[0m: Currently logged in as: \u001b[33malex-antonides\u001b[0m. Use \u001b[1m`wandb login --relogin`\u001b[0m to force relogin\n"
     ]
    },
    {
     "data": {
      "text/html": [
       "wandb version 0.16.5 is available!  To upgrade, please run:\n",
       " $ pip install wandb --upgrade"
      ],
      "text/plain": [
       "<IPython.core.display.HTML object>"
      ]
     },
     "metadata": {},
     "output_type": "display_data"
    },
    {
     "data": {
      "text/html": [
       "Tracking run with wandb version 0.16.3"
      ],
      "text/plain": [
       "<IPython.core.display.HTML object>"
      ]
     },
     "metadata": {},
     "output_type": "display_data"
    },
    {
     "data": {
      "text/html": [
       "Run data is saved locally in <code>d:\\university\\thesis\\wandb\\run-20240402_025854-3afsp5js</code>"
      ],
      "text/plain": [
       "<IPython.core.display.HTML object>"
      ]
     },
     "metadata": {},
     "output_type": "display_data"
    },
    {
     "data": {
      "text/html": [
       "Syncing run <strong><a href='https://wandb.ai/alex-antonides/wesad-stress-detection/runs/3afsp5js' target=\"_blank\">electric-jazz-10</a></strong> to <a href='https://wandb.ai/alex-antonides/wesad-stress-detection' target=\"_blank\">Weights & Biases</a> (<a href='https://wandb.me/run' target=\"_blank\">docs</a>)<br/>"
      ],
      "text/plain": [
       "<IPython.core.display.HTML object>"
      ]
     },
     "metadata": {},
     "output_type": "display_data"
    },
    {
     "data": {
      "text/html": [
       " View project at <a href='https://wandb.ai/alex-antonides/wesad-stress-detection' target=\"_blank\">https://wandb.ai/alex-antonides/wesad-stress-detection</a>"
      ],
      "text/plain": [
       "<IPython.core.display.HTML object>"
      ]
     },
     "metadata": {},
     "output_type": "display_data"
    },
    {
     "data": {
      "text/html": [
       " View run at <a href='https://wandb.ai/alex-antonides/wesad-stress-detection/runs/3afsp5js' target=\"_blank\">https://wandb.ai/alex-antonides/wesad-stress-detection/runs/3afsp5js</a>"
      ],
      "text/plain": [
       "<IPython.core.display.HTML object>"
      ]
     },
     "metadata": {},
     "output_type": "display_data"
    },
    {
     "data": {
      "text/html": [
       "<button onClick=\"this.nextSibling.style.display='block';this.style.display='none';\">Display W&B run</button><iframe src='https://wandb.ai/alex-antonides/wesad-stress-detection/runs/3afsp5js?jupyter=true' style='border:none;width:100%;height:420px;display:none;'></iframe>"
      ],
      "text/plain": [
       "<wandb.sdk.wandb_run.Run at 0x1a31c529a10>"
      ]
     },
     "execution_count": 12,
     "metadata": {},
     "output_type": "execute_result"
    }
   ],
   "source": [
    "wandb.init(\n",
    "    project=\"wesad-stress-detection\",\n",
    "    config={\n",
    "        \"epochs\": 15,\n",
    "        \"architecture\": \"Fully Connected Neural Network\",\n",
    "        \"dataset\": \"WESAD\"\n",
    "    }\n",
    ")"
   ]
  },
  {
   "cell_type": "code",
   "execution_count": 13,
   "metadata": {},
   "outputs": [
    {
     "name": "stderr",
     "output_type": "stream",
     "text": [
      "GPU available: True (cuda), used: True\n",
      "TPU available: False, using: 0 TPU cores\n",
      "IPU available: False, using: 0 IPUs\n",
      "HPU available: False, using: 0 HPUs\n",
      "You are using a CUDA device ('NVIDIA GeForce RTX 3090 Ti') that has Tensor Cores. To properly utilize them, you should set `torch.set_float32_matmul_precision('medium' | 'high')` which will trade-off precision for performance. For more details, read https://pytorch.org/docs/stable/generated/torch.set_float32_matmul_precision.html#torch.set_float32_matmul_precision\n"
     ]
    },
    {
     "name": "stdout",
     "output_type": "stream",
     "text": [
      "WARNING:tensorflow:From c:\\Users\\Admin\\AppData\\Local\\Programs\\Python\\Python311\\Lib\\site-packages\\keras\\src\\losses.py:2976: The name tf.losses.sparse_softmax_cross_entropy is deprecated. Please use tf.compat.v1.losses.sparse_softmax_cross_entropy instead.\n",
      "\n"
     ]
    },
    {
     "name": "stderr",
     "output_type": "stream",
     "text": [
      "LOCAL_RANK: 0 - CUDA_VISIBLE_DEVICES: [0]\n",
      "\n",
      "  | Name            | Type            | Params\n",
      "----------------------------------------------------\n",
      "0 | layers          | Sequential      | 11.5 K\n",
      "1 | train_accuracy  | BinaryAccuracy  | 0     \n",
      "2 | train_f1score   | BinaryF1Score   | 0     \n",
      "3 | train_precision | BinaryPrecision | 0     \n",
      "4 | train_loss      | BCELoss         | 0     \n",
      "5 | test_accuracy   | BinaryAccuracy  | 0     \n",
      "6 | test_f1score    | BinaryF1Score   | 0     \n",
      "7 | test_precision  | BinaryPrecision | 0     \n",
      "8 | test_loss       | BCELoss         | 0     \n",
      "----------------------------------------------------\n",
      "11.5 K    Trainable params\n",
      "0         Non-trainable params\n",
      "11.5 K    Total params\n",
      "0.046     Total estimated model params size (MB)\n"
     ]
    },
    {
     "name": "stdout",
     "output_type": "stream",
     "text": [
      "Epoch 1:  81%|████████▏ | 456/560 [00:10<00:02, 44.26it/s, v_num=46]"
     ]
    }
   ],
   "source": [
    "trainer = L.Trainer(\n",
    "    max_epochs=15, \n",
    "    accelerator=\"auto\", \n",
    "    devices=\"auto\", \n",
    "    strategy=\"auto\", \n",
    "    profiler=\"simple\",\n",
    "    default_root_dir=f\"./checkpoints/edouard\"\n",
    ")\n",
    "\n",
    "tuner = L.pytorch.tuner.Tuner(\n",
    "    trainer\n",
    ")\n",
    "\n",
    "trainer.fit(\n",
    "    model=Base(\n",
    "        batch_size=32, \n",
    "        learning_rate=0.0001, \n",
    "        num_workers=4\n",
    "    ),\n",
    ")"
   ]
  },
  {
   "cell_type": "code",
   "execution_count": 14,
   "metadata": {},
   "outputs": [
    {
     "data": {
      "text/html": [
       "<style>\n",
       "    table.wandb td:nth-child(1) { padding: 0 10px; text-align: left ; width: auto;} td:nth-child(2) {text-align: left ; width: 100%}\n",
       "    .wandb-row { display: flex; flex-direction: row; flex-wrap: wrap; justify-content: flex-start; width: 100% }\n",
       "    .wandb-col { display: flex; flex-direction: column; flex-basis: 100%; flex: 1; padding: 10px; }\n",
       "    </style>\n",
       "<div class=\"wandb-row\"><div class=\"wandb-col\"><h3>Run history:</h3><br/><table class=\"wandb\"><tr><td>accuracy</td><td>█▂▃▁▂▂▂▂▂▁▁▁▂▂▁▂▂▂▂▂▂▂▂▂▂▂▂▂▂▂▂▂▂▂▂▂▂▂▂▂</td></tr><tr><td>f1</td><td>█▄▃▁▃▂▁▂▁▁▁▁▁▁▁▁▁▁▁▁▁▁▁▁▁▁▁▁▁▁▁▁▁▁▁▁▁▁▁▁</td></tr><tr><td>loss</td><td>▅▄▃▂▅▆▄▆▆▆▅▄▆█▆▄▅▃▂▅▄▂▄▄▆▅▃▃▅▃▄▄▄▃▃▃▅▅▁▄</td></tr><tr><td>precision</td><td>█▄▃▁▂▂▁▂▁▁▁▁▁▁▁▁▁▁▁▁▁▁▁▁▁▁▁▁▁▁▁▁▁▁▁▁▁▁▁▁</td></tr></table><br/></div><div class=\"wandb-col\"><h3>Run summary:</h3><br/><table class=\"wandb\"><tr><td>accuracy</td><td>0.4968</td></tr><tr><td>f1</td><td>0.50433</td></tr><tr><td>loss</td><td>0.77643</td></tr><tr><td>precision</td><td>0.50424</td></tr></table><br/></div></div>"
      ],
      "text/plain": [
       "<IPython.core.display.HTML object>"
      ]
     },
     "metadata": {},
     "output_type": "display_data"
    },
    {
     "data": {
      "text/html": [
       " View run <strong style=\"color:#cdcd00\">electric-jazz-10</strong> at: <a href='https://wandb.ai/alex-antonides/wesad-stress-detection/runs/3afsp5js' target=\"_blank\">https://wandb.ai/alex-antonides/wesad-stress-detection/runs/3afsp5js</a><br/>Synced 5 W&B file(s), 0 media file(s), 0 artifact file(s) and 0 other file(s)"
      ],
      "text/plain": [
       "<IPython.core.display.HTML object>"
      ]
     },
     "metadata": {},
     "output_type": "display_data"
    },
    {
     "data": {
      "text/html": [
       "Find logs at: <code>.\\wandb\\run-20240402_025854-3afsp5js\\logs</code>"
      ],
      "text/plain": [
       "<IPython.core.display.HTML object>"
      ]
     },
     "metadata": {},
     "output_type": "display_data"
    }
   ],
   "source": [
    "if wandb.run is not None:\n",
    "    wandb.finish()"
   ]
  },
  {
   "cell_type": "code",
   "execution_count": null,
   "metadata": {},
   "outputs": [],
   "source": []
  }
 ],
 "metadata": {
  "kernelspec": {
   "display_name": "Python 3",
   "language": "python",
   "name": "python3"
  },
  "language_info": {
   "codemirror_mode": {
    "name": "ipython",
    "version": 3
   },
   "file_extension": ".py",
   "mimetype": "text/x-python",
   "name": "python",
   "nbconvert_exporter": "python",
   "pygments_lexer": "ipython3",
   "version": "3.11.5"
  }
 },
 "nbformat": 4,
 "nbformat_minor": 2
}
