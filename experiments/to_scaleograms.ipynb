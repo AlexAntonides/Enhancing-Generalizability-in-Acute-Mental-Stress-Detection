{
 "cells": [
  {
   "cell_type": "code",
   "execution_count": 1,
   "metadata": {},
   "outputs": [],
   "source": [
    "import warnings\n",
    "warnings.filterwarnings('ignore') # :clown:"
   ]
  },
  {
   "cell_type": "code",
   "execution_count": 2,
   "metadata": {},
   "outputs": [],
   "source": [
    "import os\n",
    "import gc"
   ]
  },
  {
   "cell_type": "code",
   "execution_count": 3,
   "metadata": {},
   "outputs": [],
   "source": [
    "import numpy as np\n",
    "import pandas as pd"
   ]
  },
  {
   "cell_type": "code",
   "execution_count": 4,
   "metadata": {},
   "outputs": [],
   "source": [
    "from glob import glob\n",
    "import matplotlib.pyplot as plt"
   ]
  },
  {
   "cell_type": "code",
   "execution_count": 5,
   "metadata": {},
   "outputs": [],
   "source": [
    "import pywt\n",
    "import scaleogram as scg"
   ]
  },
  {
   "cell_type": "code",
   "execution_count": 6,
   "metadata": {},
   "outputs": [],
   "source": [
    "files = glob('./data/ecg_preprocessed/*.csv')\n",
    "hz = 1000"
   ]
  },
  {
   "cell_type": "code",
   "execution_count": 7,
   "metadata": {},
   "outputs": [],
   "source": [
    "window = 10000"
   ]
  },
  {
   "cell_type": "code",
   "execution_count": 8,
   "metadata": {},
   "outputs": [
    {
     "data": {
      "text/plain": [
       "['./data/ecg_preprocessed\\\\30204.csv',\n",
       " './data/ecg_preprocessed\\\\30205.csv',\n",
       " './data/ecg_preprocessed\\\\30206.csv',\n",
       " './data/ecg_preprocessed\\\\30207.csv',\n",
       " './data/ecg_preprocessed\\\\30208.csv',\n",
       " './data/ecg_preprocessed\\\\30209.csv',\n",
       " './data/ecg_preprocessed\\\\30210.csv',\n",
       " './data/ecg_preprocessed\\\\30211.csv',\n",
       " './data/ecg_preprocessed\\\\30212.csv',\n",
       " './data/ecg_preprocessed\\\\30213.csv',\n",
       " './data/ecg_preprocessed\\\\30214.csv',\n",
       " './data/ecg_preprocessed\\\\30215.csv',\n",
       " './data/ecg_preprocessed\\\\30216.csv',\n",
       " './data/ecg_preprocessed\\\\30217.csv',\n",
       " './data/ecg_preprocessed\\\\30218.csv',\n",
       " './data/ecg_preprocessed\\\\30219.csv',\n",
       " './data/ecg_preprocessed\\\\30220.csv',\n",
       " './data/ecg_preprocessed\\\\30222.csv',\n",
       " './data/ecg_preprocessed\\\\30223.csv',\n",
       " './data/ecg_preprocessed\\\\30225.csv',\n",
       " './data/ecg_preprocessed\\\\30226.csv',\n",
       " './data/ecg_preprocessed\\\\30227.csv',\n",
       " './data/ecg_preprocessed\\\\30228.csv',\n",
       " './data/ecg_preprocessed\\\\30229.csv',\n",
       " './data/ecg_preprocessed\\\\30230.csv',\n",
       " './data/ecg_preprocessed\\\\30232.csv',\n",
       " './data/ecg_preprocessed\\\\30233.csv',\n",
       " './data/ecg_preprocessed\\\\30234.csv',\n",
       " './data/ecg_preprocessed\\\\30235.csv']"
      ]
     },
     "execution_count": 8,
     "metadata": {},
     "output_type": "execute_result"
    }
   ],
   "source": [
    "files[98:]"
   ]
  },
  {
   "cell_type": "code",
   "execution_count": 9,
   "metadata": {},
   "outputs": [],
   "source": [
    "for file in files[98:]:\n",
    "    participant = file.split('\\\\')[-1].split('.')[0]\n",
    "    sample = pd.read_csv(file)\n",
    "\n",
    "    remainder = len(sample) % window\n",
    "    for i in np.arange(0, len(sample) - remainder, window):\n",
    "        subset = sample[i:i+window]\n",
    "        category = subset['category'].mode()\n",
    "        if (len(category) == 0): \n",
    "            continue\n",
    "        else:\n",
    "            category = category.iloc[0]\n",
    "\n",
    "        fig, ax = plt.subplots(figsize=(16, 4))\n",
    "            \n",
    "        scg.cws(\n",
    "            subset['signal'].to_numpy(), \n",
    "            wavelet='morl',\n",
    "            cbar=None,\n",
    "            ax=ax,\n",
    "            clim=(0, 0.005)\n",
    "        )\n",
    "\n",
    "        ax.axis(\"off\")\n",
    "        ax.set_title('')\n",
    "        fig.set_tight_layout(True)\n",
    "\n",
    "        directory = f'./data/scaleograms/{participant}'\n",
    "        if not os.path.isdir(directory):\n",
    "            os.makedirs(directory)\n",
    "\n",
    "        fig.savefig(f'{directory}/{i}_{category}.png', bbox_inches='tight', pad_inches=0)\n",
    "        # Clear the current axes.\n",
    "        plt.cla() \n",
    "        # Clear the current figure.\n",
    "        plt.clf() \n",
    "        # Closes all the figure windows.\n",
    "        plt.close('all')\n",
    "        gc.collect()"
   ]
  },
  {
   "cell_type": "code",
   "execution_count": null,
   "metadata": {},
   "outputs": [],
   "source": []
  }
 ],
 "metadata": {
  "kernelspec": {
   "display_name": "Python 3",
   "language": "python",
   "name": "python3"
  },
  "language_info": {
   "codemirror_mode": {
    "name": "ipython",
    "version": 3
   },
   "file_extension": ".py",
   "mimetype": "text/x-python",
   "name": "python",
   "nbconvert_exporter": "python",
   "pygments_lexer": "ipython3",
   "version": "3.11.5"
  }
 },
 "nbformat": 4,
 "nbformat_minor": 2
}
