{
 "cells": [
  {
   "cell_type": "code",
   "execution_count": 5,
   "metadata": {},
   "outputs": [],
   "source": [
    "import joblib\n",
    "from joblib import Parallel, delayed"
   ]
  },
  {
   "cell_type": "code",
   "execution_count": 6,
   "metadata": {},
   "outputs": [],
   "source": [
    "import pandas as pd\n",
    "import glob"
   ]
  },
  {
   "cell_type": "code",
   "execution_count": 7,
   "metadata": {},
   "outputs": [],
   "source": [
    "import torch\n",
    "from sklearn.model_selection import train_test_split"
   ]
  },
  {
   "cell_type": "code",
   "execution_count": 8,
   "metadata": {},
   "outputs": [],
   "source": [
    "participants = glob.glob(\"./data/ecg_preprocessed/*.csv\")\n",
    "train_participants, test_participants = train_test_split(participants, test_size=0.2)"
   ]
  },
  {
   "cell_type": "code",
   "execution_count": 12,
   "metadata": {},
   "outputs": [
    {
     "data": {
      "text/plain": [
       "['./data/ecg_preprocessed\\\\30145.csv',\n",
       " './data/ecg_preprocessed\\\\30166.csv',\n",
       " './data/ecg_preprocessed\\\\30189.csv',\n",
       " './data/ecg_preprocessed\\\\30195.csv',\n",
       " './data/ecg_preprocessed\\\\30130.csv',\n",
       " './data/ecg_preprocessed\\\\30134.csv',\n",
       " './data/ecg_preprocessed\\\\30232.csv',\n",
       " './data/ecg_preprocessed\\\\30222.csv',\n",
       " './data/ecg_preprocessed\\\\30207.csv',\n",
       " './data/ecg_preprocessed\\\\30218.csv',\n",
       " './data/ecg_preprocessed\\\\30112.csv',\n",
       " './data/ecg_preprocessed\\\\30208.csv',\n",
       " './data/ecg_preprocessed\\\\30160.csv',\n",
       " './data/ecg_preprocessed\\\\30176.csv',\n",
       " './data/ecg_preprocessed\\\\30131.csv',\n",
       " './data/ecg_preprocessed\\\\30230.csv',\n",
       " './data/ecg_preprocessed\\\\30228.csv',\n",
       " './data/ecg_preprocessed\\\\30197.csv',\n",
       " './data/ecg_preprocessed\\\\30155.csv',\n",
       " './data/ecg_preprocessed\\\\30212.csv',\n",
       " './data/ecg_preprocessed\\\\30132.csv',\n",
       " './data/ecg_preprocessed\\\\30100.csv',\n",
       " './data/ecg_preprocessed\\\\30164.csv',\n",
       " './data/ecg_preprocessed\\\\30179.csv',\n",
       " './data/ecg_preprocessed\\\\30114.csv',\n",
       " './data/ecg_preprocessed\\\\30226.csv',\n",
       " './data/ecg_preprocessed\\\\30141.csv',\n",
       " './data/ecg_preprocessed\\\\30137.csv',\n",
       " './data/ecg_preprocessed\\\\30206.csv',\n",
       " './data/ecg_preprocessed\\\\30180.csv',\n",
       " './data/ecg_preprocessed\\\\30227.csv',\n",
       " './data/ecg_preprocessed\\\\30217.csv',\n",
       " './data/ecg_preprocessed\\\\30193.csv',\n",
       " './data/ecg_preprocessed\\\\30175.csv',\n",
       " './data/ecg_preprocessed\\\\30158.csv',\n",
       " './data/ecg_preprocessed\\\\30183.csv',\n",
       " './data/ecg_preprocessed\\\\30219.csv',\n",
       " './data/ecg_preprocessed\\\\30161.csv',\n",
       " './data/ecg_preprocessed\\\\30110.csv',\n",
       " './data/ecg_preprocessed\\\\30154.csv',\n",
       " './data/ecg_preprocessed\\\\30156.csv',\n",
       " './data/ecg_preprocessed\\\\30216.csv',\n",
       " './data/ecg_preprocessed\\\\30202.csv',\n",
       " './data/ecg_preprocessed\\\\30201.csv',\n",
       " './data/ecg_preprocessed\\\\30184.csv',\n",
       " './data/ecg_preprocessed\\\\30178.csv',\n",
       " './data/ecg_preprocessed\\\\30170.csv',\n",
       " './data/ecg_preprocessed\\\\30190.csv',\n",
       " './data/ecg_preprocessed\\\\30138.csv',\n",
       " './data/ecg_preprocessed\\\\30163.csv',\n",
       " './data/ecg_preprocessed\\\\30115.csv',\n",
       " './data/ecg_preprocessed\\\\30204.csv',\n",
       " './data/ecg_preprocessed\\\\30162.csv',\n",
       " './data/ecg_preprocessed\\\\30198.csv',\n",
       " './data/ecg_preprocessed\\\\30151.csv',\n",
       " './data/ecg_preprocessed\\\\30194.csv',\n",
       " './data/ecg_preprocessed\\\\30125.csv',\n",
       " './data/ecg_preprocessed\\\\30117.csv',\n",
       " './data/ecg_preprocessed\\\\30215.csv',\n",
       " './data/ecg_preprocessed\\\\30214.csv',\n",
       " './data/ecg_preprocessed\\\\30150.csv',\n",
       " './data/ecg_preprocessed\\\\30165.csv',\n",
       " './data/ecg_preprocessed\\\\30120.csv',\n",
       " './data/ecg_preprocessed\\\\30211.csv',\n",
       " './data/ecg_preprocessed\\\\30182.csv',\n",
       " './data/ecg_preprocessed\\\\30168.csv',\n",
       " './data/ecg_preprocessed\\\\30122.csv',\n",
       " './data/ecg_preprocessed\\\\30157.csv',\n",
       " './data/ecg_preprocessed\\\\30109.csv',\n",
       " './data/ecg_preprocessed\\\\30126.csv',\n",
       " './data/ecg_preprocessed\\\\30233.csv',\n",
       " './data/ecg_preprocessed\\\\30152.csv',\n",
       " './data/ecg_preprocessed\\\\30127.csv',\n",
       " './data/ecg_preprocessed\\\\30103.csv',\n",
       " './data/ecg_preprocessed\\\\30105.csv',\n",
       " './data/ecg_preprocessed\\\\30177.csv',\n",
       " './data/ecg_preprocessed\\\\30213.csv',\n",
       " './data/ecg_preprocessed\\\\30209.csv',\n",
       " './data/ecg_preprocessed\\\\30124.csv',\n",
       " './data/ecg_preprocessed\\\\30220.csv',\n",
       " './data/ecg_preprocessed\\\\30159.csv',\n",
       " './data/ecg_preprocessed\\\\30185.csv',\n",
       " './data/ecg_preprocessed\\\\30147.csv',\n",
       " './data/ecg_preprocessed\\\\30140.csv',\n",
       " './data/ecg_preprocessed\\\\30149.csv',\n",
       " './data/ecg_preprocessed\\\\30129.csv',\n",
       " './data/ecg_preprocessed\\\\30111.csv',\n",
       " './data/ecg_preprocessed\\\\30171.csv',\n",
       " './data/ecg_preprocessed\\\\30133.csv',\n",
       " './data/ecg_preprocessed\\\\30229.csv',\n",
       " './data/ecg_preprocessed\\\\30101.csv',\n",
       " './data/ecg_preprocessed\\\\30186.csv',\n",
       " './data/ecg_preprocessed\\\\30196.csv',\n",
       " './data/ecg_preprocessed\\\\30153.csv',\n",
       " './data/ecg_preprocessed\\\\30136.csv',\n",
       " './data/ecg_preprocessed\\\\30135.csv',\n",
       " './data/ecg_preprocessed\\\\30113.csv',\n",
       " './data/ecg_preprocessed\\\\30146.csv',\n",
       " './data/ecg_preprocessed\\\\30118.csv',\n",
       " './data/ecg_preprocessed\\\\30188.csv',\n",
       " './data/ecg_preprocessed\\\\30169.csv']"
      ]
     },
     "execution_count": 12,
     "metadata": {},
     "output_type": "execute_result"
    }
   ],
   "source": [
    "train_participants"
   ]
  },
  {
   "cell_type": "code",
   "execution_count": 21,
   "metadata": {},
   "outputs": [],
   "source": [
    "import numpy as np"
   ]
  },
  {
   "cell_type": "code",
   "execution_count": 28,
   "metadata": {},
   "outputs": [
    {
     "name": "stderr",
     "output_type": "stream",
     "text": [
      "C:\\Users\\Admin\\AppData\\Local\\Temp\\ipykernel_21752\\2494709290.py:4: DtypeWarning: Columns (4) have mixed types. Specify dtype option on import or set low_memory=False.\n",
      "  df = pd.read_csv(\n"
     ]
    },
    {
     "ename": "",
     "evalue": "",
     "output_type": "error",
     "traceback": [
      "\u001b[1;31mThe Kernel crashed while executing code in the current cell or a previous cell. \n",
      "\u001b[1;31mPlease review the code in the cell(s) to identify a possible cause of the failure. \n",
      "\u001b[1;31mClick <a href='https://aka.ms/vscodeJupyterKernelCrash'>here</a> for more info. \n",
      "\u001b[1;31mView Jupyter <a href='command:jupyter.viewOutput'>log</a> for further details."
     ]
    }
   ],
   "source": [
    "target_labels = ['TA', 'SSST_Sing_countdown', 'Pasat', 'Raven', 'TA_repeat', 'Pasat_repeat']\n",
    "\n",
    "def reduce_csv(file, key):\n",
    "    df = pd.read_csv(\n",
    "         file\n",
    "    )\n",
    "    for window in df.rolling(1000):\n",
    "        signal = window['ECG_Clean'].to_numpy()\n",
    "        label = window['category'].to_numpy()\n",
    "        \n",
    "        label[np.isin(label, target_labels)] = 1\n",
    "        label[~np.isin(label, target_labels)] = 0\n",
    "\n",
    "        signal = torch.tensor(signal)\n",
    "        label = torch.tensor(label.astype(np.int32))\n",
    "\n",
    "        data = pd.DataFrame({\n",
    "            'feature': signal,\n",
    "            'label': label\n",
    "        })\n",
    "\n",
    "        if glob.glob(\"./data/model/model.h5\"):\n",
    "            data.to_hdf('./data/model/model.h5', key=key, append=True, format='t')\n",
    "        else:\n",
    "            data.to_hdf('./data/model/model.h5', key=key, format='t')\n",
    "\n",
    "for file in train_participants:\n",
    "    reduce_csv(file, 'train')"
   ]
  },
  {
   "cell_type": "code",
   "execution_count": null,
   "metadata": {},
   "outputs": [],
   "source": [
    "for file in test_participants:\n",
    "    reduce_csv(file, 'test')"
   ]
  }
 ],
 "metadata": {
  "kernelspec": {
   "display_name": "Python 3",
   "language": "python",
   "name": "python3"
  },
  "language_info": {
   "codemirror_mode": {
    "name": "ipython",
    "version": 3
   },
   "file_extension": ".py",
   "mimetype": "text/x-python",
   "name": "python",
   "nbconvert_exporter": "python",
   "pygments_lexer": "ipython3",
   "version": "3.11.5"
  }
 },
 "nbformat": 4,
 "nbformat_minor": 2
}
