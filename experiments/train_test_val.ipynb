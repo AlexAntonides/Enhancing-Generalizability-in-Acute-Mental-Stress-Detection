{
 "cells": [
  {
   "cell_type": "code",
   "execution_count": 1,
   "metadata": {},
   "outputs": [],
   "source": [
    "import os\n",
    "\n",
    "import warnings\n",
    "warnings.filterwarnings('ignore') # :clown:"
   ]
  },
  {
   "cell_type": "code",
   "execution_count": 2,
   "metadata": {},
   "outputs": [],
   "source": [
    "import numpy as np\n",
    "import pandas as pd\n",
    "from tqdm import tqdm"
   ]
  },
  {
   "cell_type": "code",
   "execution_count": 3,
   "metadata": {},
   "outputs": [],
   "source": [
    "import neurokit2 as nk"
   ]
  },
  {
   "cell_type": "code",
   "execution_count": 4,
   "metadata": {},
   "outputs": [],
   "source": [
    "from sklearn.model_selection import train_test_split"
   ]
  },
  {
   "cell_type": "code",
   "execution_count": 5,
   "metadata": {},
   "outputs": [],
   "source": [
    "import multiprocessing\n",
    "import joblib\n",
    "from joblib import Parallel, delayed\n",
    "num_cores = multiprocessing.cpu_count()"
   ]
  },
  {
   "cell_type": "code",
   "execution_count": 6,
   "metadata": {},
   "outputs": [],
   "source": [
    "import matplotlib.pyplot as plt\n",
    "from matplotlib.colors import BoundaryNorm\n",
    "import matplotlib.dates as md"
   ]
  },
  {
   "cell_type": "code",
   "execution_count": 7,
   "metadata": {},
   "outputs": [
    {
     "name": "stdout",
     "output_type": "stream",
     "text": [
      "WARNING:tensorflow:From c:\\Users\\Admin\\AppData\\Local\\Programs\\Python\\Python311\\Lib\\site-packages\\keras\\src\\losses.py:2976: The name tf.losses.sparse_softmax_cross_entropy is deprecated. Please use tf.compat.v1.losses.sparse_softmax_cross_entropy instead.\n",
      "\n"
     ]
    }
   ],
   "source": [
    "import tensorflow as tf\n",
    "from tensorflow import keras"
   ]
  },
  {
   "cell_type": "code",
   "execution_count": 8,
   "metadata": {},
   "outputs": [],
   "source": [
    "def get_csv_file_paths(target):\n",
    "    if os.path.isdir(target):\n",
    "        file_paths = [os.path.join(target, f) for f in os.listdir(target) if f.endswith('.csv')]\n",
    "    elif os.path.isfile(target):\n",
    "        file_paths = [target]\n",
    "    else:\n",
    "        raise Exception('Target is not a file or directory.')\n",
    "\n",
    "    return file_paths"
   ]
  },
  {
   "cell_type": "code",
   "execution_count": 9,
   "metadata": {},
   "outputs": [],
   "source": [
    "paths = get_csv_file_paths('./data/ecg_preprocessed/')"
   ]
  },
  {
   "cell_type": "code",
   "execution_count": 10,
   "metadata": {},
   "outputs": [],
   "source": [
    "def get_data(path):\n",
    "    df = pd.read_csv(\n",
    "        path, \n",
    "        skiprows=[0],\n",
    "        names=['timestamp','signal','signal_normalised','subject_id','category','code','ECG_Raw','ECG_Clean','ECG_Rate','ECG_Quality','ECG_R_Peaks','ECG_P_Peaks','ECG_P_Onsets','ECG_P_Offsets','ECG_Q_Peaks','ECG_R_Onsets','ECG_R_Offsets','ECG_S_Peaks','ECG_T_Peaks','ECG_T_Onsets','ECG_T_Offsets','ECG_Phase_Atrial','ECG_Phase_Completion_Atrial','ECG_Phase_Ventricular','ECG_Phase_Completion_Ventricular','Index','Label'],#,'heartbeat'],\n",
    "        dtype={\n",
    "            'timestamp': str, \n",
    "            'signal': float, \n",
    "            'signal_normalised': float, \n",
    "            'subject_id': str, \n",
    "            'category': str, \n",
    "            'code': str, \n",
    "            'ECG_Raw': float, \n",
    "            'ECG_Clean': float, \n",
    "            'ECG_Rate': float, \n",
    "            'ECG_Quality': float, \n",
    "            'ECG_R_Peaks': float, \n",
    "            'ECG_P_Peaks': float, \n",
    "            'ECG_P_Onsets': float, \n",
    "            'ECG_P_Offsets': float, \n",
    "            'ECG_Q_Peaks': float, \n",
    "            'ECG_R_Onsets': float, \n",
    "            'ECG_R_Offsets': float, \n",
    "            'ECG_S_Peaks': float, \n",
    "            'ECG_T_Peaks': float, \n",
    "            'ECG_T_Onsets': float, \n",
    "            'ECG_T_Offsets': float, \n",
    "            'ECG_Phase_Atrial': float, \n",
    "            'ECG_Phase_Completion_Atrial': float, \n",
    "            'ECG_Phase_Ventricular': float, \n",
    "            'ECG_Phase_Completion_Ventricular': float, \n",
    "            'Index': 'Int64', \n",
    "            'Label': str,\n",
    "        }\n",
    "    )\n",
    "    return df[['timestamp', 'ECG_Clean', 'subject_id', 'category']]\n",
    "\n",
    "data = Parallel(n_jobs=4)(delayed(get_data)(path) for path in paths)"
   ]
  },
  {
   "cell_type": "code",
   "execution_count": 11,
   "metadata": {},
   "outputs": [],
   "source": [
    "train, test = train_test_split(data, test_size=0.2)\n",
    "train, val = train_test_split(train, test_size=0.25)"
   ]
  },
  {
   "cell_type": "code",
   "execution_count": 12,
   "metadata": {},
   "outputs": [],
   "source": [
    "# pd.concat(train).to_hdf('./data/dataset.h5', key='train') ## memory error\n",
    "for df in train:\n",
    "    df.to_hdf('./data/dataset.h5', key='train', format='table', mode='a')"
   ]
  },
  {
   "cell_type": "code",
   "execution_count": 13,
   "metadata": {},
   "outputs": [],
   "source": [
    "del(train)"
   ]
  },
  {
   "cell_type": "code",
   "execution_count": 14,
   "metadata": {},
   "outputs": [],
   "source": [
    "# pd.concat(test).to_hdf('./data/dataset.h5', key='test') # memory error\n",
    "for df in test:\n",
    "    df.to_hdf('./data/dataset.h5', key='test', format='table', mode='a')"
   ]
  },
  {
   "cell_type": "code",
   "execution_count": 15,
   "metadata": {},
   "outputs": [],
   "source": [
    "del(test)"
   ]
  },
  {
   "cell_type": "code",
   "execution_count": 16,
   "metadata": {},
   "outputs": [],
   "source": [
    "# pd.concat(val).to_hdf('./data/dataset.h5', key='val') # memory error\n",
    "for df in val:\n",
    "    df.to_hdf('./data/dataset.h5', key='val', format='table', mode='a')"
   ]
  },
  {
   "cell_type": "code",
   "execution_count": 17,
   "metadata": {},
   "outputs": [],
   "source": [
    "del(val)"
   ]
  },
  {
   "cell_type": "code",
   "execution_count": null,
   "metadata": {},
   "outputs": [],
   "source": []
  }
 ],
 "metadata": {
  "kernelspec": {
   "display_name": "Python 3",
   "language": "python",
   "name": "python3"
  },
  "language_info": {
   "codemirror_mode": {
    "name": "ipython",
    "version": 3
   },
   "file_extension": ".py",
   "mimetype": "text/x-python",
   "name": "python",
   "nbconvert_exporter": "python",
   "pygments_lexer": "ipython3",
   "version": "3.11.5"
  }
 },
 "nbformat": 4,
 "nbformat_minor": 2
}
