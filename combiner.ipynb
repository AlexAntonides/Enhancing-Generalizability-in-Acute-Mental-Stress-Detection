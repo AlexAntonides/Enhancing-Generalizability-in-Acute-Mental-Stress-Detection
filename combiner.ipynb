{
 "cells": [
  {
   "cell_type": "code",
   "execution_count": 14,
   "metadata": {},
   "outputs": [],
   "source": [
    "import datasets\n",
    "from datasets import load_dataset"
   ]
  },
  {
   "cell_type": "code",
   "execution_count": 15,
   "metadata": {},
   "outputs": [],
   "source": [
    "from glob import glob\n",
    "from pathlib import Path\n",
    "from sklearn.model_selection import train_test_split"
   ]
  },
  {
   "cell_type": "code",
   "execution_count": 16,
   "metadata": {},
   "outputs": [],
   "source": [
    "base_dir = './data/ecg_model'"
   ]
  },
  {
   "cell_type": "code",
   "execution_count": 17,
   "metadata": {},
   "outputs": [],
   "source": [
    "participants = [Path(p).stem for p in glob(base_dir + '/*.csv')]\n",
    "train_participants, test_participants = train_test_split(participants, test_size=0.2)\n",
    "train_participants, val_participants = train_test_split(train_participants, test_size=0.25)"
   ]
  },
  {
   "cell_type": "code",
   "execution_count": 18,
   "metadata": {},
   "outputs": [
    {
     "name": "stderr",
     "output_type": "stream",
     "text": [
      "Generating fit split: 574698000 examples [02:06, 4557633.68 examples/s]\n",
      "Generating test split: 203368000 examples [00:47, 4315392.42 examples/s]\n",
      "Generating validate split: 201612000 examples [00:47, 4289247.22 examples/s]\n"
     ]
    }
   ],
   "source": [
    "ds = load_dataset(\n",
    "    base_dir,\n",
    "    trust_remote_code=True,\n",
    "    train_participants=train_participants,\n",
    "    val_participants=val_participants,\n",
    "    test_participants=test_participants,\n",
    "    num_proc=10\n",
    ")"
   ]
  },
  {
   "cell_type": "code",
   "execution_count": 19,
   "metadata": {},
   "outputs": [
    {
     "data": {
      "text/plain": [
       "574698000"
      ]
     },
     "execution_count": 19,
     "metadata": {},
     "output_type": "execute_result"
    }
   ],
   "source": [
    "len(ds['fit'])"
   ]
  },
  {
   "cell_type": "code",
   "execution_count": null,
   "metadata": {},
   "outputs": [],
   "source": [
    "import scipy \n",
    "\n",
    "original_fs = 1000 \n",
    "new_fs = 500\n",
    "ecg_resampled = scipy.signal.resample(ds['fit'], int(len(ds['fit']) * new_fs / original_fs))"
   ]
  },
  {
   "cell_type": "code",
   "execution_count": 35,
   "metadata": {},
   "outputs": [
    {
     "data": {
      "text/plain": [
       "1000"
      ]
     },
     "execution_count": 35,
     "metadata": {},
     "output_type": "execute_result"
    }
   ],
   "source": [
    "sample = ds['fit'][0:0+1000]['signal']\n",
    "len(sample)"
   ]
  },
  {
   "cell_type": "code",
   "execution_count": 43,
   "metadata": {},
   "outputs": [
    {
     "data": {
      "text/plain": [
       "500"
      ]
     },
     "execution_count": 43,
     "metadata": {},
     "output_type": "execute_result"
    }
   ],
   "source": [
    "sample = ds['fit'][0:0+1000]\n",
    "len(scipy.signal.resample(sample['signal'], int(1000 * new_fs / original_fs)))"
   ]
  },
  {
   "cell_type": "code",
   "execution_count": 45,
   "metadata": {},
   "outputs": [
    {
     "name": "stderr",
     "output_type": "stream",
     "text": [
      "Map: 100%|██████████| 574698000/574698000 [09:06<00:00, 1052410.78 examples/s]\n",
      "Map: 100%|██████████| 203368000/203368000 [03:10<00:00, 1064833.71 examples/s]\n",
      "Map: 100%|██████████| 201612000/201612000 [03:12<00:00, 1047759.18 examples/s]\n"
     ]
    }
   ],
   "source": [
    "def resample(x):\n",
    "    return {\n",
    "        'signal': scipy.signal.resample(x['signal'], int(len(x['signal']) * new_fs / original_fs)),\n",
    "        'label': scipy.signal.resample(x['label'], int(len(x['label']) * new_fs / original_fs)),\n",
    "    }\n",
    "ds = ds.map(resample, batched=True, batch_size=1000)"
   ]
  },
  {
   "cell_type": "code",
   "execution_count": 46,
   "metadata": {},
   "outputs": [
    {
     "data": {
      "text/plain": [
       "287349000"
      ]
     },
     "execution_count": 46,
     "metadata": {},
     "output_type": "execute_result"
    }
   ],
   "source": [
    "len(ds['fit']) # expected = 581.033.000 / 2 = 290.516.500"
   ]
  },
  {
   "cell_type": "code",
   "execution_count": 47,
   "metadata": {},
   "outputs": [],
   "source": [
    "ds = ds.with_format(\"torch\")"
   ]
  },
  {
   "cell_type": "code",
   "execution_count": 48,
   "metadata": {},
   "outputs": [
    {
     "name": "stderr",
     "output_type": "stream",
     "text": [
      "Saving the dataset (10/10 shards): 100%|██████████| 287349000/287349000 [00:45<00:00, 6295005.00 examples/s]\n",
      "Saving the dataset (4/4 shards): 100%|██████████| 101684000/101684000 [00:17<00:00, 5839040.02 examples/s]\n",
      "Saving the dataset (4/4 shards): 100%|██████████| 100806000/100806000 [00:21<00:00, 4680856.17 examples/s]\n"
     ]
    }
   ],
   "source": [
    "ds.save_to_disk('./data/combined')"
   ]
  },
  {
   "cell_type": "code",
   "execution_count": 13,
   "metadata": {},
   "outputs": [
    {
     "data": {
      "text/plain": [
       "DatasetDict({\n",
       "    fit: Dataset({\n",
       "        features: ['signal', 'label'],\n",
       "        num_rows: 581033000\n",
       "    })\n",
       "    test: Dataset({\n",
       "        features: ['signal', 'label'],\n",
       "        num_rows: 198028000\n",
       "    })\n",
       "    validate: Dataset({\n",
       "        features: ['signal', 'label'],\n",
       "        num_rows: 200617000\n",
       "    })\n",
       "})"
      ]
     },
     "execution_count": 13,
     "metadata": {},
     "output_type": "execute_result"
    }
   ],
   "source": [
    "datasets.load_from_disk('./data/combined')"
   ]
  },
  {
   "cell_type": "code",
   "execution_count": null,
   "metadata": {},
   "outputs": [],
   "source": []
  }
 ],
 "metadata": {
  "kernelspec": {
   "display_name": "Python 3",
   "language": "python",
   "name": "python3"
  },
  "language_info": {
   "codemirror_mode": {
    "name": "ipython",
    "version": 3
   },
   "file_extension": ".py",
   "mimetype": "text/x-python",
   "name": "python",
   "nbconvert_exporter": "python",
   "pygments_lexer": "ipython3",
   "version": "3.11.5"
  }
 },
 "nbformat": 4,
 "nbformat_minor": 2
}
