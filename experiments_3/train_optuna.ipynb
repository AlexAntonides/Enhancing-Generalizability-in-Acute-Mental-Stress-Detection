{
 "cells": [
  {
   "cell_type": "code",
   "execution_count": 1,
   "metadata": {},
   "outputs": [],
   "source": [
    "import uuid"
   ]
  },
  {
   "cell_type": "code",
   "execution_count": 2,
   "metadata": {},
   "outputs": [],
   "source": [
    "import importlib\n",
    "from pathlib import Path\n",
    "from glob import glob"
   ]
  },
  {
   "cell_type": "code",
   "execution_count": 3,
   "metadata": {},
   "outputs": [
    {
     "name": "stderr",
     "output_type": "stream",
     "text": [
      "c:\\Users\\Admin\\AppData\\Local\\Programs\\Python\\Python311\\Lib\\site-packages\\tqdm\\auto.py:21: TqdmWarning: IProgress not found. Please update jupyter and ipywidgets. See https://ipywidgets.readthedocs.io/en/stable/user_install.html\n",
      "  from .autonotebook import tqdm as notebook_tqdm\n"
     ]
    }
   ],
   "source": [
    "import optuna"
   ]
  },
  {
   "cell_type": "code",
   "execution_count": 4,
   "metadata": {},
   "outputs": [],
   "source": [
    "import numpy as np \n",
    "\n",
    "import sklearn\n",
    "from sklearn import metrics\n",
    "from sklearn.model_selection import train_test_split, RandomizedSearchCV, cross_val_score, KFold\n",
    "from sklearn.metrics import mean_absolute_error, mean_squared_error, r2_score\n",
    "from sklearn.ensemble import RandomForestClassifier"
   ]
  },
  {
   "cell_type": "code",
   "execution_count": 5,
   "metadata": {},
   "outputs": [],
   "source": [
    "import wandb"
   ]
  },
  {
   "cell_type": "code",
   "execution_count": 6,
   "metadata": {},
   "outputs": [],
   "source": [
    "from train import prepare_model, train"
   ]
  },
  {
   "cell_type": "code",
   "execution_count": 7,
   "metadata": {},
   "outputs": [],
   "source": [
    "model = 'sia.models.wickstrom_2020'\n",
    "dataset = 'sia.datasets.wickstrom_2020'\n",
    "\n",
    "data_dir = './data/ecg_better_model_physical_activity'"
   ]
  },
  {
   "cell_type": "code",
   "execution_count": 8,
   "metadata": {},
   "outputs": [],
   "source": [
    "participants = [Path(path).stem for path in glob(f'{data_dir}/*.csv')]\n",
    "train_participants, test_participants = train_test_split(participants, test_size=0.2, random_state=42)"
   ]
  },
  {
   "cell_type": "code",
   "execution_count": 9,
   "metadata": {},
   "outputs": [],
   "source": [
    "model_name = model.split('.')[-1]\n",
    "model_module = importlib.import_module(model)\n",
    "dataset_module = importlib.import_module(dataset)"
   ]
  },
  {
   "cell_type": "code",
   "execution_count": 10,
   "metadata": {},
   "outputs": [],
   "source": [
    "sampling_rate = 1000"
   ]
  },
  {
   "cell_type": "code",
   "execution_count": 11,
   "metadata": {},
   "outputs": [
    {
     "name": "stderr",
     "output_type": "stream",
     "text": [
      "[I 2024-05-09 14:35:08,589] A new study created in RDB with name: sia.models.wickstrom_2020_sia.datasets.wickstrom_2020_./data/ecg_better_model_physical_activity_d661b4bd-940f-4938-abda-ae536561a23c\n",
      "  0%|          | 0/10 [00:00<?, ?it/s]Failed to detect the name of this notebook, you can set it manually with the WANDB_NOTEBOOK_NAME environment variable to enable code saving.\n",
      "\u001b[34m\u001b[1mwandb\u001b[0m: Currently logged in as: \u001b[33malex-antonides\u001b[0m. Use \u001b[1m`wandb login --relogin`\u001b[0m to force relogin\n"
     ]
    },
    {
     "data": {
      "text/html": [
       "wandb version 0.17.0 is available!  To upgrade, please run:\n",
       " $ pip install wandb --upgrade"
      ],
      "text/plain": [
       "<IPython.core.display.HTML object>"
      ]
     },
     "metadata": {},
     "output_type": "display_data"
    },
    {
     "data": {
      "text/html": [
       "Tracking run with wandb version 0.16.3"
      ],
      "text/plain": [
       "<IPython.core.display.HTML object>"
      ]
     },
     "metadata": {},
     "output_type": "display_data"
    },
    {
     "data": {
      "text/html": [
       "Run data is saved locally in <code>d:\\university\\thesis_old\\wandb\\run-20240509_143509-1royn8ur</code>"
      ],
      "text/plain": [
       "<IPython.core.display.HTML object>"
      ]
     },
     "metadata": {},
     "output_type": "display_data"
    },
    {
     "data": {
      "text/html": [
       "Syncing run <strong><a href='https://wandb.ai/alex-antonides/stress-in-action/runs/1royn8ur' target=\"_blank\">wobbly-butterfly-244</a></strong> to <a href='https://wandb.ai/alex-antonides/stress-in-action' target=\"_blank\">Weights & Biases</a> (<a href='https://wandb.me/run' target=\"_blank\">docs</a>)<br/>"
      ],
      "text/plain": [
       "<IPython.core.display.HTML object>"
      ]
     },
     "metadata": {},
     "output_type": "display_data"
    },
    {
     "data": {
      "text/html": [
       " View project at <a href='https://wandb.ai/alex-antonides/stress-in-action' target=\"_blank\">https://wandb.ai/alex-antonides/stress-in-action</a>"
      ],
      "text/plain": [
       "<IPython.core.display.HTML object>"
      ]
     },
     "metadata": {},
     "output_type": "display_data"
    },
    {
     "data": {
      "text/html": [
       " View run at <a href='https://wandb.ai/alex-antonides/stress-in-action/runs/1royn8ur' target=\"_blank\">https://wandb.ai/alex-antonides/stress-in-action/runs/1royn8ur</a>"
      ],
      "text/plain": [
       "<IPython.core.display.HTML object>"
      ]
     },
     "metadata": {},
     "output_type": "display_data"
    },
    {
     "name": "stderr",
     "output_type": "stream",
     "text": [
      "GPU available: True (cuda), used: True\n",
      "TPU available: False, using: 0 TPU cores\n",
      "IPU available: False, using: 0 IPUs\n",
      "HPU available: False, using: 0 HPUs\n"
     ]
    },
    {
     "name": "stdout",
     "output_type": "stream",
     "text": [
      "WARNING:tensorflow:From c:\\Users\\Admin\\AppData\\Local\\Programs\\Python\\Python311\\Lib\\site-packages\\keras\\src\\losses.py:2976: The name tf.losses.sparse_softmax_cross_entropy is deprecated. Please use tf.compat.v1.losses.sparse_softmax_cross_entropy instead.\n",
      "\n"
     ]
    },
    {
     "name": "stderr",
     "output_type": "stream",
     "text": [
      "LOCAL_RANK: 0 - CUDA_VISIBLE_DEVICES: [0]\n",
      "\n",
      "   | Name                 | Type             | Params\n",
      "-----------------------------------------------------------\n",
      "0  | l1                   | Sequential       | 1.3 K \n",
      "1  | l2                   | Sequential       | 164 K \n",
      "2  | l3                   | Sequential       | 98.7 K\n",
      "3  | gap                  | Sequential       | 0     \n",
      "4  | out                  | Linear           | 258   \n",
      "5  | train_accuracy       | BinaryAccuracy   | 0     \n",
      "6  | train_f1score        | BinaryF1Score    | 0     \n",
      "7  | train_precision      | BinaryPrecision  | 0     \n",
      "8  | train_loss           | CrossEntropyLoss | 0     \n",
      "9  | validation_accuracy  | BinaryAccuracy   | 0     \n",
      "10 | validation_f1score   | BinaryF1Score    | 0     \n",
      "11 | validation_precision | BinaryPrecision  | 0     \n",
      "12 | validation_loss      | CrossEntropyLoss | 0     \n",
      "13 | test_accuracy        | BinaryAccuracy   | 0     \n",
      "14 | test_f1score         | BinaryF1Score    | 0     \n",
      "15 | test_precision       | BinaryPrecision  | 0     \n",
      "16 | test_loss            | CrossEntropyLoss | 0     \n",
      "-----------------------------------------------------------\n",
      "264 K     Trainable params\n",
      "0         Non-trainable params\n",
      "264 K     Total params\n",
      "1.059     Total estimated model params size (MB)\n"
     ]
    },
    {
     "name": "stdout",
     "output_type": "stream",
     "text": [
      "Epoch 10: 100%|█████████▉| 12287/12290 [1:30:55<00:01,  2.25it/s, v_num=106]"
     ]
    },
    {
     "name": "stderr",
     "output_type": "stream",
     "text": [
      "`Trainer.fit` stopped: `max_epochs=11` reached.\n"
     ]
    },
    {
     "name": "stdout",
     "output_type": "stream",
     "text": [
      "Epoch 10: 100%|█████████▉| 12287/12290 [1:30:56<00:01,  2.25it/s, v_num=106]\n"
     ]
    },
    {
     "name": "stderr",
     "output_type": "stream",
     "text": [
      "FIT Profiler Report\n",
      "\n",
      "---------------------------------------------------------------------------------------------------------------------------------------------------------------------------------------------------------------------------------------------------------------------------\n",
      "|  Action                                                                                                                                                         \t|  Mean duration (s)\t|  Num calls      \t|  Total time (s) \t|  Percentage %   \t|\n",
      "---------------------------------------------------------------------------------------------------------------------------------------------------------------------------------------------------------------------------------------------------------------------------\n",
      "|  Total                                                                                                                                                          \t|  -              \t|  4865891        \t|  6.5478e+04     \t|  100 %          \t|\n",
      "---------------------------------------------------------------------------------------------------------------------------------------------------------------------------------------------------------------------------------------------------------------------------\n",
      "|  run_training_epoch                                                                                                                                             \t|  5946.4         \t|  11             \t|  6.541e+04      \t|  99.896         \t|\n",
      "|  run_training_batch                                                                                                                                             \t|  0.47933        \t|  135157         \t|  6.4784e+04     \t|  98.941         \t|\n",
      "|  [LightningModule]Model.optimizer_step                                                                                                                          \t|  0.47926        \t|  135157         \t|  6.4776e+04     \t|  98.928         \t|\n",
      "|  [Strategy]SingleDeviceStrategy.training_step                                                                                                                   \t|  0.47703        \t|  135157         \t|  6.4474e+04     \t|  98.468         \t|\n",
      "|  [_TrainingEpochLoop].train_dataloader_next                                                                                                                     \t|  0.0025599      \t|  135168         \t|  346.02         \t|  0.52846        \t|\n",
      "|  [Callback]TQDMProgressBar.on_train_batch_end                                                                                                                   \t|  0.0014816      \t|  135157         \t|  200.25         \t|  0.30582        \t|\n",
      "|  [Strategy]SingleDeviceStrategy.backward                                                                                                                        \t|  0.0011682      \t|  135157         \t|  157.9          \t|  0.24114        \t|\n",
      "|  [LightningModule]Model.optimizer_zero_grad                                                                                                                     \t|  0.00027035     \t|  135157         \t|  36.54          \t|  0.055805       \t|\n",
      "|  [Strategy]SingleDeviceStrategy.batch_to_device                                                                                                                 \t|  0.00016315     \t|  135159         \t|  22.051         \t|  0.033677       \t|\n",
      "|  [LightningModule]Model.transfer_batch_to_device                                                                                                                \t|  0.00013556     \t|  135159         \t|  18.322         \t|  0.027982       \t|\n",
      "|  [_EvaluationLoop].val_next                                                                                                                                     \t|  4.4375         \t|  2              \t|  8.875          \t|  0.013554       \t|\n",
      "|  [LightningModule]Model.prepare_data                                                                                                                            \t|  4.969          \t|  1              \t|  4.969          \t|  0.0075888      \t|\n",
      "|  [Callback]ModelCheckpoint{'monitor': None, 'mode': 'min', 'every_n_train_steps': 0, 'every_n_epochs': 1, 'train_time_interval': None}.on_train_epoch_end       \t|  0.30545        \t|  11             \t|  3.36           \t|  0.0051315      \t|\n",
      "|  [LightningModule]Model.configure_gradient_clipping                                                                                                             \t|  2.0724e-05     \t|  135157         \t|  2.801          \t|  0.0042778      \t|\n",
      "|  [Callback]ModelCheckpoint{'monitor': None, 'mode': 'min', 'every_n_train_steps': 0, 'every_n_epochs': 1, 'train_time_interval': None}.on_train_batch_end       \t|  1.9844e-05     \t|  135157         \t|  2.682          \t|  0.004096       \t|\n",
      "|  [Strategy]SingleDeviceStrategy.validation_step                                                                                                                 \t|  0.477          \t|  2              \t|  0.954          \t|  0.001457       \t|\n",
      "|  [Callback]ModelSummary.on_train_batch_end                                                                                                                      \t|  3.2185e-06     \t|  135157         \t|  0.435          \t|  0.00066435     \t|\n",
      "|  [Callback]TQDMProgressBar.on_before_zero_grad                                                                                                                  \t|  2.5452e-06     \t|  135157         \t|  0.344          \t|  0.00052537     \t|\n",
      "|  [Callback]TQDMProgressBar.on_after_backward                                                                                                                    \t|  2.2936e-06     \t|  135157         \t|  0.31           \t|  0.00047344     \t|\n",
      "|  [Callback]TQDMProgressBar.on_train_batch_start                                                                                                                 \t|  1.8571e-06     \t|  135157         \t|  0.251          \t|  0.00038334     \t|\n",
      "|  [LightningModule]Model.on_before_zero_grad                                                                                                                     \t|  1.4058e-06     \t|  135157         \t|  0.19           \t|  0.00029018     \t|\n",
      "|  [LightningModule]Model.on_train_batch_end                                                                                                                      \t|  1.3688e-06     \t|  135157         \t|  0.185          \t|  0.00028254     \t|\n",
      "|  [Callback]ModelCheckpoint{'monitor': None, 'mode': 'min', 'every_n_train_steps': 0, 'every_n_epochs': 1, 'train_time_interval': None}.on_after_backward        \t|  1.1616e-06     \t|  135157         \t|  0.157          \t|  0.00023978     \t|\n",
      "|  [Callback]ModelSummary.on_before_zero_grad                                                                                                                     \t|  9.3225e-07     \t|  135157         \t|  0.126          \t|  0.00019243     \t|\n",
      "|  [LightningModule]Model.on_before_backward                                                                                                                      \t|  9.3225e-07     \t|  135157         \t|  0.126          \t|  0.00019243     \t|\n",
      "|  [LightningModule]Model.on_after_batch_transfer                                                                                                                 \t|  9.2484e-07     \t|  135159         \t|  0.125          \t|  0.0001909      \t|\n",
      "|  [Callback]TQDMProgressBar.on_before_backward                                                                                                                   \t|  9.0265e-07     \t|  135157         \t|  0.122          \t|  0.00018632     \t|\n",
      "|  [LightningModule]Model.on_after_backward                                                                                                                       \t|  8.2127e-07     \t|  135157         \t|  0.111          \t|  0.00016952     \t|\n",
      "|  [Callback]TQDMProgressBar.on_before_optimizer_step                                                                                                             \t|  7.0289e-07     \t|  135157         \t|  0.095          \t|  0.00014509     \t|\n",
      "|  [Callback]ModelCheckpoint{'monitor': None, 'mode': 'min', 'every_n_train_steps': 0, 'every_n_epochs': 1, 'train_time_interval': None}.on_before_optimizer_step \t|  7.0289e-07     \t|  135157         \t|  0.095          \t|  0.00014509     \t|\n",
      "|  [Callback]ModelSummary.on_train_batch_start                                                                                                                    \t|  6.8809e-07     \t|  135157         \t|  0.093          \t|  0.00014203     \t|\n",
      "|  [LightningModule]Model.on_before_batch_transfer                                                                                                                \t|  6.8808e-07     \t|  135159         \t|  0.093          \t|  0.00014203     \t|\n",
      "|  [Callback]ModelCheckpoint{'monitor': None, 'mode': 'min', 'every_n_train_steps': 0, 'every_n_epochs': 1, 'train_time_interval': None}.on_train_batch_start     \t|  5.919e-07      \t|  135157         \t|  0.08           \t|  0.00012218     \t|\n",
      "|  [Callback]ModelCheckpoint{'monitor': None, 'mode': 'min', 'every_n_train_steps': 0, 'every_n_epochs': 1, 'train_time_interval': None}.on_before_zero_grad      \t|  5.7711e-07     \t|  135157         \t|  0.078          \t|  0.00011912     \t|\n",
      "|  [Callback]ModelSummary.on_after_backward                                                                                                                       \t|  5.7711e-07     \t|  135157         \t|  0.078          \t|  0.00011912     \t|\n",
      "|  [Strategy]SingleDeviceStrategy.on_train_batch_start                                                                                                            \t|  4.6612e-07     \t|  135157         \t|  0.063          \t|  9.6216e-05     \t|\n",
      "|  [Callback]ModelSummary.on_before_backward                                                                                                                      \t|  4.6612e-07     \t|  135157         \t|  0.063          \t|  9.6216e-05     \t|\n",
      "|  [Callback]ModelSummary.on_before_optimizer_step                                                                                                                \t|  3.5514e-07     \t|  135157         \t|  0.048          \t|  7.3307e-05     \t|\n",
      "|  [Callback]ModelCheckpoint{'monitor': None, 'mode': 'min', 'every_n_train_steps': 0, 'every_n_epochs': 1, 'train_time_interval': None}.on_before_backward       \t|  3.4774e-07     \t|  135157         \t|  0.047          \t|  7.178e-05      \t|\n",
      "|  [LightningModule]Model.on_before_optimizer_step                                                                                                                \t|  3.4774e-07     \t|  135157         \t|  0.047          \t|  7.178e-05      \t|\n",
      "|  [LightningModule]Model.on_train_batch_start                                                                                                                    \t|  2.3676e-07     \t|  135157         \t|  0.032          \t|  4.8872e-05     \t|\n",
      "|  [Callback]TQDMProgressBar.on_train_start                                                                                                                       \t|  0.031          \t|  1              \t|  0.031          \t|  4.7344e-05     \t|\n",
      "|  [Callback]TQDMProgressBar.on_train_epoch_start                                                                                                                 \t|  0.0028182      \t|  11             \t|  0.031          \t|  4.7344e-05     \t|\n",
      "|  [LightningModule]Model.setup                                                                                                                                   \t|  0.016          \t|  1              \t|  0.016          \t|  2.4436e-05     \t|\n",
      "|  [Callback]TQDMProgressBar.on_sanity_check_start                                                                                                                \t|  0.016          \t|  1              \t|  0.016          \t|  2.4436e-05     \t|\n",
      "|  [LightningModule]Model.configure_callbacks                                                                                                                     \t|  0.0            \t|  1              \t|  0.0            \t|  0.0            \t|\n",
      "|  [Callback]TQDMProgressBar.setup                                                                                                                                \t|  0.0            \t|  1              \t|  0.0            \t|  0.0            \t|\n",
      "|  [Callback]ModelSummary.setup                                                                                                                                   \t|  0.0            \t|  1              \t|  0.0            \t|  0.0            \t|\n",
      "|  [Callback]ModelCheckpoint{'monitor': None, 'mode': 'min', 'every_n_train_steps': 0, 'every_n_epochs': 1, 'train_time_interval': None}.setup                    \t|  0.0            \t|  1              \t|  0.0            \t|  0.0            \t|\n",
      "|  [LightningModule]Model.configure_optimizers                                                                                                                    \t|  0.0            \t|  1              \t|  0.0            \t|  0.0            \t|\n",
      "|  [Callback]TQDMProgressBar.on_fit_start                                                                                                                         \t|  0.0            \t|  1              \t|  0.0            \t|  0.0            \t|\n",
      "|  [Callback]ModelSummary.on_fit_start                                                                                                                            \t|  0.0            \t|  1              \t|  0.0            \t|  0.0            \t|\n",
      "|  [Callback]ModelCheckpoint{'monitor': None, 'mode': 'min', 'every_n_train_steps': 0, 'every_n_epochs': 1, 'train_time_interval': None}.on_fit_start             \t|  0.0            \t|  1              \t|  0.0            \t|  0.0            \t|\n",
      "|  [LightningModule]Model.on_fit_start                                                                                                                            \t|  0.0            \t|  1              \t|  0.0            \t|  0.0            \t|\n",
      "|  [Callback]ModelSummary.on_sanity_check_start                                                                                                                   \t|  0.0            \t|  1              \t|  0.0            \t|  0.0            \t|\n",
      "|  [Callback]ModelCheckpoint{'monitor': None, 'mode': 'min', 'every_n_train_steps': 0, 'every_n_epochs': 1, 'train_time_interval': None}.on_sanity_check_start    \t|  0.0            \t|  1              \t|  0.0            \t|  0.0            \t|\n",
      "|  [LightningModule]Model.val_dataloader                                                                                                                          \t|  0.0            \t|  1              \t|  0.0            \t|  0.0            \t|\n",
      "|  [LightningModule]Model.on_validation_model_eval                                                                                                                \t|  0.0            \t|  1              \t|  0.0            \t|  0.0            \t|\n",
      "|  [Callback]TQDMProgressBar.on_validation_start                                                                                                                  \t|  0.0            \t|  1              \t|  0.0            \t|  0.0            \t|\n",
      "|  [Callback]ModelSummary.on_validation_start                                                                                                                     \t|  0.0            \t|  1              \t|  0.0            \t|  0.0            \t|\n",
      "|  [Callback]ModelCheckpoint{'monitor': None, 'mode': 'min', 'every_n_train_steps': 0, 'every_n_epochs': 1, 'train_time_interval': None}.on_validation_start      \t|  0.0            \t|  1              \t|  0.0            \t|  0.0            \t|\n",
      "|  [LightningModule]Model.on_validation_start                                                                                                                     \t|  0.0            \t|  1              \t|  0.0            \t|  0.0            \t|\n",
      "|  [Strategy]SingleDeviceStrategy.on_validation_start                                                                                                             \t|  0.0            \t|  1              \t|  0.0            \t|  0.0            \t|\n",
      "|  [Callback]TQDMProgressBar.on_validation_epoch_start                                                                                                            \t|  0.0            \t|  1              \t|  0.0            \t|  0.0            \t|\n",
      "|  [Callback]ModelSummary.on_validation_epoch_start                                                                                                               \t|  0.0            \t|  1              \t|  0.0            \t|  0.0            \t|\n",
      "|  [Callback]ModelCheckpoint{'monitor': None, 'mode': 'min', 'every_n_train_steps': 0, 'every_n_epochs': 1, 'train_time_interval': None}.on_validation_epoch_start\t|  0.0            \t|  1              \t|  0.0            \t|  0.0            \t|\n",
      "|  [LightningModule]Model.on_validation_epoch_start                                                                                                               \t|  0.0            \t|  1              \t|  0.0            \t|  0.0            \t|\n",
      "|  [Callback]TQDMProgressBar.on_validation_batch_start                                                                                                            \t|  0.0            \t|  2              \t|  0.0            \t|  0.0            \t|\n",
      "|  [Callback]ModelSummary.on_validation_batch_start                                                                                                               \t|  0.0            \t|  2              \t|  0.0            \t|  0.0            \t|\n",
      "|  [Callback]ModelCheckpoint{'monitor': None, 'mode': 'min', 'every_n_train_steps': 0, 'every_n_epochs': 1, 'train_time_interval': None}.on_validation_batch_start\t|  0.0            \t|  2              \t|  0.0            \t|  0.0            \t|\n",
      "|  [LightningModule]Model.on_validation_batch_start                                                                                                               \t|  0.0            \t|  2              \t|  0.0            \t|  0.0            \t|\n",
      "|  [Callback]TQDMProgressBar.on_validation_batch_end                                                                                                              \t|  0.0            \t|  2              \t|  0.0            \t|  0.0            \t|\n",
      "|  [Callback]ModelSummary.on_validation_batch_end                                                                                                                 \t|  0.0            \t|  2              \t|  0.0            \t|  0.0            \t|\n",
      "|  [Callback]ModelCheckpoint{'monitor': None, 'mode': 'min', 'every_n_train_steps': 0, 'every_n_epochs': 1, 'train_time_interval': None}.on_validation_batch_end  \t|  0.0            \t|  2              \t|  0.0            \t|  0.0            \t|\n",
      "|  [LightningModule]Model.on_validation_batch_end                                                                                                                 \t|  0.0            \t|  2              \t|  0.0            \t|  0.0            \t|\n",
      "|  [Callback]TQDMProgressBar.on_validation_epoch_end                                                                                                              \t|  0.0            \t|  1              \t|  0.0            \t|  0.0            \t|\n",
      "|  [Callback]ModelSummary.on_validation_epoch_end                                                                                                                 \t|  0.0            \t|  1              \t|  0.0            \t|  0.0            \t|\n",
      "|  [Callback]ModelCheckpoint{'monitor': None, 'mode': 'min', 'every_n_train_steps': 0, 'every_n_epochs': 1, 'train_time_interval': None}.on_validation_epoch_end  \t|  0.0            \t|  1              \t|  0.0            \t|  0.0            \t|\n",
      "|  [LightningModule]Model.on_validation_epoch_end                                                                                                                 \t|  0.0            \t|  1              \t|  0.0            \t|  0.0            \t|\n",
      "|  [Callback]TQDMProgressBar.on_validation_end                                                                                                                    \t|  0.0            \t|  1              \t|  0.0            \t|  0.0            \t|\n",
      "|  [Callback]ModelSummary.on_validation_end                                                                                                                       \t|  0.0            \t|  1              \t|  0.0            \t|  0.0            \t|\n",
      "|  [Callback]ModelCheckpoint{'monitor': None, 'mode': 'min', 'every_n_train_steps': 0, 'every_n_epochs': 1, 'train_time_interval': None}.on_validation_end        \t|  0.0            \t|  1              \t|  0.0            \t|  0.0            \t|\n",
      "|  [LightningModule]Model.on_validation_end                                                                                                                       \t|  0.0            \t|  1              \t|  0.0            \t|  0.0            \t|\n",
      "|  [Strategy]SingleDeviceStrategy.on_validation_end                                                                                                               \t|  0.0            \t|  1              \t|  0.0            \t|  0.0            \t|\n",
      "|  [LightningModule]Model.on_validation_model_train                                                                                                               \t|  0.0            \t|  1              \t|  0.0            \t|  0.0            \t|\n",
      "|  [Callback]TQDMProgressBar.on_sanity_check_end                                                                                                                  \t|  0.0            \t|  1              \t|  0.0            \t|  0.0            \t|\n",
      "|  [Callback]ModelSummary.on_sanity_check_end                                                                                                                     \t|  0.0            \t|  1              \t|  0.0            \t|  0.0            \t|\n",
      "|  [Callback]ModelCheckpoint{'monitor': None, 'mode': 'min', 'every_n_train_steps': 0, 'every_n_epochs': 1, 'train_time_interval': None}.on_sanity_check_end      \t|  0.0            \t|  1              \t|  0.0            \t|  0.0            \t|\n",
      "|  [LightningModule]Model.train_dataloader                                                                                                                        \t|  0.0            \t|  1              \t|  0.0            \t|  0.0            \t|\n",
      "|  [Callback]ModelSummary.on_train_start                                                                                                                          \t|  0.0            \t|  1              \t|  0.0            \t|  0.0            \t|\n",
      "|  [Callback]ModelCheckpoint{'monitor': None, 'mode': 'min', 'every_n_train_steps': 0, 'every_n_epochs': 1, 'train_time_interval': None}.on_train_start           \t|  0.0            \t|  1              \t|  0.0            \t|  0.0            \t|\n",
      "|  [LightningModule]Model.on_train_start                                                                                                                          \t|  0.0            \t|  1              \t|  0.0            \t|  0.0            \t|\n",
      "|  [Strategy]SingleDeviceStrategy.on_train_start                                                                                                                  \t|  0.0            \t|  1              \t|  0.0            \t|  0.0            \t|\n",
      "|  [Callback]ModelSummary.on_train_epoch_start                                                                                                                    \t|  0.0            \t|  11             \t|  0.0            \t|  0.0            \t|\n",
      "|  [Callback]ModelCheckpoint{'monitor': None, 'mode': 'min', 'every_n_train_steps': 0, 'every_n_epochs': 1, 'train_time_interval': None}.on_train_epoch_start     \t|  0.0            \t|  11             \t|  0.0            \t|  0.0            \t|\n",
      "|  [LightningModule]Model.on_train_epoch_start                                                                                                                    \t|  0.0            \t|  11             \t|  0.0            \t|  0.0            \t|\n",
      "|  [Callback]TQDMProgressBar.on_train_epoch_end                                                                                                                   \t|  0.0            \t|  11             \t|  0.0            \t|  0.0            \t|\n",
      "|  [Callback]ModelSummary.on_train_epoch_end                                                                                                                      \t|  0.0            \t|  11             \t|  0.0            \t|  0.0            \t|\n",
      "|  [LightningModule]Model.on_train_epoch_end                                                                                                                      \t|  0.0            \t|  11             \t|  0.0            \t|  0.0            \t|\n",
      "|  [Callback]TQDMProgressBar.on_save_checkpoint                                                                                                                   \t|  0.0            \t|  11             \t|  0.0            \t|  0.0            \t|\n",
      "|  [Callback]ModelSummary.on_save_checkpoint                                                                                                                      \t|  0.0            \t|  11             \t|  0.0            \t|  0.0            \t|\n",
      "|  [Callback]ModelCheckpoint{'monitor': None, 'mode': 'min', 'every_n_train_steps': 0, 'every_n_epochs': 1, 'train_time_interval': None}.on_save_checkpoint       \t|  0.0            \t|  11             \t|  0.0            \t|  0.0            \t|\n",
      "|  [LightningModule]Model.on_save_checkpoint                                                                                                                      \t|  0.0            \t|  11             \t|  0.0            \t|  0.0            \t|\n",
      "|  [Callback]TQDMProgressBar.on_train_end                                                                                                                         \t|  0.0            \t|  1              \t|  0.0            \t|  0.0            \t|\n",
      "|  [Callback]ModelSummary.on_train_end                                                                                                                            \t|  0.0            \t|  1              \t|  0.0            \t|  0.0            \t|\n",
      "|  [Callback]ModelCheckpoint{'monitor': None, 'mode': 'min', 'every_n_train_steps': 0, 'every_n_epochs': 1, 'train_time_interval': None}.on_train_end             \t|  0.0            \t|  1              \t|  0.0            \t|  0.0            \t|\n",
      "|  [LightningModule]Model.on_train_end                                                                                                                            \t|  0.0            \t|  1              \t|  0.0            \t|  0.0            \t|\n",
      "|  [Strategy]SingleDeviceStrategy.on_train_end                                                                                                                    \t|  0.0            \t|  1              \t|  0.0            \t|  0.0            \t|\n",
      "|  [Callback]TQDMProgressBar.on_fit_end                                                                                                                           \t|  0.0            \t|  1              \t|  0.0            \t|  0.0            \t|\n",
      "|  [Callback]ModelSummary.on_fit_end                                                                                                                              \t|  0.0            \t|  1              \t|  0.0            \t|  0.0            \t|\n",
      "|  [Callback]ModelCheckpoint{'monitor': None, 'mode': 'min', 'every_n_train_steps': 0, 'every_n_epochs': 1, 'train_time_interval': None}.on_fit_end               \t|  0.0            \t|  1              \t|  0.0            \t|  0.0            \t|\n",
      "|  [LightningModule]Model.on_fit_end                                                                                                                              \t|  0.0            \t|  1              \t|  0.0            \t|  0.0            \t|\n",
      "|  [Callback]TQDMProgressBar.teardown                                                                                                                             \t|  0.0            \t|  1              \t|  0.0            \t|  0.0            \t|\n",
      "|  [Callback]ModelSummary.teardown                                                                                                                                \t|  0.0            \t|  1              \t|  0.0            \t|  0.0            \t|\n",
      "|  [Callback]ModelCheckpoint{'monitor': None, 'mode': 'min', 'every_n_train_steps': 0, 'every_n_epochs': 1, 'train_time_interval': None}.teardown                 \t|  0.0            \t|  1              \t|  0.0            \t|  0.0            \t|\n",
      "|  [LightningModule]Model.teardown                                                                                                                                \t|  0.0            \t|  1              \t|  0.0            \t|  0.0            \t|\n",
      "---------------------------------------------------------------------------------------------------------------------------------------------------------------------------------------------------------------------------------------------------------------------------\n",
      "\n"
     ]
    },
    {
     "name": "stdout",
     "output_type": "stream",
     "text": [
      "'val_accuracy'\n"
     ]
    },
    {
     "data": {
      "text/html": [
       "<style>\n",
       "    table.wandb td:nth-child(1) { padding: 0 10px; text-align: left ; width: auto;} td:nth-child(2) {text-align: left ; width: 100%}\n",
       "    .wandb-row { display: flex; flex-direction: row; flex-wrap: wrap; justify-content: flex-start; width: 100% }\n",
       "    .wandb-col { display: flex; flex-direction: column; flex-basis: 100%; flex: 1; padding: 10px; }\n",
       "    </style>\n",
       "<div class=\"wandb-row\"><div class=\"wandb-col\"><h3>Run history:</h3><br/><table class=\"wandb\"><tr><td>accuracy</td><td>▁▁▁▂▂▂▃▃▄▄▅▅▅▆▆▆▆▆▆▇▇▇▇▇▇▇▇▇▇▇██████████</td></tr><tr><td>f1</td><td>▂▁▁▁▁▂▂▃▄▄▅▅▅▆▆▆▆▆▆▇▇▇▇▇▇▇▇▇▇▇██████████</td></tr><tr><td>loss</td><td>▆▅▄▆▄▂▃▆▂▂▂▆▂▃▁▇▂▃▃▁▃▁█▁▂▃▆▆▂▃▁▆▁▇▁▂▂▆▄▁</td></tr><tr><td>precision</td><td>▁▁▁▁▂▃▃▄▄▄▅▅▅▆▆▆▆▆▆▇▇▇▇▇▇▇▇▇▇▇██████████</td></tr><tr><td>val_accuracy</td><td>▁▁</td></tr><tr><td>val_f1</td><td>▁▁</td></tr><tr><td>val_loss</td><td>▁█</td></tr><tr><td>val_precision</td><td>▁▁</td></tr></table><br/></div><div class=\"wandb-col\"><h3>Run summary:</h3><br/><table class=\"wandb\"><tr><td>accuracy</td><td>0.7494</td></tr><tr><td>f1</td><td>0.72008</td></tr><tr><td>loss</td><td>0.86485</td></tr><tr><td>precision</td><td>0.7373</td></tr><tr><td>val_accuracy</td><td>0.0</td></tr><tr><td>val_f1</td><td>0.0</td></tr><tr><td>val_loss</td><td>0.73381</td></tr><tr><td>val_precision</td><td>0.0</td></tr></table><br/></div></div>"
      ],
      "text/plain": [
       "<IPython.core.display.HTML object>"
      ]
     },
     "metadata": {},
     "output_type": "display_data"
    },
    {
     "data": {
      "text/html": [
       " View run <strong style=\"color:#cdcd00\">wobbly-butterfly-244</strong> at: <a href='https://wandb.ai/alex-antonides/stress-in-action/runs/1royn8ur' target=\"_blank\">https://wandb.ai/alex-antonides/stress-in-action/runs/1royn8ur</a><br/>Synced 5 W&B file(s), 0 media file(s), 0 artifact file(s) and 0 other file(s)"
      ],
      "text/plain": [
       "<IPython.core.display.HTML object>"
      ]
     },
     "metadata": {},
     "output_type": "display_data"
    },
    {
     "data": {
      "text/html": [
       "Find logs at: <code>.\\wandb\\run-20240509_143509-1royn8ur\\logs</code>"
      ],
      "text/plain": [
       "<IPython.core.display.HTML object>"
      ]
     },
     "metadata": {},
     "output_type": "display_data"
    },
    {
     "name": "stderr",
     "output_type": "stream",
     "text": [
      " 10%|█         | 1/10 [18:11:29<163:43:21, 65489.09s/it]"
     ]
    },
    {
     "name": "stdout",
     "output_type": "stream",
     "text": [
      "[W 2024-05-10 08:46:37,673] Trial 0 failed with parameters: {} because of the following error: The value nan is not acceptable.\n",
      "[W 2024-05-10 08:46:37,674] Trial 0 failed with value nan.\n"
     ]
    },
    {
     "data": {
      "text/html": [
       "wandb version 0.17.0 is available!  To upgrade, please run:\n",
       " $ pip install wandb --upgrade"
      ],
      "text/plain": [
       "<IPython.core.display.HTML object>"
      ]
     },
     "metadata": {},
     "output_type": "display_data"
    },
    {
     "data": {
      "text/html": [
       "Tracking run with wandb version 0.16.3"
      ],
      "text/plain": [
       "<IPython.core.display.HTML object>"
      ]
     },
     "metadata": {},
     "output_type": "display_data"
    },
    {
     "data": {
      "text/html": [
       "Run data is saved locally in <code>d:\\university\\thesis_old\\wandb\\run-20240510_084637-sexg21sm</code>"
      ],
      "text/plain": [
       "<IPython.core.display.HTML object>"
      ]
     },
     "metadata": {},
     "output_type": "display_data"
    },
    {
     "data": {
      "text/html": [
       "Syncing run <strong><a href='https://wandb.ai/alex-antonides/stress-in-action/runs/sexg21sm' target=\"_blank\">glamorous-silence-244</a></strong> to <a href='https://wandb.ai/alex-antonides/stress-in-action' target=\"_blank\">Weights & Biases</a> (<a href='https://wandb.me/run' target=\"_blank\">docs</a>)<br/>"
      ],
      "text/plain": [
       "<IPython.core.display.HTML object>"
      ]
     },
     "metadata": {},
     "output_type": "display_data"
    },
    {
     "data": {
      "text/html": [
       " View project at <a href='https://wandb.ai/alex-antonides/stress-in-action' target=\"_blank\">https://wandb.ai/alex-antonides/stress-in-action</a>"
      ],
      "text/plain": [
       "<IPython.core.display.HTML object>"
      ]
     },
     "metadata": {},
     "output_type": "display_data"
    },
    {
     "data": {
      "text/html": [
       " View run at <a href='https://wandb.ai/alex-antonides/stress-in-action/runs/sexg21sm' target=\"_blank\">https://wandb.ai/alex-antonides/stress-in-action/runs/sexg21sm</a>"
      ],
      "text/plain": [
       "<IPython.core.display.HTML object>"
      ]
     },
     "metadata": {},
     "output_type": "display_data"
    },
    {
     "name": "stderr",
     "output_type": "stream",
     "text": [
      "GPU available: True (cuda), used: True\n",
      "TPU available: False, using: 0 TPU cores\n",
      "IPU available: False, using: 0 IPUs\n",
      "HPU available: False, using: 0 HPUs\n",
      "LOCAL_RANK: 0 - CUDA_VISIBLE_DEVICES: [0]\n",
      "\n",
      "   | Name                 | Type             | Params\n",
      "-----------------------------------------------------------\n",
      "0  | l1                   | Sequential       | 1.3 K \n",
      "1  | l2                   | Sequential       | 164 K \n",
      "2  | l3                   | Sequential       | 98.7 K\n",
      "3  | gap                  | Sequential       | 0     \n",
      "4  | out                  | Linear           | 258   \n",
      "5  | train_accuracy       | BinaryAccuracy   | 0     \n",
      "6  | train_f1score        | BinaryF1Score    | 0     \n",
      "7  | train_precision      | BinaryPrecision  | 0     \n",
      "8  | train_loss           | CrossEntropyLoss | 0     \n",
      "9  | validation_accuracy  | BinaryAccuracy   | 0     \n",
      "10 | validation_f1score   | BinaryF1Score    | 0     \n",
      "11 | validation_precision | BinaryPrecision  | 0     \n",
      "12 | validation_loss      | CrossEntropyLoss | 0     \n",
      "13 | test_accuracy        | BinaryAccuracy   | 0     \n",
      "14 | test_f1score         | BinaryF1Score    | 0     \n",
      "15 | test_precision       | BinaryPrecision  | 0     \n",
      "16 | test_loss            | CrossEntropyLoss | 0     \n",
      "-----------------------------------------------------------\n",
      "264 K     Trainable params\n",
      "0         Non-trainable params\n",
      "264 K     Total params\n",
      "1.059     Total estimated model params size (MB)\n"
     ]
    },
    {
     "name": "stdout",
     "output_type": "stream",
     "text": [
      "Epoch 3:  24%|██▎       | 2898/12290 [44:20<2:23:42,  1.09it/s, v_num=107]  'val_accuracy'\n"
     ]
    },
    {
     "data": {
      "text/html": [
       "<style>\n",
       "    table.wandb td:nth-child(1) { padding: 0 10px; text-align: left ; width: auto;} td:nth-child(2) {text-align: left ; width: 100%}\n",
       "    .wandb-row { display: flex; flex-direction: row; flex-wrap: wrap; justify-content: flex-start; width: 100% }\n",
       "    .wandb-col { display: flex; flex-direction: column; flex-basis: 100%; flex: 1; padding: 10px; }\n",
       "    </style>\n",
       "<div class=\"wandb-row\"><div class=\"wandb-col\"><h3>Run history:</h3><br/><table class=\"wandb\"><tr><td>accuracy</td><td>█▆▄▄▃▃▂▂▂▂▂▂▂▂▂▂▁▁▁▁▁▁▁▁▁▁▁▁▁▁▁▁▁▁▁▁▁▂▂▂</td></tr><tr><td>f1</td><td>▇█▆▄▃▃▂▂▂▂▁▂▁▁▂▂▁▁▁▁▁▁▁▁▁▂▂▂▂▂▂▂▂▂▂▂▂▃▃▃</td></tr><tr><td>loss</td><td>▇▄▃▄▄▂▂▄▄▃▅▃▅▂▃▄▄▃▃▄▄▃▅▃▇▅▂▆▆▃▆▁▃▄▅▂▄█▂▄</td></tr><tr><td>precision</td><td>▇█▆▅▄▃▃▂▂▂▂▂▂▂▂▂▁▁▁▁▁▁▁▁▁▁▁▁▁▁▁▁▁▁▁▂▂▂▂▃</td></tr><tr><td>val_accuracy</td><td>▁▁</td></tr><tr><td>val_f1</td><td>▁▁</td></tr><tr><td>val_loss</td><td>▁█</td></tr><tr><td>val_precision</td><td>▁▁</td></tr></table><br/></div><div class=\"wandb-col\"><h3>Run summary:</h3><br/><table class=\"wandb\"><tr><td>accuracy</td><td>0.50113</td></tr><tr><td>f1</td><td>0.42604</td></tr><tr><td>loss</td><td>2.25617</td></tr><tr><td>precision</td><td>0.451</td></tr><tr><td>val_accuracy</td><td>0.0</td></tr><tr><td>val_f1</td><td>0.0</td></tr><tr><td>val_loss</td><td>0.69403</td></tr><tr><td>val_precision</td><td>0.0</td></tr></table><br/></div></div>"
      ],
      "text/plain": [
       "<IPython.core.display.HTML object>"
      ]
     },
     "metadata": {},
     "output_type": "display_data"
    },
    {
     "data": {
      "text/html": [
       " View run <strong style=\"color:#cdcd00\">glamorous-silence-244</strong> at: <a href='https://wandb.ai/alex-antonides/stress-in-action/runs/sexg21sm' target=\"_blank\">https://wandb.ai/alex-antonides/stress-in-action/runs/sexg21sm</a><br/>Synced 5 W&B file(s), 0 media file(s), 0 artifact file(s) and 0 other file(s)"
      ],
      "text/plain": [
       "<IPython.core.display.HTML object>"
      ]
     },
     "metadata": {},
     "output_type": "display_data"
    },
    {
     "data": {
      "text/html": [
       "Find logs at: <code>.\\wandb\\run-20240510_084637-sexg21sm\\logs</code>"
      ],
      "text/plain": [
       "<IPython.core.display.HTML object>"
      ]
     },
     "metadata": {},
     "output_type": "display_data"
    },
    {
     "name": "stderr",
     "output_type": "stream",
     "text": [
      "                                                        \r"
     ]
    },
    {
     "name": "stdout",
     "output_type": "stream",
     "text": [
      "                                                                          \r"
     ]
    },
    {
     "name": "stderr",
     "output_type": "stream",
     "text": [
      " 10%|█         | 1/10 [28:44:40<163:43:21, 65489.09s/it]"
     ]
    },
    {
     "name": "stdout",
     "output_type": "stream",
     "text": [
      "[W 2024-05-10 19:19:49,063] Trial 1 failed with parameters: {} because of the following error: The value nan is not acceptable.\n",
      "Epoch 3:  24%|██▎       | 2898/12290 [44:27<2:24:05,  1.09it/s, v_num=107]"
     ]
    },
    {
     "name": "stderr",
     "output_type": "stream",
     "text": [
      "                                                        \r"
     ]
    },
    {
     "name": "stdout",
     "output_type": "stream",
     "text": [
      "                                                                          \r"
     ]
    },
    {
     "name": "stderr",
     "output_type": "stream",
     "text": [
      " 10%|█         | 1/10 [28:44:40<163:43:21, 65489.09s/it]"
     ]
    },
    {
     "name": "stdout",
     "output_type": "stream",
     "text": [
      "[W 2024-05-10 19:19:49,068] Trial 1 failed with value nan.\n",
      "Epoch 3:  24%|██▎       | 2898/12290 [44:27<2:24:05,  1.09it/s, v_num=107]"
     ]
    },
    {
     "name": "stderr",
     "output_type": "stream",
     "text": [
      " 20%|██        | 2/10 [28:44:40<109:35:11, 49313.97s/it]"
     ]
    },
    {
     "data": {
      "text/html": [
       "wandb version 0.17.0 is available!  To upgrade, please run:\n",
       " $ pip install wandb --upgrade"
      ],
      "text/plain": [
       "<IPython.core.display.HTML object>"
      ]
     },
     "metadata": {},
     "output_type": "display_data"
    },
    {
     "data": {
      "text/html": [
       "Tracking run with wandb version 0.16.3"
      ],
      "text/plain": [
       "<IPython.core.display.HTML object>"
      ]
     },
     "metadata": {},
     "output_type": "display_data"
    },
    {
     "data": {
      "text/html": [
       "Run data is saved locally in <code>d:\\university\\thesis_old\\wandb\\run-20240510_191949-1gs6uz7j</code>"
      ],
      "text/plain": [
       "<IPython.core.display.HTML object>"
      ]
     },
     "metadata": {},
     "output_type": "display_data"
    },
    {
     "data": {
      "text/html": [
       "Syncing run <strong><a href='https://wandb.ai/alex-antonides/stress-in-action/runs/1gs6uz7j' target=\"_blank\">giddy-wind-245</a></strong> to <a href='https://wandb.ai/alex-antonides/stress-in-action' target=\"_blank\">Weights & Biases</a> (<a href='https://wandb.me/run' target=\"_blank\">docs</a>)<br/>"
      ],
      "text/plain": [
       "<IPython.core.display.HTML object>"
      ]
     },
     "metadata": {},
     "output_type": "display_data"
    },
    {
     "data": {
      "text/html": [
       " View project at <a href='https://wandb.ai/alex-antonides/stress-in-action' target=\"_blank\">https://wandb.ai/alex-antonides/stress-in-action</a>"
      ],
      "text/plain": [
       "<IPython.core.display.HTML object>"
      ]
     },
     "metadata": {},
     "output_type": "display_data"
    },
    {
     "data": {
      "text/html": [
       " View run at <a href='https://wandb.ai/alex-antonides/stress-in-action/runs/1gs6uz7j' target=\"_blank\">https://wandb.ai/alex-antonides/stress-in-action/runs/1gs6uz7j</a>"
      ],
      "text/plain": [
       "<IPython.core.display.HTML object>"
      ]
     },
     "metadata": {},
     "output_type": "display_data"
    },
    {
     "name": "stderr",
     "output_type": "stream",
     "text": [
      "GPU available: True (cuda), used: True\n",
      "TPU available: False, using: 0 TPU cores\n",
      "IPU available: False, using: 0 IPUs\n",
      "HPU available: False, using: 0 HPUs\n"
     ]
    },
    {
     "name": "stdout",
     "output_type": "stream",
     "text": [
      "Epoch 3:  24%|██▎       | 2898/12290 [44:30<2:24:13,  1.09it/s, v_num=107]\n"
     ]
    }
   ],
   "source": [
    "def objective(trial):\n",
    "    params = {\n",
    "        \"epochs\": 11,\n",
    "        \"num_workers\": 8,\n",
    "        \"kfold\": 5, \n",
    "\n",
    "        \"batch_size\": 100, #trial.suggest_int(\"batch_size\", 10, 1024),\n",
    "        \"learning_rate\": 0.01,\n",
    "\n",
    "        \"window\": 30000 # trial.suggest_int(\"window\", 1000, 60000, step=1000),\n",
    "    }\n",
    "    params[\"window_shift\"] = 0.25 ##trial.suggest_float(\"window_shift\", 0.1, 1, step=0.05)\n",
    "    \n",
    "    wandb.init(\n",
    "        project='stress-in-action',\n",
    "        config={\n",
    "            \"epochs\": params['epochs'],\n",
    "            \"kfold\": params['kfold'],\n",
    "            \"batch_size\": params['batch_size'],\n",
    "            \"learning_rate\": params['learning_rate'],\n",
    "            \"window\": params['window'],\n",
    "            \"window_shift\": params['window_shift'],\n",
    "            \"architecture\": model_name,\n",
    "            \"dataset\": dataset\n",
    "        }\n",
    "    )\n",
    "\n",
    "    scores = []\n",
    "    for train_indices, val_indices in KFold(n_splits=params['kfold'], shuffle=True, random_state=42).split(train_participants):\n",
    "        try: \n",
    "            model = prepare_model(\n",
    "                model=model_module.Model, # assuming all models are named Model.\n",
    "                data=data_dir,\n",
    "                dataset=dataset_module.Dataset,\n",
    "                batch_size=params['batch_size'],\n",
    "                learning_rate=params['learning_rate'],\n",
    "                num_workers=params['num_workers'],\n",
    "                ignore_torch_format=False,\n",
    "                train_participants=[train_participants[i] for i in train_indices],\n",
    "                val_participants=[train_participants[i] for i in val_indices],\n",
    "                test_participants=test_participants,\n",
    "                dataset_kwargs={\n",
    "                    'window': params['window'],\n",
    "                    'step_size': int(params['window_shift'] * sampling_rate)\n",
    "                }\n",
    "            )\n",
    "\n",
    "            trainer = train(\n",
    "                model_name,\n",
    "                model=model,\n",
    "                epochs=params['epochs']\n",
    "            )\n",
    "\n",
    "            scores.append(trainer.callback_metrics[\"val_accuracy\"].item())\n",
    "        except Exception as e:\n",
    "            print(e)\n",
    "            break\n",
    "\n",
    "    wandb.finish()\n",
    "\n",
    "    return np.min([np.mean(scores), np.median([scores])])\n",
    "\n",
    "study = optuna.create_study(\n",
    "    study_name=f'{model}_{dataset}_{data_dir}_{str(uuid.uuid4())}',\n",
    "    storage=\"sqlite:///db.sqlite3\",\n",
    "    direction='maximize',\n",
    "    sampler=optuna.samplers.RandomSampler(seed=42)\n",
    ")\n",
    "\n",
    "study.optimize(\n",
    "    objective, \n",
    "    n_trials=10,\n",
    "    show_progress_bar=True\n",
    ")"
   ]
  },
  {
   "cell_type": "code",
   "execution_count": null,
   "metadata": {},
   "outputs": [],
   "source": [
    "import wandb"
   ]
  },
  {
   "cell_type": "code",
   "execution_count": null,
   "metadata": {},
   "outputs": [],
   "source": [
    "wandb.finish()"
   ]
  },
  {
   "cell_type": "code",
   "execution_count": null,
   "metadata": {},
   "outputs": [],
   "source": []
  }
 ],
 "metadata": {
  "kernelspec": {
   "display_name": "Python 3",
   "language": "python",
   "name": "python3"
  },
  "language_info": {
   "codemirror_mode": {
    "name": "ipython",
    "version": 3
   },
   "file_extension": ".py",
   "mimetype": "text/x-python",
   "name": "python",
   "nbconvert_exporter": "python",
   "pygments_lexer": "ipython3",
   "version": "3.11.5"
  }
 },
 "nbformat": 4,
 "nbformat_minor": 2
}
