{
 "cells": [
  {
   "cell_type": "code",
   "execution_count": 1,
   "metadata": {},
   "outputs": [],
   "source": [
    "import numpy as np "
   ]
  },
  {
   "cell_type": "code",
   "execution_count": 2,
   "metadata": {},
   "outputs": [],
   "source": [
    "from sia import Pipeline\n",
    "from sia.io import Metadata, read_edf, read_csv, read_dataset, write_csv, write_png, write_dataset\n",
    "from sia.preprocessors import neurokit\n",
    "from sia.transformers import as_window, scaleogram"
   ]
  },
  {
   "cell_type": "code",
   "execution_count": 3,
   "metadata": {},
   "outputs": [],
   "source": [
    "def encode_category(target):\n",
    "    def inner(label):\n",
    "        return {\n",
    "            'label': np.isin(label, target).astype(int)\n",
    "        }\n",
    "    return inner"
   ]
  },
  {
   "cell_type": "code",
   "execution_count": 4,
   "metadata": {},
   "outputs": [],
   "source": [
    "def resize(width: int, height: int):\n",
    "    def inner(image):\n",
    "        return {\n",
    "            'pixel_values': [x.convert(\"RGB\").resize((width, height)) for x in image]\n",
    "        }\n",
    "    return inner"
   ]
  },
  {
   "cell_type": "code",
   "execution_count": null,
   "metadata": {},
   "outputs": [],
   "source": [
    "Pipeline() \\\n",
    "    .data(\n",
    "        read_edf(\n",
    "            './data/ecg_raw/*.edf', \n",
    "            Metadata('./data/ecg_raw/TimeStamps_Merged.txt').on_regex(r'[0-9]{5}')\n",
    "        )\n",
    "    ) \\\n",
    "    .process(neurokit()) \\\n",
    "    .to(write_csv('./data/ecg_preprocessed/[0-9]{5}.csv'))"
   ]
  },
  {
   "cell_type": "code",
   "execution_count": null,
   "metadata": {},
   "outputs": [],
   "source": [
    "Pipeline() \\\n",
    "    .data(read_csv('./data/ecg_preprocessed/*.csv', ['ECG_Clean', 'category'])) \\\n",
    "    .rename({'ECG_Clean': 'signal', 'category': 'label'}) \\\n",
    "    .process(encode_category(['TA', 'SSST_Sing_countdown', 'Pasat', 'Raven', 'TA_repeat', 'Pasat_repeat'])) \\\n",
    "    .to(write_csv('./data/ecg_model/[0-9]{5}.csv'))"
   ]
  },
  {
   "cell_type": "code",
   "execution_count": null,
   "metadata": {},
   "outputs": [],
   "source": [
    "# Pipeline() \\\n",
    "#     .data(read_csv('./data/ecg_preprocessed/*.csv', ['ECG_Clean', 'category'])) \\\n",
    "#     .rename({'ECG_Clean': 'signal', 'category': 'label'}) \\\n",
    "#     .process(encode_category(['TA', 'SSST_Sing_countdown', 'Pasat', 'Raven', 'TA_repeat', 'Pasat_repeat'])) \\\n",
    "#     .process(as_window(1000)) \\\n",
    "#     .drop('signal') \\\n",
    "#     .to(write_csv('./data/ecg_windowed_model/[0-9]{5}.csv'))"
   ]
  },
  {
   "cell_type": "code",
   "execution_count": null,
   "metadata": {},
   "outputs": [],
   "source": [
    "Pipeline() \\\n",
    "    .data(read_csv('./data/ecg_preprocessed/*.csv', ['ECG_Clean', 'category'])) \\\n",
    "    .rename({'ECG_Clean': 'signal', 'category': 'label'}) \\\n",
    "    .process(scaleogram('morl')) \\\n",
    "    .to(write_png('./data/scaleograms/[0-9]{5}/'))"
   ]
  },
  {
   "cell_type": "code",
   "execution_count": null,
   "metadata": {},
   "outputs": [],
   "source": [
    "Pipeline() \\\n",
    "    .data(read_dataset('./data/scaleograms/**/')) \\\n",
    "    .process(resize(127, 127)) \\\n",
    "    .drop('image') \\\n",
    "    .to(write_dataset('./data/scaleograms_resized/[0-9]{5}/'))"
   ]
  }
 ],
 "metadata": {
  "kernelspec": {
   "display_name": "Python 3",
   "language": "python",
   "name": "python3"
  },
  "language_info": {
   "codemirror_mode": {
    "name": "ipython",
    "version": 3
   },
   "file_extension": ".py",
   "mimetype": "text/x-python",
   "name": "python",
   "nbconvert_exporter": "python",
   "pygments_lexer": "ipython3",
   "version": "3.11.5"
  }
 },
 "nbformat": 4,
 "nbformat_minor": 2
}
