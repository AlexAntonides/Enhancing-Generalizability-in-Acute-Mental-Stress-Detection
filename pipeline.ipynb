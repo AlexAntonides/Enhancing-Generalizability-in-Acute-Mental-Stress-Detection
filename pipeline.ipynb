{
 "cells": [
  {
   "cell_type": "code",
   "execution_count": 2,
   "metadata": {},
   "outputs": [],
   "source": [
    "from sia import Pipeline\n",
    "from sia.io import Metadata, read_edf, read_csv, write_csv\n",
    "from sia.preprocessors import neurokit"
   ]
  },
  {
   "cell_type": "code",
   "execution_count": 4,
   "metadata": {},
   "outputs": [],
   "source": [
    "import numpy as np \n",
    "\n",
    "target_labels = ['TA', 'SSST_Sing_countdown', 'Pasat', 'Raven', 'TA_repeat', 'Pasat_repeat']\n",
    "def encode_category(data: np.ndarray):\n",
    "    \"\"\"\n",
    "        From (ecg, category) to (ecg, bool)\n",
    "    \"\"\"\n",
    "    data[:, 1][~np.isin(data[:, 1], target_labels)] = 0\n",
    "    data[:, 1][np.isin(data[:, 1], target_labels)] = 1\n",
    "    return data"
   ]
  },
  {
   "cell_type": "code",
   "execution_count": null,
   "metadata": {},
   "outputs": [],
   "source": [
    "Pipeline() \\\n",
    "    .data(\n",
    "        read_edf(\n",
    "            './data/ecg_raw/*.edf', \n",
    "            Metadata('./data/ecg_raw/TimeStamps_Merged.txt').on_regex(r'[0-9]{5}')\n",
    "        )\n",
    "    ) \\\n",
    "    .preprocess(\n",
    "        butterworth()\n",
    "    ) \\\n",
    "    .preprocess(neurokit()) \\\n",
    "    .to(write_csv('./data/ecg_preprocessed/[0-9]{5}.csv'))"
   ]
  },
  {
   "cell_type": "code",
   "execution_count": null,
   "metadata": {},
   "outputs": [],
   "source": [
    "Pipeline() \\\n",
    "    .data(read_csv('./data/ecg_preprocessed/*.csv')) \\\n",
    "    .reduce(lambda x: x[:, [2,1]]) \\\n",
    "    .postprocess(encode_category) \\\n",
    "    .to(write_csv('./data/ecg_model/[0-9]{5}.csv'))"
   ]
  }
 ],
 "metadata": {
  "kernelspec": {
   "display_name": "Python 3",
   "language": "python",
   "name": "python3"
  },
  "language_info": {
   "codemirror_mode": {
    "name": "ipython",
    "version": 3
   },
   "file_extension": ".py",
   "mimetype": "text/x-python",
   "name": "python",
   "nbconvert_exporter": "python",
   "pygments_lexer": "ipython3",
   "version": "3.11.5"
  }
 },
 "nbformat": 4,
 "nbformat_minor": 2
}
