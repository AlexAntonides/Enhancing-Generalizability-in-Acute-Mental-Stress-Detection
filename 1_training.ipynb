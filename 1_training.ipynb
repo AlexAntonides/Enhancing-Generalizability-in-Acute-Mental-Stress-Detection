{
 "cells": [
  {
   "cell_type": "markdown",
   "metadata": {},
   "source": [
    "This repository is currently being overhauled. The older experiments can be found in `/deprecated`."
   ]
  },
  {
   "cell_type": "code",
   "execution_count": 3,
   "metadata": {},
   "outputs": [],
   "source": [
    "from glob import glob\n",
    "from pathlib import Path"
   ]
  },
  {
   "cell_type": "markdown",
   "metadata": {},
   "source": [
    "# Training\n",
    "The **[new]** training pipeline is defined in this notebook.\\\n",
    "This is still a work-in-progress, the older CLI used to initiate the process can be found in `deprecated/4_experiments_jul-aug/train.py`."
   ]
  },
  {
   "cell_type": "code",
   "execution_count": 2,
   "metadata": {},
   "outputs": [],
   "source": [
    "from src import prepare\n",
    "from src.models import RnnModule\n",
    "from src.datamodules import MultiParticipantDataModule\n",
    "from src.datasets import WindowedDataset"
   ]
  },
  {
   "cell_type": "code",
   "execution_count": 4,
   "metadata": {},
   "outputs": [],
   "source": [
    "root_dir = './data/signal/'\n",
    "participants = [Path(p).stem for p in glob(f'{root_dir}/*.csv')]"
   ]
  },
  {
   "cell_type": "code",
   "execution_count": null,
   "metadata": {},
   "outputs": [],
   "source": [
    "from sklearn.model_selection import train_test_split\n",
    "\n",
    "train_participants, test_participants = train_test_split(participants, test_size=0.2)\n",
    "train_participants, val_participants = train_test_split(train_participants, test_size=0.25)"
   ]
  },
  {
   "cell_type": "code",
   "execution_count": null,
   "metadata": {},
   "outputs": [],
   "source": [
    "# Model is a combination between a module that tracks metrics, and a model defined in src/models/*\n",
    "model = prepare(RnnModule)\n",
    "\n",
    "# Datamodule is a combination between a dataset that is capable of loading multiple participants, \n",
    "# and a dataset defined in src/datasets/*.\n",
    "datamodule = MultiParticipantDataModule(\n",
    "    f'{root_dir}', \n",
    "    train_participants, validation_participants, test_participants, \n",
    "    batch_size=64,\n",
    "    dataset=WindowedDataset,\n",
    "    standardize=True\n",
    ")"
   ]
  },
  {
   "cell_type": "code",
   "execution_count": null,
   "metadata": {},
   "outputs": [],
   "source": [
    "from lightning.pytorch.callbacks import ModelCheckpoint, EarlyStopping\n",
    "\n",
    "callbacks = [\n",
    "    EarlyStopping(monitor=\"val_loss\", patience=15),\n",
    "    ModelCheckpoint(save_top_k=1, monitor=\"val_BinaryAccuracy\", mode=\"max\", save_last=True)\n",
    "]"
   ]
  },
  {
   "cell_type": "code",
   "execution_count": null,
   "metadata": {},
   "outputs": [],
   "source": [
    "import lightning as L\n",
    "\n",
    "trainer = L.Trainer(\n",
    "    max_epochs=100, \n",
    "    callbacks=callbacks,\n",
    "    accelerator=\"auto\", \n",
    "    devices=\"auto\", \n",
    "    strategy=\"auto\", \n",
    "    profiler=\"simple\",\n",
    "    default_root_dir=f\"./checkpoints/{type(model).__name__}\",\n",
    "    logger=L.pytorch.loggers.WandbLogger(\n",
    "        project=\"stress-in-action\"\n",
    "    ),\n",
    ")"
   ]
  },
  {
   "cell_type": "code",
   "execution_count": null,
   "metadata": {},
   "outputs": [],
   "source": [
    "tuner = L.pytorch.tuner.Tuner(\n",
    "    trainer\n",
    ")\n",
    "\n",
    "trainer.fit(\n",
    "    model=model,\n",
    "    datamodule=datamodule\n",
    ")\n",
    "\n",
    "trainer.test(\n",
    "    ckpt_path=\"best\"\n",
    ")"
   ]
  }
 ],
 "metadata": {
  "kernelspec": {
   "display_name": "Python 3",
   "language": "python",
   "name": "python3"
  },
  "language_info": {
   "codemirror_mode": {
    "name": "ipython",
    "version": 3
   },
   "file_extension": ".py",
   "mimetype": "text/x-python",
   "name": "python",
   "nbconvert_exporter": "python",
   "pygments_lexer": "ipython3",
   "version": "3.11.5"
  }
 },
 "nbformat": 4,
 "nbformat_minor": 2
}
